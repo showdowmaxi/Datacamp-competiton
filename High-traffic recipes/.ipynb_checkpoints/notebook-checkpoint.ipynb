{
 "cells": [
  {
   "cell_type": "markdown",
   "id": "a3d4387f-fa24-4a80-906b-4cca195b6736",
   "metadata": {},
   "source": [
    "# High-traffic recipe prediction\n",
    "This project is for the data scientist associate practical exam. The exam evaluates the skills in data validation/visualization, model fitting/evaluation, and communication. Detailed information on rubrics can be found [here](https://app.datacamp.com/certification/resource-center/practical-hub#data-scientist-associate)\n",
    "\n",
    "### Background:\n",
    "An online business seeks to develop a model that predicts high-traffic recipes with 80% accuracy. This enables the product manager to make the best decisions, display popular recipes on the main page, and drive more traffic and subscribers. Achieving this prediction accuracy will help content and audience engagement strategy development and business growth."
   ]
  },
  {
   "cell_type": "markdown",
   "id": "e6afa226-938e-4631-af9a-1dd0fc361c4b",
   "metadata": {
    "jupyter": {
     "outputs_hidden": false,
     "source_hidden": false
    }
   },
   "source": [
    "## Data validation:\n",
    "The original dataset have 947 rows and 8 columns\n",
    "- recipe, there is not missing values and it is numeric\n",
    "- calories, there are 52 missing values and drop rows contains missing values\n",
    "- carbohydrate, there are 52 missing values and drop rows contains missing values\n",
    "- sugar, there are 52 missing values and drop rows contains missing values\n",
    "- protein, there are 52 missing values and drop rows contains missing values\n",
    "- category, there are 11 categories, update Chicken Breast as Chicken\n",
    "- servings, there 6 different strings, update '4 as a snack' as '4', '6 as a snack' as '6' and convert the entire group value as int\n",
    "- high_traffic, there are 373 missing values and replace these missing values as Low\n",
    "\n",
    "The final dataset have 895 rows and 8 columns\n",
    "\n",
    "## Exploratory Analysis:\n",
    "### Popularity distribution\n",
    "![img](p1.png)\n",
    "\n",
    "The cleaned dataset consists of 535 data points labeled as High and 360 data points labeled as Low in the high_traffic category. The distribution of the dataset is not perfectly balanced(50-50), but it is acceptable for predicting high-traffic category.\n",
    "\n",
    "### Category and servings\n",
    "![img](p2.png)\n",
    "\n",
    "There are 10 groups in the recipe category. Among these categories, the most popular one is Chicken with 163 recipes, followed by Breakfast with 106 recipes. On the other hand, The least popular category is One Dish Meal, which only has 67 recipes.\n",
    "\n",
    "![img](p3.png) \n",
    "\n",
    "![img](p4.png)\n",
    "\n",
    "![img](p5.png)\n",
    "\n",
    "Even though Chicken recipes have the highest number of recipes, it also has the highest number of low traffic(94 out of 163). Similarly, 73 out of 106 breakfast recipes are unpopular. Interestingly, for beverage recipes(92), only 5 of them are popular. In contrast, vegetable (1 out of 78), potato(5 out of 83), and pork(7 out of 73) have the lowest number of unpopular recipes.\n",
    "\n",
    "Additionally, there are four serving size groups, which are 1,2,4,5 respectively. Most of the recipes in the dataset are intended to serve four people. Recipes for serving four people have the highest number of popular and unpopular recipes than in other serving-size groups.\n",
    "\n",
    "Category and servings may be the key factors to determine high-traffic recipes.\n",
    "### Nutrition Facts\n",
    "![img](p6.png)\n",
    "![img](p7.png)\n",
    "![img](p8.png)\n",
    "![img](p9.png)\n",
    "\n",
    "From nutrition facts(calories, carbohydrates, sugar, protein), there are no noticeable patterns for different categories and servings.\n",
    "\n",
    "## Model Development & Evaluation\n",
    "### Model selection\n",
    "- This is a supervised classification problem since traffic high has been labeled \n",
    "- Models try in this case are GaussianNB, LogisticRegression, DecisionTreeClassifier and GradientBoostingClassifier\n",
    "- GaussianNB and LogisticRegression do not pass model assumptions\n",
    "- Models used for comparisions are DecisionTreeClassifier and GradientBoostingClassifier\n",
    "\n",
    "### Model comparisons\n",
    "![img](p10.png)\n",
    "\n",
    "- The team aims to achieve 80% accuracy on model predictions, correctly classified popular and unpopular recipes\n",
    "-  The dataset was divided into three parts for model training, testing, and validating 65% of the data used for training, and the remaining data was split by 80% for testing and 20% for validating\n",
    "-  Besides accuracy, recall, accuracy, and F1 are important metrics to measure model performance\n",
    "    - Precision, the proportion of predicted high-traffic recipes out of all predicted high-traffic recipes. Higher precision, lower false positives, less unpopular recipes identified as popular ones\n",
    "    - Recall, the proportion of predicted high-traffic recipes out of all high-traffic recipes. Higher recall, lower false negatives, less popular recipes identified as unpopular ones\n",
    "    - F1, the measure of the balance of the model for precision and recall.\n",
    "- After tuning hyperparameters, the DecisionTreeClassifier and GradientBoostingClassifier model make improvements on accuracy, recall, accuracy, and F1 \n",
    "\n",
    "## Metric for the business\n",
    "![img](p10.png)\n",
    "\n",
    "- Comparing models before/after tuning models on testing sets, both tuned models achieved 80% accuracy\n",
    "- The winning model is DecisionTreeClassifier\n",
    "- It has a higher value of accuracy, recall, accuracy, and F1 than that in GradientBoostingClassifier\n",
    "\n",
    "![img](p11.png)\n",
    "\n",
    "From the DecisionTreeClassifier model, the top 3 important features are  Beverage, Breakfast, and Chicken. This is due to their large base in the dataset.\n",
    "\n",
    "## Summary\n",
    "For predicting popular recipes, the DecisionTreeClassifier model can be implemented into the business by correctly predicting high-traffic recipes with 80% accuracy. This would help the team to identify high-traffic recipes to improve traffic and obtain more subscribers with relevant business strategies.\n",
    "\n",
    "To recommend the next step:\n",
    "- Testing the model with other datasets and evaluating its performance if correctly predicting high-traffic recipes 80% of the time\n",
    "- Creating a confusion matrix to identify factors that contributed to misclassification and refining the model by tuning hyperparameters or feature engineering if the model fails to achieve the desired goal of accuracy \n",
    "- Deploying/ Integrating the model into the business pipeline/environment to continue monitoring the model performance\n",
    "- Implementing a monitor system to track and alter any significant change in the model by collecting feedback to access if the model correctly predicts high-traffic recipes\n",
    "- Updating the model periodically with new data to ensure its performance aligns with business metrics on high traffic\n",
    "- Preparing alternative models as backups in case of DecisionTreeClassifier model fails to achieve the desired accuracy in previous steps, potential backup models are Random Forest or Neural Networks"
   ]
  },
  {
   "cell_type": "code",
   "execution_count": 1,
   "id": "3e8c7e68-70d2-4175-84bc-da688e7f77e9",
   "metadata": {
    "executionCancelledAt": null,
    "executionTime": 1453,
    "lastExecutedAt": 1688603986113,
    "lastScheduledRunId": null,
    "lastSuccessfullyExecutedCode": "import pandas as pd\n\n\nfrom sklearn.model_selection import train_test_split, GridSearchCV\nfrom sklearn.metrics import accuracy_score, f1_score, precision_score, recall_score, confusion_matrix, ConfusionMatrixDisplay\nfrom sklearn.naive_bayes import GaussianNB\nfrom sklearn.linear_model import LogisticRegression\nfrom sklearn.tree import DecisionTreeClassifier\nfrom sklearn.ensemble import GradientBoostingClassifier\nimport statsmodels.api as sm\n\nimport seaborn as sns\nimport matplotlib.pyplot as plt\n\nsns.set_style('darkgrid')"
   },
   "outputs": [],
   "source": [
    "import pandas as pd\n",
    "\n",
    "\n",
    "from sklearn.model_selection import train_test_split, GridSearchCV\n",
    "from sklearn.metrics import accuracy_score, f1_score, precision_score, recall_score, confusion_matrix, ConfusionMatrixDisplay\n",
    "from sklearn.naive_bayes import GaussianNB\n",
    "from sklearn.linear_model import LogisticRegression\n",
    "from sklearn.tree import DecisionTreeClassifier\n",
    "from sklearn.ensemble import GradientBoostingClassifier\n",
    "import statsmodels.api as sm\n",
    "\n",
    "import seaborn as sns\n",
    "import matplotlib.pyplot as plt\n",
    "\n",
    "sns.set_style('darkgrid')"
   ]
  },
  {
   "cell_type": "code",
   "execution_count": 2,
   "id": "dcd3dfe2-6048-4e75-8232-a4901d4d4d39",
   "metadata": {
    "executionCancelledAt": null,
    "executionTime": 46,
    "lastExecutedAt": 1688603986160,
    "lastScheduledRunId": null,
    "lastSuccessfullyExecutedCode": "#load data\ndata  = pd.read_csv('recipe_site_traffic_2212.csv')\n\n#make a copy\ndf = data.copy()"
   },
   "outputs": [],
   "source": [
    "#load data\n",
    "data  = pd.read_csv('recipe_site_traffic_2212.csv')\n",
    "\n",
    "#make a copy\n",
    "df = data.copy()"
   ]
  },
  {
   "cell_type": "code",
   "execution_count": 3,
   "id": "bb207d3b-0348-40be-b6ed-fca060dfd6ce",
   "metadata": {
    "executionCancelledAt": null,
    "executionTime": 47,
    "lastExecutedAt": 1688603986207,
    "lastScheduledRunId": null,
    "lastSuccessfullyExecutedCode": "#check data description\ndf.describe(include='all')"
   },
   "outputs": [
    {
     "data": {
      "application/com.datacamp.data-table.v1+json": {
       "table": {
        "data": [
         {
          "calories": 895,
          "carbohydrate": 895,
          "category": 947,
          "high_traffic": 574,
          "index": "count",
          "protein": 895,
          "recipe": 947,
          "servings": 947,
          "sugar": 895
         },
         {
          "calories": null,
          "carbohydrate": null,
          "category": 11,
          "high_traffic": 1,
          "index": "unique",
          "protein": null,
          "recipe": null,
          "servings": 6,
          "sugar": null
         },
         {
          "calories": null,
          "carbohydrate": null,
          "category": "Breakfast",
          "high_traffic": "High",
          "index": "top",
          "protein": null,
          "recipe": null,
          "servings": "4",
          "sugar": null
         },
         {
          "calories": null,
          "carbohydrate": null,
          "category": 106,
          "high_traffic": 574,
          "index": "freq",
          "protein": null,
          "recipe": null,
          "servings": 389,
          "sugar": null
         },
         {
          "calories": 435.9391955307,
          "carbohydrate": 35.0696759777,
          "category": null,
          "high_traffic": null,
          "index": "mean",
          "protein": 24.1492960894,
          "recipe": 474,
          "servings": null,
          "sugar": 9.046547486
         },
         {
          "calories": 453.0209971775,
          "carbohydrate": 43.9490319812,
          "category": null,
          "high_traffic": null,
          "index": "std",
          "protein": 36.3697385865,
          "recipe": 273.5196519448,
          "servings": null,
          "sugar": 14.6791758036
         },
         {
          "calories": 0.14,
          "carbohydrate": 0.03,
          "category": null,
          "high_traffic": null,
          "index": "min",
          "protein": 0,
          "recipe": 1,
          "servings": null,
          "sugar": 0.01
         },
         {
          "calories": 110.43,
          "carbohydrate": 8.375,
          "category": null,
          "high_traffic": null,
          "index": "25%",
          "protein": 3.195,
          "recipe": 237.5,
          "servings": null,
          "sugar": 1.69
         },
         {
          "calories": 288.55,
          "carbohydrate": 21.48,
          "category": null,
          "high_traffic": null,
          "index": "50%",
          "protein": 10.8,
          "recipe": 474,
          "servings": null,
          "sugar": 4.55
         },
         {
          "calories": 597.65,
          "carbohydrate": 44.965,
          "category": null,
          "high_traffic": null,
          "index": "75%",
          "protein": 30.2,
          "recipe": 710.5,
          "servings": null,
          "sugar": 9.8
         },
         {
          "calories": 3633.16,
          "carbohydrate": 530.42,
          "category": null,
          "high_traffic": null,
          "index": "max",
          "protein": 363.36,
          "recipe": 947,
          "servings": null,
          "sugar": 148.75
         }
        ],
        "schema": {
         "fields": [
          {
           "name": "index",
           "type": "string"
          },
          {
           "name": "recipe",
           "type": "number"
          },
          {
           "name": "calories",
           "type": "number"
          },
          {
           "name": "carbohydrate",
           "type": "number"
          },
          {
           "name": "sugar",
           "type": "number"
          },
          {
           "name": "protein",
           "type": "number"
          },
          {
           "name": "category",
           "type": "string"
          },
          {
           "name": "servings",
           "type": "string"
          },
          {
           "name": "high_traffic",
           "type": "string"
          }
         ],
         "pandas_version": "1.4.0",
         "primaryKey": [
          "index"
         ]
        }
       },
       "total_rows": 11,
       "truncation_type": null
      },
      "text/html": [
       "<div>\n",
       "<style scoped>\n",
       "    .dataframe tbody tr th:only-of-type {\n",
       "        vertical-align: middle;\n",
       "    }\n",
       "\n",
       "    .dataframe tbody tr th {\n",
       "        vertical-align: top;\n",
       "    }\n",
       "\n",
       "    .dataframe thead th {\n",
       "        text-align: right;\n",
       "    }\n",
       "</style>\n",
       "<table border=\"1\" class=\"dataframe\">\n",
       "  <thead>\n",
       "    <tr style=\"text-align: right;\">\n",
       "      <th></th>\n",
       "      <th>recipe</th>\n",
       "      <th>calories</th>\n",
       "      <th>carbohydrate</th>\n",
       "      <th>sugar</th>\n",
       "      <th>protein</th>\n",
       "      <th>category</th>\n",
       "      <th>servings</th>\n",
       "      <th>high_traffic</th>\n",
       "    </tr>\n",
       "  </thead>\n",
       "  <tbody>\n",
       "    <tr>\n",
       "      <th>count</th>\n",
       "      <td>947.000000</td>\n",
       "      <td>895.000000</td>\n",
       "      <td>895.000000</td>\n",
       "      <td>895.000000</td>\n",
       "      <td>895.000000</td>\n",
       "      <td>947</td>\n",
       "      <td>947</td>\n",
       "      <td>574</td>\n",
       "    </tr>\n",
       "    <tr>\n",
       "      <th>unique</th>\n",
       "      <td>NaN</td>\n",
       "      <td>NaN</td>\n",
       "      <td>NaN</td>\n",
       "      <td>NaN</td>\n",
       "      <td>NaN</td>\n",
       "      <td>11</td>\n",
       "      <td>6</td>\n",
       "      <td>1</td>\n",
       "    </tr>\n",
       "    <tr>\n",
       "      <th>top</th>\n",
       "      <td>NaN</td>\n",
       "      <td>NaN</td>\n",
       "      <td>NaN</td>\n",
       "      <td>NaN</td>\n",
       "      <td>NaN</td>\n",
       "      <td>Breakfast</td>\n",
       "      <td>4</td>\n",
       "      <td>High</td>\n",
       "    </tr>\n",
       "    <tr>\n",
       "      <th>freq</th>\n",
       "      <td>NaN</td>\n",
       "      <td>NaN</td>\n",
       "      <td>NaN</td>\n",
       "      <td>NaN</td>\n",
       "      <td>NaN</td>\n",
       "      <td>106</td>\n",
       "      <td>389</td>\n",
       "      <td>574</td>\n",
       "    </tr>\n",
       "    <tr>\n",
       "      <th>mean</th>\n",
       "      <td>474.000000</td>\n",
       "      <td>435.939196</td>\n",
       "      <td>35.069676</td>\n",
       "      <td>9.046547</td>\n",
       "      <td>24.149296</td>\n",
       "      <td>NaN</td>\n",
       "      <td>NaN</td>\n",
       "      <td>NaN</td>\n",
       "    </tr>\n",
       "    <tr>\n",
       "      <th>std</th>\n",
       "      <td>273.519652</td>\n",
       "      <td>453.020997</td>\n",
       "      <td>43.949032</td>\n",
       "      <td>14.679176</td>\n",
       "      <td>36.369739</td>\n",
       "      <td>NaN</td>\n",
       "      <td>NaN</td>\n",
       "      <td>NaN</td>\n",
       "    </tr>\n",
       "    <tr>\n",
       "      <th>min</th>\n",
       "      <td>1.000000</td>\n",
       "      <td>0.140000</td>\n",
       "      <td>0.030000</td>\n",
       "      <td>0.010000</td>\n",
       "      <td>0.000000</td>\n",
       "      <td>NaN</td>\n",
       "      <td>NaN</td>\n",
       "      <td>NaN</td>\n",
       "    </tr>\n",
       "    <tr>\n",
       "      <th>25%</th>\n",
       "      <td>237.500000</td>\n",
       "      <td>110.430000</td>\n",
       "      <td>8.375000</td>\n",
       "      <td>1.690000</td>\n",
       "      <td>3.195000</td>\n",
       "      <td>NaN</td>\n",
       "      <td>NaN</td>\n",
       "      <td>NaN</td>\n",
       "    </tr>\n",
       "    <tr>\n",
       "      <th>50%</th>\n",
       "      <td>474.000000</td>\n",
       "      <td>288.550000</td>\n",
       "      <td>21.480000</td>\n",
       "      <td>4.550000</td>\n",
       "      <td>10.800000</td>\n",
       "      <td>NaN</td>\n",
       "      <td>NaN</td>\n",
       "      <td>NaN</td>\n",
       "    </tr>\n",
       "    <tr>\n",
       "      <th>75%</th>\n",
       "      <td>710.500000</td>\n",
       "      <td>597.650000</td>\n",
       "      <td>44.965000</td>\n",
       "      <td>9.800000</td>\n",
       "      <td>30.200000</td>\n",
       "      <td>NaN</td>\n",
       "      <td>NaN</td>\n",
       "      <td>NaN</td>\n",
       "    </tr>\n",
       "    <tr>\n",
       "      <th>max</th>\n",
       "      <td>947.000000</td>\n",
       "      <td>3633.160000</td>\n",
       "      <td>530.420000</td>\n",
       "      <td>148.750000</td>\n",
       "      <td>363.360000</td>\n",
       "      <td>NaN</td>\n",
       "      <td>NaN</td>\n",
       "      <td>NaN</td>\n",
       "    </tr>\n",
       "  </tbody>\n",
       "</table>\n",
       "</div>"
      ],
      "text/plain": [
       "            recipe     calories  carbohydrate  ...   category  servings high_traffic\n",
       "count   947.000000   895.000000    895.000000  ...        947       947          574\n",
       "unique         NaN          NaN           NaN  ...         11         6            1\n",
       "top            NaN          NaN           NaN  ...  Breakfast         4         High\n",
       "freq           NaN          NaN           NaN  ...        106       389          574\n",
       "mean    474.000000   435.939196     35.069676  ...        NaN       NaN          NaN\n",
       "std     273.519652   453.020997     43.949032  ...        NaN       NaN          NaN\n",
       "min       1.000000     0.140000      0.030000  ...        NaN       NaN          NaN\n",
       "25%     237.500000   110.430000      8.375000  ...        NaN       NaN          NaN\n",
       "50%     474.000000   288.550000     21.480000  ...        NaN       NaN          NaN\n",
       "75%     710.500000   597.650000     44.965000  ...        NaN       NaN          NaN\n",
       "max     947.000000  3633.160000    530.420000  ...        NaN       NaN          NaN\n",
       "\n",
       "[11 rows x 8 columns]"
      ]
     },
     "execution_count": 3,
     "metadata": {},
     "output_type": "execute_result"
    }
   ],
   "source": [
    "#check data description\n",
    "df.describe(include='all')"
   ]
  },
  {
   "cell_type": "code",
   "execution_count": 4,
   "id": "e629189b-1876-47ef-a7ab-9fe764e2975a",
   "metadata": {
    "executionCancelledAt": null,
    "executionTime": 51,
    "lastExecutedAt": 1688603986259,
    "lastScheduledRunId": null,
    "lastSuccessfullyExecutedCode": "#check the data type\ndf.info()"
   },
   "outputs": [
    {
     "name": "stdout",
     "output_type": "stream",
     "text": [
      "<class 'pandas.core.frame.DataFrame'>\n",
      "RangeIndex: 947 entries, 0 to 946\n",
      "Data columns (total 8 columns):\n",
      " #   Column        Non-Null Count  Dtype  \n",
      "---  ------        --------------  -----  \n",
      " 0   recipe        947 non-null    int64  \n",
      " 1   calories      895 non-null    float64\n",
      " 2   carbohydrate  895 non-null    float64\n",
      " 3   sugar         895 non-null    float64\n",
      " 4   protein       895 non-null    float64\n",
      " 5   category      947 non-null    object \n",
      " 6   servings      947 non-null    object \n",
      " 7   high_traffic  574 non-null    object \n",
      "dtypes: float64(4), int64(1), object(3)\n",
      "memory usage: 59.3+ KB\n"
     ]
    }
   ],
   "source": [
    "#check the data type\n",
    "df.info()"
   ]
  },
  {
   "cell_type": "code",
   "execution_count": 5,
   "id": "508577d1-03c6-4e0c-999b-650cbe1cbb2f",
   "metadata": {
    "executionCancelledAt": null,
    "executionTime": 60,
    "lastExecutedAt": 1688603986319,
    "lastScheduledRunId": null,
    "lastSuccessfullyExecutedCode": "#check the first few row\ndf.head(3)"
   },
   "outputs": [
    {
     "data": {
      "application/com.datacamp.data-table.v1+json": {
       "table": {
        "data": [
         {
          "calories": null,
          "carbohydrate": null,
          "category": "Pork",
          "high_traffic": "High",
          "index": 0,
          "protein": null,
          "recipe": 1,
          "servings": "6",
          "sugar": null
         },
         {
          "calories": 35.48,
          "carbohydrate": 38.56,
          "category": "Potato",
          "high_traffic": "High",
          "index": 1,
          "protein": 0.92,
          "recipe": 2,
          "servings": "4",
          "sugar": 0.66
         },
         {
          "calories": 914.28,
          "carbohydrate": 42.68,
          "category": "Breakfast",
          "high_traffic": null,
          "index": 2,
          "protein": 2.88,
          "recipe": 3,
          "servings": "1",
          "sugar": 3.09
         }
        ],
        "schema": {
         "fields": [
          {
           "name": "index",
           "type": "integer"
          },
          {
           "name": "recipe",
           "type": "integer"
          },
          {
           "name": "calories",
           "type": "number"
          },
          {
           "name": "carbohydrate",
           "type": "number"
          },
          {
           "name": "sugar",
           "type": "number"
          },
          {
           "name": "protein",
           "type": "number"
          },
          {
           "name": "category",
           "type": "string"
          },
          {
           "name": "servings",
           "type": "string"
          },
          {
           "name": "high_traffic",
           "type": "string"
          }
         ],
         "pandas_version": "1.4.0",
         "primaryKey": [
          "index"
         ]
        }
       },
       "total_rows": 3,
       "truncation_type": null
      },
      "text/html": [
       "<div>\n",
       "<style scoped>\n",
       "    .dataframe tbody tr th:only-of-type {\n",
       "        vertical-align: middle;\n",
       "    }\n",
       "\n",
       "    .dataframe tbody tr th {\n",
       "        vertical-align: top;\n",
       "    }\n",
       "\n",
       "    .dataframe thead th {\n",
       "        text-align: right;\n",
       "    }\n",
       "</style>\n",
       "<table border=\"1\" class=\"dataframe\">\n",
       "  <thead>\n",
       "    <tr style=\"text-align: right;\">\n",
       "      <th></th>\n",
       "      <th>recipe</th>\n",
       "      <th>calories</th>\n",
       "      <th>carbohydrate</th>\n",
       "      <th>sugar</th>\n",
       "      <th>protein</th>\n",
       "      <th>category</th>\n",
       "      <th>servings</th>\n",
       "      <th>high_traffic</th>\n",
       "    </tr>\n",
       "  </thead>\n",
       "  <tbody>\n",
       "    <tr>\n",
       "      <th>0</th>\n",
       "      <td>1</td>\n",
       "      <td>NaN</td>\n",
       "      <td>NaN</td>\n",
       "      <td>NaN</td>\n",
       "      <td>NaN</td>\n",
       "      <td>Pork</td>\n",
       "      <td>6</td>\n",
       "      <td>High</td>\n",
       "    </tr>\n",
       "    <tr>\n",
       "      <th>1</th>\n",
       "      <td>2</td>\n",
       "      <td>35.48</td>\n",
       "      <td>38.56</td>\n",
       "      <td>0.66</td>\n",
       "      <td>0.92</td>\n",
       "      <td>Potato</td>\n",
       "      <td>4</td>\n",
       "      <td>High</td>\n",
       "    </tr>\n",
       "    <tr>\n",
       "      <th>2</th>\n",
       "      <td>3</td>\n",
       "      <td>914.28</td>\n",
       "      <td>42.68</td>\n",
       "      <td>3.09</td>\n",
       "      <td>2.88</td>\n",
       "      <td>Breakfast</td>\n",
       "      <td>1</td>\n",
       "      <td>NaN</td>\n",
       "    </tr>\n",
       "  </tbody>\n",
       "</table>\n",
       "</div>"
      ],
      "text/plain": [
       "   recipe  calories  carbohydrate  ...   category  servings high_traffic\n",
       "0       1       NaN           NaN  ...       Pork         6         High\n",
       "1       2     35.48         38.56  ...     Potato         4         High\n",
       "2       3    914.28         42.68  ...  Breakfast         1          NaN\n",
       "\n",
       "[3 rows x 8 columns]"
      ]
     },
     "execution_count": 5,
     "metadata": {},
     "output_type": "execute_result"
    }
   ],
   "source": [
    "#check the first few row\n",
    "df.head(3)"
   ]
  },
  {
   "cell_type": "code",
   "execution_count": 6,
   "id": "3f6ff0cd-ffa8-429d-8013-b7606284e4aa",
   "metadata": {
    "executionCancelledAt": null,
    "executionTime": 46,
    "lastExecutedAt": 1688603986366,
    "lastScheduledRunId": null,
    "lastSuccessfullyExecutedCode": "# fill missing value on high_traffic as Low\ndf['high_traffic'].fillna('Low', inplace=True)"
   },
   "outputs": [],
   "source": [
    "# fill missing value on high_traffic as Low\n",
    "df['high_traffic'].fillna('Low', inplace=True)"
   ]
  },
  {
   "cell_type": "code",
   "execution_count": 7,
   "id": "a949753c-7352-4aaa-8b88-7802a2bd8fc4",
   "metadata": {
    "executionCancelledAt": null,
    "executionTime": 48,
    "lastExecutedAt": 1688603986415,
    "lastScheduledRunId": null,
    "lastSuccessfullyExecutedCode": "#check the unique value of servings\ndf['servings'].unique()"
   },
   "outputs": [
    {
     "data": {
      "text/plain": [
       "array(['6', '4', '1', '2', '4 as a snack', '6 as a snack'], dtype=object)"
      ]
     },
     "execution_count": 7,
     "metadata": {},
     "output_type": "execute_result"
    }
   ],
   "source": [
    "#check the unique value of servings\n",
    "df['servings'].unique()"
   ]
  },
  {
   "cell_type": "code",
   "execution_count": 8,
   "id": "cc073381-58c6-4abb-ae5f-39abf188cd91",
   "metadata": {
    "executionCancelledAt": null,
    "executionTime": 47,
    "lastExecutedAt": 1688603986462,
    "lastScheduledRunId": null,
    "lastSuccessfullyExecutedCode": "# replace '4 as a snack' as '4', '6 as a snack' as '6' and convert into int\ndf['servings'] = df['servings'].apply(lambda x: int(x[0]))"
   },
   "outputs": [],
   "source": [
    "# replace '4 as a snack' as '4', '6 as a snack' as '6' and convert into int\n",
    "df['servings'] = df['servings'].apply(lambda x: int(x[0]))"
   ]
  },
  {
   "cell_type": "code",
   "execution_count": 9,
   "id": "3393dc15-48bf-4cee-ae2f-52027aab3a2b",
   "metadata": {
    "executionCancelledAt": null,
    "executionTime": 48,
    "lastExecutedAt": 1688603986511,
    "lastScheduledRunId": null,
    "lastSuccessfullyExecutedCode": "#checking the value category\ndf['category'].value_counts()"
   },
   "outputs": [
    {
     "data": {
      "text/plain": [
       "Breakfast         106\n",
       "Chicken Breast     98\n",
       "Beverages          92\n",
       "Lunch/Snacks       89\n",
       "Potato             88\n",
       "Pork               84\n",
       "Vegetable          83\n",
       "Dessert            83\n",
       "Meat               79\n",
       "Chicken            74\n",
       "One Dish Meal      71\n",
       "Name: category, dtype: int64"
      ]
     },
     "execution_count": 9,
     "metadata": {},
     "output_type": "execute_result"
    }
   ],
   "source": [
    "#checking the value category\n",
    "df['category'].value_counts()"
   ]
  },
  {
   "cell_type": "code",
   "execution_count": 10,
   "id": "ccd74793-97bb-4b4f-a4e1-4056894ba86e",
   "metadata": {
    "executionCancelledAt": null,
    "executionTime": 47,
    "lastExecutedAt": 1688603986558,
    "lastScheduledRunId": null,
    "lastSuccessfullyExecutedCode": "#set chicken bresat as chcken\ndf.loc[df['category'] == 'Chicken Breast',  'category'] = 'Chicken'"
   },
   "outputs": [],
   "source": [
    "#set chicken bresat as chcken\n",
    "df.loc[df['category'] == 'Chicken Breast',  'category'] = 'Chicken'"
   ]
  },
  {
   "cell_type": "code",
   "execution_count": 11,
   "id": "cce13ba4-88e9-4796-93f2-aafa557c0f78",
   "metadata": {
    "executionCancelledAt": null,
    "executionTime": 49,
    "lastExecutedAt": 1688603986608,
    "lastScheduledRunId": null,
    "lastSuccessfullyExecutedCode": "#check the missing rows\ndf.loc[df.isna().any(axis=1)]"
   },
   "outputs": [
    {
     "data": {
      "application/com.datacamp.data-table.v1+json": {
       "table": {
        "data": [
         {
          "calories": null,
          "carbohydrate": null,
          "category": "Pork",
          "high_traffic": "High",
          "index": 0,
          "protein": null,
          "recipe": 1,
          "servings": 6,
          "sugar": null
         },
         {
          "calories": null,
          "carbohydrate": null,
          "category": "Meat",
          "high_traffic": "Low",
          "index": 23,
          "protein": null,
          "recipe": 24,
          "servings": 2,
          "sugar": null
         },
         {
          "calories": null,
          "carbohydrate": null,
          "category": "Chicken",
          "high_traffic": "Low",
          "index": 48,
          "protein": null,
          "recipe": 49,
          "servings": 4,
          "sugar": null
         },
         {
          "calories": null,
          "carbohydrate": null,
          "category": "Meat",
          "high_traffic": "High",
          "index": 82,
          "protein": null,
          "recipe": 83,
          "servings": 4,
          "sugar": null
         },
         {
          "calories": null,
          "carbohydrate": null,
          "category": "Pork",
          "high_traffic": "High",
          "index": 89,
          "protein": null,
          "recipe": 90,
          "servings": 6,
          "sugar": null
         },
         {
          "calories": null,
          "carbohydrate": null,
          "category": "Chicken",
          "high_traffic": "High",
          "index": 116,
          "protein": null,
          "recipe": 117,
          "servings": 6,
          "sugar": null
         },
         {
          "calories": null,
          "carbohydrate": null,
          "category": "Dessert",
          "high_traffic": "High",
          "index": 121,
          "protein": null,
          "recipe": 122,
          "servings": 2,
          "sugar": null
         },
         {
          "calories": null,
          "carbohydrate": null,
          "category": "One Dish Meal",
          "high_traffic": "High",
          "index": 136,
          "protein": null,
          "recipe": 137,
          "servings": 2,
          "sugar": null
         },
         {
          "calories": null,
          "carbohydrate": null,
          "category": "Potato",
          "high_traffic": "High",
          "index": 149,
          "protein": null,
          "recipe": 150,
          "servings": 2,
          "sugar": null
         },
         {
          "calories": null,
          "carbohydrate": null,
          "category": "Pork",
          "high_traffic": "High",
          "index": 187,
          "protein": null,
          "recipe": 188,
          "servings": 4,
          "sugar": null
         },
         {
          "calories": null,
          "carbohydrate": null,
          "category": "Dessert",
          "high_traffic": "High",
          "index": 209,
          "protein": null,
          "recipe": 210,
          "servings": 2,
          "sugar": null
         },
         {
          "calories": null,
          "carbohydrate": null,
          "category": "Dessert",
          "high_traffic": "High",
          "index": 212,
          "protein": null,
          "recipe": 213,
          "servings": 4,
          "sugar": null
         },
         {
          "calories": null,
          "carbohydrate": null,
          "category": "Dessert",
          "high_traffic": "Low",
          "index": 221,
          "protein": null,
          "recipe": 222,
          "servings": 1,
          "sugar": null
         },
         {
          "calories": null,
          "carbohydrate": null,
          "category": "Chicken",
          "high_traffic": "Low",
          "index": 249,
          "protein": null,
          "recipe": 250,
          "servings": 6,
          "sugar": null
         },
         {
          "calories": null,
          "carbohydrate": null,
          "category": "Chicken",
          "high_traffic": "Low",
          "index": 262,
          "protein": null,
          "recipe": 263,
          "servings": 4,
          "sugar": null
         },
         {
          "calories": null,
          "carbohydrate": null,
          "category": "Lunch/Snacks",
          "high_traffic": "High",
          "index": 278,
          "protein": null,
          "recipe": 279,
          "servings": 4,
          "sugar": null
         },
         {
          "calories": null,
          "carbohydrate": null,
          "category": "Meat",
          "high_traffic": "High",
          "index": 280,
          "protein": null,
          "recipe": 281,
          "servings": 1,
          "sugar": null
         },
         {
          "calories": null,
          "carbohydrate": null,
          "category": "Lunch/Snacks",
          "high_traffic": "Low",
          "index": 297,
          "protein": null,
          "recipe": 298,
          "servings": 6,
          "sugar": null
         },
         {
          "calories": null,
          "carbohydrate": null,
          "category": "Potato",
          "high_traffic": "High",
          "index": 326,
          "protein": null,
          "recipe": 327,
          "servings": 4,
          "sugar": null
         },
         {
          "calories": null,
          "carbohydrate": null,
          "category": "Potato",
          "high_traffic": "High",
          "index": 351,
          "protein": null,
          "recipe": 352,
          "servings": 4,
          "sugar": null
         },
         {
          "calories": null,
          "carbohydrate": null,
          "category": "Pork",
          "high_traffic": "High",
          "index": 354,
          "protein": null,
          "recipe": 355,
          "servings": 4,
          "sugar": null
         },
         {
          "calories": null,
          "carbohydrate": null,
          "category": "Vegetable",
          "high_traffic": "High",
          "index": 372,
          "protein": null,
          "recipe": 373,
          "servings": 2,
          "sugar": null
         },
         {
          "calories": null,
          "carbohydrate": null,
          "category": "Pork",
          "high_traffic": "High",
          "index": 376,
          "protein": null,
          "recipe": 377,
          "servings": 6,
          "sugar": null
         },
         {
          "calories": null,
          "carbohydrate": null,
          "category": "Lunch/Snacks",
          "high_traffic": "High",
          "index": 388,
          "protein": null,
          "recipe": 389,
          "servings": 4,
          "sugar": null
         },
         {
          "calories": null,
          "carbohydrate": null,
          "category": "Vegetable",
          "high_traffic": "High",
          "index": 405,
          "protein": null,
          "recipe": 406,
          "servings": 4,
          "sugar": null
         },
         {
          "calories": null,
          "carbohydrate": null,
          "category": "Vegetable",
          "high_traffic": "High",
          "index": 427,
          "protein": null,
          "recipe": 428,
          "servings": 4,
          "sugar": null
         },
         {
          "calories": null,
          "carbohydrate": null,
          "category": "Pork",
          "high_traffic": "High",
          "index": 455,
          "protein": null,
          "recipe": 456,
          "servings": 6,
          "sugar": null
         },
         {
          "calories": null,
          "carbohydrate": null,
          "category": "Vegetable",
          "high_traffic": "High",
          "index": 530,
          "protein": null,
          "recipe": 531,
          "servings": 1,
          "sugar": null
         },
         {
          "calories": null,
          "carbohydrate": null,
          "category": "Chicken",
          "high_traffic": "High",
          "index": 534,
          "protein": null,
          "recipe": 535,
          "servings": 2,
          "sugar": null
         },
         {
          "calories": null,
          "carbohydrate": null,
          "category": "Vegetable",
          "high_traffic": "High",
          "index": 538,
          "protein": null,
          "recipe": 539,
          "servings": 4,
          "sugar": null
         },
         {
          "calories": null,
          "carbohydrate": null,
          "category": "Chicken",
          "high_traffic": "High",
          "index": 545,
          "protein": null,
          "recipe": 546,
          "servings": 6,
          "sugar": null
         },
         {
          "calories": null,
          "carbohydrate": null,
          "category": "Meat",
          "high_traffic": "Low",
          "index": 555,
          "protein": null,
          "recipe": 556,
          "servings": 2,
          "sugar": null
         },
         {
          "calories": null,
          "carbohydrate": null,
          "category": "Lunch/Snacks",
          "high_traffic": "Low",
          "index": 573,
          "protein": null,
          "recipe": 574,
          "servings": 4,
          "sugar": null
         },
         {
          "calories": null,
          "carbohydrate": null,
          "category": "Chicken",
          "high_traffic": "Low",
          "index": 581,
          "protein": null,
          "recipe": 582,
          "servings": 1,
          "sugar": null
         },
         {
          "calories": null,
          "carbohydrate": null,
          "category": "Chicken",
          "high_traffic": "Low",
          "index": 608,
          "protein": null,
          "recipe": 609,
          "servings": 4,
          "sugar": null
         },
         {
          "calories": null,
          "carbohydrate": null,
          "category": "Pork",
          "high_traffic": "High",
          "index": 674,
          "protein": null,
          "recipe": 675,
          "servings": 4,
          "sugar": null
         },
         {
          "calories": null,
          "carbohydrate": null,
          "category": "Potato",
          "high_traffic": "High",
          "index": 683,
          "protein": null,
          "recipe": 684,
          "servings": 1,
          "sugar": null
         },
         {
          "calories": null,
          "carbohydrate": null,
          "category": "Lunch/Snacks",
          "high_traffic": "High",
          "index": 711,
          "protein": null,
          "recipe": 712,
          "servings": 4,
          "sugar": null
         },
         {
          "calories": null,
          "carbohydrate": null,
          "category": "Pork",
          "high_traffic": "High",
          "index": 712,
          "protein": null,
          "recipe": 713,
          "servings": 6,
          "sugar": null
         },
         {
          "calories": null,
          "carbohydrate": null,
          "category": "Dessert",
          "high_traffic": "High",
          "index": 749,
          "protein": null,
          "recipe": 750,
          "servings": 4,
          "sugar": null
         },
         {
          "calories": null,
          "carbohydrate": null,
          "category": "Pork",
          "high_traffic": "High",
          "index": 765,
          "protein": null,
          "recipe": 766,
          "servings": 1,
          "sugar": null
         },
         {
          "calories": null,
          "carbohydrate": null,
          "category": "One Dish Meal",
          "high_traffic": "Low",
          "index": 772,
          "protein": null,
          "recipe": 773,
          "servings": 4,
          "sugar": null
         },
         {
          "calories": null,
          "carbohydrate": null,
          "category": "Lunch/Snacks",
          "high_traffic": "High",
          "index": 851,
          "protein": null,
          "recipe": 852,
          "servings": 4,
          "sugar": null
         },
         {
          "calories": null,
          "carbohydrate": null,
          "category": "One Dish Meal",
          "high_traffic": "Low",
          "index": 859,
          "protein": null,
          "recipe": 860,
          "servings": 4,
          "sugar": null
         },
         {
          "calories": null,
          "carbohydrate": null,
          "category": "Lunch/Snacks",
          "high_traffic": "High",
          "index": 865,
          "protein": null,
          "recipe": 866,
          "servings": 6,
          "sugar": null
         },
         {
          "calories": null,
          "carbohydrate": null,
          "category": "Meat",
          "high_traffic": "High",
          "index": 890,
          "protein": null,
          "recipe": 891,
          "servings": 4,
          "sugar": null
         },
         {
          "calories": null,
          "carbohydrate": null,
          "category": "One Dish Meal",
          "high_traffic": "Low",
          "index": 893,
          "protein": null,
          "recipe": 894,
          "servings": 4,
          "sugar": null
         },
         {
          "calories": null,
          "carbohydrate": null,
          "category": "Chicken",
          "high_traffic": "High",
          "index": 896,
          "protein": null,
          "recipe": 897,
          "servings": 6,
          "sugar": null
         },
         {
          "calories": null,
          "carbohydrate": null,
          "category": "Dessert",
          "high_traffic": "High",
          "index": 911,
          "protein": null,
          "recipe": 912,
          "servings": 6,
          "sugar": null
         },
         {
          "calories": null,
          "carbohydrate": null,
          "category": "Pork",
          "high_traffic": "High",
          "index": 918,
          "protein": null,
          "recipe": 919,
          "servings": 6,
          "sugar": null
         },
         {
          "calories": null,
          "carbohydrate": null,
          "category": "Pork",
          "high_traffic": "High",
          "index": 938,
          "protein": null,
          "recipe": 939,
          "servings": 4,
          "sugar": null
         },
         {
          "calories": null,
          "carbohydrate": null,
          "category": "Potato",
          "high_traffic": "High",
          "index": 943,
          "protein": null,
          "recipe": 944,
          "servings": 2,
          "sugar": null
         }
        ],
        "schema": {
         "fields": [
          {
           "name": "index",
           "type": "integer"
          },
          {
           "name": "recipe",
           "type": "integer"
          },
          {
           "name": "calories",
           "type": "number"
          },
          {
           "name": "carbohydrate",
           "type": "number"
          },
          {
           "name": "sugar",
           "type": "number"
          },
          {
           "name": "protein",
           "type": "number"
          },
          {
           "name": "category",
           "type": "string"
          },
          {
           "name": "servings",
           "type": "integer"
          },
          {
           "name": "high_traffic",
           "type": "string"
          }
         ],
         "pandas_version": "1.4.0",
         "primaryKey": [
          "index"
         ]
        }
       },
       "total_rows": 52,
       "truncation_type": null
      },
      "text/html": [
       "<div>\n",
       "<style scoped>\n",
       "    .dataframe tbody tr th:only-of-type {\n",
       "        vertical-align: middle;\n",
       "    }\n",
       "\n",
       "    .dataframe tbody tr th {\n",
       "        vertical-align: top;\n",
       "    }\n",
       "\n",
       "    .dataframe thead th {\n",
       "        text-align: right;\n",
       "    }\n",
       "</style>\n",
       "<table border=\"1\" class=\"dataframe\">\n",
       "  <thead>\n",
       "    <tr style=\"text-align: right;\">\n",
       "      <th></th>\n",
       "      <th>recipe</th>\n",
       "      <th>calories</th>\n",
       "      <th>carbohydrate</th>\n",
       "      <th>sugar</th>\n",
       "      <th>protein</th>\n",
       "      <th>category</th>\n",
       "      <th>servings</th>\n",
       "      <th>high_traffic</th>\n",
       "    </tr>\n",
       "  </thead>\n",
       "  <tbody>\n",
       "    <tr>\n",
       "      <th>0</th>\n",
       "      <td>1</td>\n",
       "      <td>NaN</td>\n",
       "      <td>NaN</td>\n",
       "      <td>NaN</td>\n",
       "      <td>NaN</td>\n",
       "      <td>Pork</td>\n",
       "      <td>6</td>\n",
       "      <td>High</td>\n",
       "    </tr>\n",
       "    <tr>\n",
       "      <th>23</th>\n",
       "      <td>24</td>\n",
       "      <td>NaN</td>\n",
       "      <td>NaN</td>\n",
       "      <td>NaN</td>\n",
       "      <td>NaN</td>\n",
       "      <td>Meat</td>\n",
       "      <td>2</td>\n",
       "      <td>Low</td>\n",
       "    </tr>\n",
       "    <tr>\n",
       "      <th>48</th>\n",
       "      <td>49</td>\n",
       "      <td>NaN</td>\n",
       "      <td>NaN</td>\n",
       "      <td>NaN</td>\n",
       "      <td>NaN</td>\n",
       "      <td>Chicken</td>\n",
       "      <td>4</td>\n",
       "      <td>Low</td>\n",
       "    </tr>\n",
       "    <tr>\n",
       "      <th>82</th>\n",
       "      <td>83</td>\n",
       "      <td>NaN</td>\n",
       "      <td>NaN</td>\n",
       "      <td>NaN</td>\n",
       "      <td>NaN</td>\n",
       "      <td>Meat</td>\n",
       "      <td>4</td>\n",
       "      <td>High</td>\n",
       "    </tr>\n",
       "    <tr>\n",
       "      <th>89</th>\n",
       "      <td>90</td>\n",
       "      <td>NaN</td>\n",
       "      <td>NaN</td>\n",
       "      <td>NaN</td>\n",
       "      <td>NaN</td>\n",
       "      <td>Pork</td>\n",
       "      <td>6</td>\n",
       "      <td>High</td>\n",
       "    </tr>\n",
       "    <tr>\n",
       "      <th>116</th>\n",
       "      <td>117</td>\n",
       "      <td>NaN</td>\n",
       "      <td>NaN</td>\n",
       "      <td>NaN</td>\n",
       "      <td>NaN</td>\n",
       "      <td>Chicken</td>\n",
       "      <td>6</td>\n",
       "      <td>High</td>\n",
       "    </tr>\n",
       "    <tr>\n",
       "      <th>121</th>\n",
       "      <td>122</td>\n",
       "      <td>NaN</td>\n",
       "      <td>NaN</td>\n",
       "      <td>NaN</td>\n",
       "      <td>NaN</td>\n",
       "      <td>Dessert</td>\n",
       "      <td>2</td>\n",
       "      <td>High</td>\n",
       "    </tr>\n",
       "    <tr>\n",
       "      <th>136</th>\n",
       "      <td>137</td>\n",
       "      <td>NaN</td>\n",
       "      <td>NaN</td>\n",
       "      <td>NaN</td>\n",
       "      <td>NaN</td>\n",
       "      <td>One Dish Meal</td>\n",
       "      <td>2</td>\n",
       "      <td>High</td>\n",
       "    </tr>\n",
       "    <tr>\n",
       "      <th>149</th>\n",
       "      <td>150</td>\n",
       "      <td>NaN</td>\n",
       "      <td>NaN</td>\n",
       "      <td>NaN</td>\n",
       "      <td>NaN</td>\n",
       "      <td>Potato</td>\n",
       "      <td>2</td>\n",
       "      <td>High</td>\n",
       "    </tr>\n",
       "    <tr>\n",
       "      <th>187</th>\n",
       "      <td>188</td>\n",
       "      <td>NaN</td>\n",
       "      <td>NaN</td>\n",
       "      <td>NaN</td>\n",
       "      <td>NaN</td>\n",
       "      <td>Pork</td>\n",
       "      <td>4</td>\n",
       "      <td>High</td>\n",
       "    </tr>\n",
       "    <tr>\n",
       "      <th>209</th>\n",
       "      <td>210</td>\n",
       "      <td>NaN</td>\n",
       "      <td>NaN</td>\n",
       "      <td>NaN</td>\n",
       "      <td>NaN</td>\n",
       "      <td>Dessert</td>\n",
       "      <td>2</td>\n",
       "      <td>High</td>\n",
       "    </tr>\n",
       "    <tr>\n",
       "      <th>212</th>\n",
       "      <td>213</td>\n",
       "      <td>NaN</td>\n",
       "      <td>NaN</td>\n",
       "      <td>NaN</td>\n",
       "      <td>NaN</td>\n",
       "      <td>Dessert</td>\n",
       "      <td>4</td>\n",
       "      <td>High</td>\n",
       "    </tr>\n",
       "    <tr>\n",
       "      <th>221</th>\n",
       "      <td>222</td>\n",
       "      <td>NaN</td>\n",
       "      <td>NaN</td>\n",
       "      <td>NaN</td>\n",
       "      <td>NaN</td>\n",
       "      <td>Dessert</td>\n",
       "      <td>1</td>\n",
       "      <td>Low</td>\n",
       "    </tr>\n",
       "    <tr>\n",
       "      <th>249</th>\n",
       "      <td>250</td>\n",
       "      <td>NaN</td>\n",
       "      <td>NaN</td>\n",
       "      <td>NaN</td>\n",
       "      <td>NaN</td>\n",
       "      <td>Chicken</td>\n",
       "      <td>6</td>\n",
       "      <td>Low</td>\n",
       "    </tr>\n",
       "    <tr>\n",
       "      <th>262</th>\n",
       "      <td>263</td>\n",
       "      <td>NaN</td>\n",
       "      <td>NaN</td>\n",
       "      <td>NaN</td>\n",
       "      <td>NaN</td>\n",
       "      <td>Chicken</td>\n",
       "      <td>4</td>\n",
       "      <td>Low</td>\n",
       "    </tr>\n",
       "    <tr>\n",
       "      <th>278</th>\n",
       "      <td>279</td>\n",
       "      <td>NaN</td>\n",
       "      <td>NaN</td>\n",
       "      <td>NaN</td>\n",
       "      <td>NaN</td>\n",
       "      <td>Lunch/Snacks</td>\n",
       "      <td>4</td>\n",
       "      <td>High</td>\n",
       "    </tr>\n",
       "    <tr>\n",
       "      <th>280</th>\n",
       "      <td>281</td>\n",
       "      <td>NaN</td>\n",
       "      <td>NaN</td>\n",
       "      <td>NaN</td>\n",
       "      <td>NaN</td>\n",
       "      <td>Meat</td>\n",
       "      <td>1</td>\n",
       "      <td>High</td>\n",
       "    </tr>\n",
       "    <tr>\n",
       "      <th>297</th>\n",
       "      <td>298</td>\n",
       "      <td>NaN</td>\n",
       "      <td>NaN</td>\n",
       "      <td>NaN</td>\n",
       "      <td>NaN</td>\n",
       "      <td>Lunch/Snacks</td>\n",
       "      <td>6</td>\n",
       "      <td>Low</td>\n",
       "    </tr>\n",
       "    <tr>\n",
       "      <th>326</th>\n",
       "      <td>327</td>\n",
       "      <td>NaN</td>\n",
       "      <td>NaN</td>\n",
       "      <td>NaN</td>\n",
       "      <td>NaN</td>\n",
       "      <td>Potato</td>\n",
       "      <td>4</td>\n",
       "      <td>High</td>\n",
       "    </tr>\n",
       "    <tr>\n",
       "      <th>351</th>\n",
       "      <td>352</td>\n",
       "      <td>NaN</td>\n",
       "      <td>NaN</td>\n",
       "      <td>NaN</td>\n",
       "      <td>NaN</td>\n",
       "      <td>Potato</td>\n",
       "      <td>4</td>\n",
       "      <td>High</td>\n",
       "    </tr>\n",
       "    <tr>\n",
       "      <th>354</th>\n",
       "      <td>355</td>\n",
       "      <td>NaN</td>\n",
       "      <td>NaN</td>\n",
       "      <td>NaN</td>\n",
       "      <td>NaN</td>\n",
       "      <td>Pork</td>\n",
       "      <td>4</td>\n",
       "      <td>High</td>\n",
       "    </tr>\n",
       "    <tr>\n",
       "      <th>372</th>\n",
       "      <td>373</td>\n",
       "      <td>NaN</td>\n",
       "      <td>NaN</td>\n",
       "      <td>NaN</td>\n",
       "      <td>NaN</td>\n",
       "      <td>Vegetable</td>\n",
       "      <td>2</td>\n",
       "      <td>High</td>\n",
       "    </tr>\n",
       "    <tr>\n",
       "      <th>376</th>\n",
       "      <td>377</td>\n",
       "      <td>NaN</td>\n",
       "      <td>NaN</td>\n",
       "      <td>NaN</td>\n",
       "      <td>NaN</td>\n",
       "      <td>Pork</td>\n",
       "      <td>6</td>\n",
       "      <td>High</td>\n",
       "    </tr>\n",
       "    <tr>\n",
       "      <th>388</th>\n",
       "      <td>389</td>\n",
       "      <td>NaN</td>\n",
       "      <td>NaN</td>\n",
       "      <td>NaN</td>\n",
       "      <td>NaN</td>\n",
       "      <td>Lunch/Snacks</td>\n",
       "      <td>4</td>\n",
       "      <td>High</td>\n",
       "    </tr>\n",
       "    <tr>\n",
       "      <th>405</th>\n",
       "      <td>406</td>\n",
       "      <td>NaN</td>\n",
       "      <td>NaN</td>\n",
       "      <td>NaN</td>\n",
       "      <td>NaN</td>\n",
       "      <td>Vegetable</td>\n",
       "      <td>4</td>\n",
       "      <td>High</td>\n",
       "    </tr>\n",
       "    <tr>\n",
       "      <th>427</th>\n",
       "      <td>428</td>\n",
       "      <td>NaN</td>\n",
       "      <td>NaN</td>\n",
       "      <td>NaN</td>\n",
       "      <td>NaN</td>\n",
       "      <td>Vegetable</td>\n",
       "      <td>4</td>\n",
       "      <td>High</td>\n",
       "    </tr>\n",
       "    <tr>\n",
       "      <th>455</th>\n",
       "      <td>456</td>\n",
       "      <td>NaN</td>\n",
       "      <td>NaN</td>\n",
       "      <td>NaN</td>\n",
       "      <td>NaN</td>\n",
       "      <td>Pork</td>\n",
       "      <td>6</td>\n",
       "      <td>High</td>\n",
       "    </tr>\n",
       "    <tr>\n",
       "      <th>530</th>\n",
       "      <td>531</td>\n",
       "      <td>NaN</td>\n",
       "      <td>NaN</td>\n",
       "      <td>NaN</td>\n",
       "      <td>NaN</td>\n",
       "      <td>Vegetable</td>\n",
       "      <td>1</td>\n",
       "      <td>High</td>\n",
       "    </tr>\n",
       "    <tr>\n",
       "      <th>534</th>\n",
       "      <td>535</td>\n",
       "      <td>NaN</td>\n",
       "      <td>NaN</td>\n",
       "      <td>NaN</td>\n",
       "      <td>NaN</td>\n",
       "      <td>Chicken</td>\n",
       "      <td>2</td>\n",
       "      <td>High</td>\n",
       "    </tr>\n",
       "    <tr>\n",
       "      <th>538</th>\n",
       "      <td>539</td>\n",
       "      <td>NaN</td>\n",
       "      <td>NaN</td>\n",
       "      <td>NaN</td>\n",
       "      <td>NaN</td>\n",
       "      <td>Vegetable</td>\n",
       "      <td>4</td>\n",
       "      <td>High</td>\n",
       "    </tr>\n",
       "    <tr>\n",
       "      <th>545</th>\n",
       "      <td>546</td>\n",
       "      <td>NaN</td>\n",
       "      <td>NaN</td>\n",
       "      <td>NaN</td>\n",
       "      <td>NaN</td>\n",
       "      <td>Chicken</td>\n",
       "      <td>6</td>\n",
       "      <td>High</td>\n",
       "    </tr>\n",
       "    <tr>\n",
       "      <th>555</th>\n",
       "      <td>556</td>\n",
       "      <td>NaN</td>\n",
       "      <td>NaN</td>\n",
       "      <td>NaN</td>\n",
       "      <td>NaN</td>\n",
       "      <td>Meat</td>\n",
       "      <td>2</td>\n",
       "      <td>Low</td>\n",
       "    </tr>\n",
       "    <tr>\n",
       "      <th>573</th>\n",
       "      <td>574</td>\n",
       "      <td>NaN</td>\n",
       "      <td>NaN</td>\n",
       "      <td>NaN</td>\n",
       "      <td>NaN</td>\n",
       "      <td>Lunch/Snacks</td>\n",
       "      <td>4</td>\n",
       "      <td>Low</td>\n",
       "    </tr>\n",
       "    <tr>\n",
       "      <th>581</th>\n",
       "      <td>582</td>\n",
       "      <td>NaN</td>\n",
       "      <td>NaN</td>\n",
       "      <td>NaN</td>\n",
       "      <td>NaN</td>\n",
       "      <td>Chicken</td>\n",
       "      <td>1</td>\n",
       "      <td>Low</td>\n",
       "    </tr>\n",
       "    <tr>\n",
       "      <th>608</th>\n",
       "      <td>609</td>\n",
       "      <td>NaN</td>\n",
       "      <td>NaN</td>\n",
       "      <td>NaN</td>\n",
       "      <td>NaN</td>\n",
       "      <td>Chicken</td>\n",
       "      <td>4</td>\n",
       "      <td>Low</td>\n",
       "    </tr>\n",
       "    <tr>\n",
       "      <th>674</th>\n",
       "      <td>675</td>\n",
       "      <td>NaN</td>\n",
       "      <td>NaN</td>\n",
       "      <td>NaN</td>\n",
       "      <td>NaN</td>\n",
       "      <td>Pork</td>\n",
       "      <td>4</td>\n",
       "      <td>High</td>\n",
       "    </tr>\n",
       "    <tr>\n",
       "      <th>683</th>\n",
       "      <td>684</td>\n",
       "      <td>NaN</td>\n",
       "      <td>NaN</td>\n",
       "      <td>NaN</td>\n",
       "      <td>NaN</td>\n",
       "      <td>Potato</td>\n",
       "      <td>1</td>\n",
       "      <td>High</td>\n",
       "    </tr>\n",
       "    <tr>\n",
       "      <th>711</th>\n",
       "      <td>712</td>\n",
       "      <td>NaN</td>\n",
       "      <td>NaN</td>\n",
       "      <td>NaN</td>\n",
       "      <td>NaN</td>\n",
       "      <td>Lunch/Snacks</td>\n",
       "      <td>4</td>\n",
       "      <td>High</td>\n",
       "    </tr>\n",
       "    <tr>\n",
       "      <th>712</th>\n",
       "      <td>713</td>\n",
       "      <td>NaN</td>\n",
       "      <td>NaN</td>\n",
       "      <td>NaN</td>\n",
       "      <td>NaN</td>\n",
       "      <td>Pork</td>\n",
       "      <td>6</td>\n",
       "      <td>High</td>\n",
       "    </tr>\n",
       "    <tr>\n",
       "      <th>749</th>\n",
       "      <td>750</td>\n",
       "      <td>NaN</td>\n",
       "      <td>NaN</td>\n",
       "      <td>NaN</td>\n",
       "      <td>NaN</td>\n",
       "      <td>Dessert</td>\n",
       "      <td>4</td>\n",
       "      <td>High</td>\n",
       "    </tr>\n",
       "    <tr>\n",
       "      <th>765</th>\n",
       "      <td>766</td>\n",
       "      <td>NaN</td>\n",
       "      <td>NaN</td>\n",
       "      <td>NaN</td>\n",
       "      <td>NaN</td>\n",
       "      <td>Pork</td>\n",
       "      <td>1</td>\n",
       "      <td>High</td>\n",
       "    </tr>\n",
       "    <tr>\n",
       "      <th>772</th>\n",
       "      <td>773</td>\n",
       "      <td>NaN</td>\n",
       "      <td>NaN</td>\n",
       "      <td>NaN</td>\n",
       "      <td>NaN</td>\n",
       "      <td>One Dish Meal</td>\n",
       "      <td>4</td>\n",
       "      <td>Low</td>\n",
       "    </tr>\n",
       "    <tr>\n",
       "      <th>851</th>\n",
       "      <td>852</td>\n",
       "      <td>NaN</td>\n",
       "      <td>NaN</td>\n",
       "      <td>NaN</td>\n",
       "      <td>NaN</td>\n",
       "      <td>Lunch/Snacks</td>\n",
       "      <td>4</td>\n",
       "      <td>High</td>\n",
       "    </tr>\n",
       "    <tr>\n",
       "      <th>859</th>\n",
       "      <td>860</td>\n",
       "      <td>NaN</td>\n",
       "      <td>NaN</td>\n",
       "      <td>NaN</td>\n",
       "      <td>NaN</td>\n",
       "      <td>One Dish Meal</td>\n",
       "      <td>4</td>\n",
       "      <td>Low</td>\n",
       "    </tr>\n",
       "    <tr>\n",
       "      <th>865</th>\n",
       "      <td>866</td>\n",
       "      <td>NaN</td>\n",
       "      <td>NaN</td>\n",
       "      <td>NaN</td>\n",
       "      <td>NaN</td>\n",
       "      <td>Lunch/Snacks</td>\n",
       "      <td>6</td>\n",
       "      <td>High</td>\n",
       "    </tr>\n",
       "    <tr>\n",
       "      <th>890</th>\n",
       "      <td>891</td>\n",
       "      <td>NaN</td>\n",
       "      <td>NaN</td>\n",
       "      <td>NaN</td>\n",
       "      <td>NaN</td>\n",
       "      <td>Meat</td>\n",
       "      <td>4</td>\n",
       "      <td>High</td>\n",
       "    </tr>\n",
       "    <tr>\n",
       "      <th>893</th>\n",
       "      <td>894</td>\n",
       "      <td>NaN</td>\n",
       "      <td>NaN</td>\n",
       "      <td>NaN</td>\n",
       "      <td>NaN</td>\n",
       "      <td>One Dish Meal</td>\n",
       "      <td>4</td>\n",
       "      <td>Low</td>\n",
       "    </tr>\n",
       "    <tr>\n",
       "      <th>896</th>\n",
       "      <td>897</td>\n",
       "      <td>NaN</td>\n",
       "      <td>NaN</td>\n",
       "      <td>NaN</td>\n",
       "      <td>NaN</td>\n",
       "      <td>Chicken</td>\n",
       "      <td>6</td>\n",
       "      <td>High</td>\n",
       "    </tr>\n",
       "    <tr>\n",
       "      <th>911</th>\n",
       "      <td>912</td>\n",
       "      <td>NaN</td>\n",
       "      <td>NaN</td>\n",
       "      <td>NaN</td>\n",
       "      <td>NaN</td>\n",
       "      <td>Dessert</td>\n",
       "      <td>6</td>\n",
       "      <td>High</td>\n",
       "    </tr>\n",
       "    <tr>\n",
       "      <th>918</th>\n",
       "      <td>919</td>\n",
       "      <td>NaN</td>\n",
       "      <td>NaN</td>\n",
       "      <td>NaN</td>\n",
       "      <td>NaN</td>\n",
       "      <td>Pork</td>\n",
       "      <td>6</td>\n",
       "      <td>High</td>\n",
       "    </tr>\n",
       "    <tr>\n",
       "      <th>938</th>\n",
       "      <td>939</td>\n",
       "      <td>NaN</td>\n",
       "      <td>NaN</td>\n",
       "      <td>NaN</td>\n",
       "      <td>NaN</td>\n",
       "      <td>Pork</td>\n",
       "      <td>4</td>\n",
       "      <td>High</td>\n",
       "    </tr>\n",
       "    <tr>\n",
       "      <th>943</th>\n",
       "      <td>944</td>\n",
       "      <td>NaN</td>\n",
       "      <td>NaN</td>\n",
       "      <td>NaN</td>\n",
       "      <td>NaN</td>\n",
       "      <td>Potato</td>\n",
       "      <td>2</td>\n",
       "      <td>High</td>\n",
       "    </tr>\n",
       "  </tbody>\n",
       "</table>\n",
       "</div>"
      ],
      "text/plain": [
       "     recipe  calories  carbohydrate  ...       category  servings high_traffic\n",
       "0         1       NaN           NaN  ...           Pork         6         High\n",
       "23       24       NaN           NaN  ...           Meat         2          Low\n",
       "48       49       NaN           NaN  ...        Chicken         4          Low\n",
       "82       83       NaN           NaN  ...           Meat         4         High\n",
       "89       90       NaN           NaN  ...           Pork         6         High\n",
       "116     117       NaN           NaN  ...        Chicken         6         High\n",
       "121     122       NaN           NaN  ...        Dessert         2         High\n",
       "136     137       NaN           NaN  ...  One Dish Meal         2         High\n",
       "149     150       NaN           NaN  ...         Potato         2         High\n",
       "187     188       NaN           NaN  ...           Pork         4         High\n",
       "209     210       NaN           NaN  ...        Dessert         2         High\n",
       "212     213       NaN           NaN  ...        Dessert         4         High\n",
       "221     222       NaN           NaN  ...        Dessert         1          Low\n",
       "249     250       NaN           NaN  ...        Chicken         6          Low\n",
       "262     263       NaN           NaN  ...        Chicken         4          Low\n",
       "278     279       NaN           NaN  ...   Lunch/Snacks         4         High\n",
       "280     281       NaN           NaN  ...           Meat         1         High\n",
       "297     298       NaN           NaN  ...   Lunch/Snacks         6          Low\n",
       "326     327       NaN           NaN  ...         Potato         4         High\n",
       "351     352       NaN           NaN  ...         Potato         4         High\n",
       "354     355       NaN           NaN  ...           Pork         4         High\n",
       "372     373       NaN           NaN  ...      Vegetable         2         High\n",
       "376     377       NaN           NaN  ...           Pork         6         High\n",
       "388     389       NaN           NaN  ...   Lunch/Snacks         4         High\n",
       "405     406       NaN           NaN  ...      Vegetable         4         High\n",
       "427     428       NaN           NaN  ...      Vegetable         4         High\n",
       "455     456       NaN           NaN  ...           Pork         6         High\n",
       "530     531       NaN           NaN  ...      Vegetable         1         High\n",
       "534     535       NaN           NaN  ...        Chicken         2         High\n",
       "538     539       NaN           NaN  ...      Vegetable         4         High\n",
       "545     546       NaN           NaN  ...        Chicken         6         High\n",
       "555     556       NaN           NaN  ...           Meat         2          Low\n",
       "573     574       NaN           NaN  ...   Lunch/Snacks         4          Low\n",
       "581     582       NaN           NaN  ...        Chicken         1          Low\n",
       "608     609       NaN           NaN  ...        Chicken         4          Low\n",
       "674     675       NaN           NaN  ...           Pork         4         High\n",
       "683     684       NaN           NaN  ...         Potato         1         High\n",
       "711     712       NaN           NaN  ...   Lunch/Snacks         4         High\n",
       "712     713       NaN           NaN  ...           Pork         6         High\n",
       "749     750       NaN           NaN  ...        Dessert         4         High\n",
       "765     766       NaN           NaN  ...           Pork         1         High\n",
       "772     773       NaN           NaN  ...  One Dish Meal         4          Low\n",
       "851     852       NaN           NaN  ...   Lunch/Snacks         4         High\n",
       "859     860       NaN           NaN  ...  One Dish Meal         4          Low\n",
       "865     866       NaN           NaN  ...   Lunch/Snacks         6         High\n",
       "890     891       NaN           NaN  ...           Meat         4         High\n",
       "893     894       NaN           NaN  ...  One Dish Meal         4          Low\n",
       "896     897       NaN           NaN  ...        Chicken         6         High\n",
       "911     912       NaN           NaN  ...        Dessert         6         High\n",
       "918     919       NaN           NaN  ...           Pork         6         High\n",
       "938     939       NaN           NaN  ...           Pork         4         High\n",
       "943     944       NaN           NaN  ...         Potato         2         High\n",
       "\n",
       "[52 rows x 8 columns]"
      ]
     },
     "execution_count": 11,
     "metadata": {},
     "output_type": "execute_result"
    }
   ],
   "source": [
    "#check the missing rows\n",
    "df.loc[df.isna().any(axis=1)]"
   ]
  },
  {
   "cell_type": "code",
   "execution_count": 12,
   "id": "b652e18f-0cd0-4bf7-89cd-74364e46591e",
   "metadata": {
    "executionCancelledAt": null,
    "executionTime": 47,
    "lastExecutedAt": 1688603986655,
    "lastScheduledRunId": null,
    "lastSuccessfullyExecutedCode": "df.pivot_table(values=['calories', 'carbohydrate', 'sugar', 'protein'], index=['category', 'servings'], aggfunc=['mean','std'])"
   },
   "outputs": [
    {
     "data": {
      "text/html": [
       "<div>\n",
       "<style scoped>\n",
       "    .dataframe tbody tr th:only-of-type {\n",
       "        vertical-align: middle;\n",
       "    }\n",
       "\n",
       "    .dataframe tbody tr th {\n",
       "        vertical-align: top;\n",
       "    }\n",
       "\n",
       "    .dataframe thead tr th {\n",
       "        text-align: left;\n",
       "    }\n",
       "\n",
       "    .dataframe thead tr:last-of-type th {\n",
       "        text-align: right;\n",
       "    }\n",
       "</style>\n",
       "<table border=\"1\" class=\"dataframe\">\n",
       "  <thead>\n",
       "    <tr>\n",
       "      <th></th>\n",
       "      <th></th>\n",
       "      <th colspan=\"4\" halign=\"left\">mean</th>\n",
       "      <th colspan=\"4\" halign=\"left\">std</th>\n",
       "    </tr>\n",
       "    <tr>\n",
       "      <th></th>\n",
       "      <th></th>\n",
       "      <th>calories</th>\n",
       "      <th>carbohydrate</th>\n",
       "      <th>protein</th>\n",
       "      <th>sugar</th>\n",
       "      <th>calories</th>\n",
       "      <th>carbohydrate</th>\n",
       "      <th>protein</th>\n",
       "      <th>sugar</th>\n",
       "    </tr>\n",
       "    <tr>\n",
       "      <th>category</th>\n",
       "      <th>servings</th>\n",
       "      <th></th>\n",
       "      <th></th>\n",
       "      <th></th>\n",
       "      <th></th>\n",
       "      <th></th>\n",
       "      <th></th>\n",
       "      <th></th>\n",
       "      <th></th>\n",
       "    </tr>\n",
       "  </thead>\n",
       "  <tbody>\n",
       "    <tr>\n",
       "      <th rowspan=\"4\" valign=\"top\">Beverages</th>\n",
       "      <th>1</th>\n",
       "      <td>180.341000</td>\n",
       "      <td>13.237000</td>\n",
       "      <td>0.751500</td>\n",
       "      <td>10.337500</td>\n",
       "      <td>146.515498</td>\n",
       "      <td>13.083318</td>\n",
       "      <td>0.803337</td>\n",
       "      <td>6.394603</td>\n",
       "    </tr>\n",
       "    <tr>\n",
       "      <th>2</th>\n",
       "      <td>245.478824</td>\n",
       "      <td>21.030000</td>\n",
       "      <td>0.572353</td>\n",
       "      <td>15.809412</td>\n",
       "      <td>222.656719</td>\n",
       "      <td>23.108993</td>\n",
       "      <td>0.419054</td>\n",
       "      <td>18.799854</td>\n",
       "    </tr>\n",
       "    <tr>\n",
       "      <th>4</th>\n",
       "      <td>162.894706</td>\n",
       "      <td>14.629118</td>\n",
       "      <td>0.551765</td>\n",
       "      <td>16.265294</td>\n",
       "      <td>141.783528</td>\n",
       "      <td>12.509611</td>\n",
       "      <td>0.492190</td>\n",
       "      <td>17.492517</td>\n",
       "    </tr>\n",
       "    <tr>\n",
       "      <th>6</th>\n",
       "      <td>144.427619</td>\n",
       "      <td>16.586190</td>\n",
       "      <td>0.533333</td>\n",
       "      <td>5.947619</td>\n",
       "      <td>139.713128</td>\n",
       "      <td>18.514975</td>\n",
       "      <td>0.451712</td>\n",
       "      <td>4.259517</td>\n",
       "    </tr>\n",
       "    <tr>\n",
       "      <th rowspan=\"4\" valign=\"top\">Breakfast</th>\n",
       "      <th>1</th>\n",
       "      <td>401.969615</td>\n",
       "      <td>39.189615</td>\n",
       "      <td>24.025769</td>\n",
       "      <td>4.534231</td>\n",
       "      <td>454.948359</td>\n",
       "      <td>35.851529</td>\n",
       "      <td>25.607984</td>\n",
       "      <td>3.774985</td>\n",
       "    </tr>\n",
       "    <tr>\n",
       "      <th>2</th>\n",
       "      <td>374.082857</td>\n",
       "      <td>41.820000</td>\n",
       "      <td>12.289048</td>\n",
       "      <td>7.759048</td>\n",
       "      <td>313.016234</td>\n",
       "      <td>44.517500</td>\n",
       "      <td>9.712348</td>\n",
       "      <td>7.642324</td>\n",
       "    </tr>\n",
       "    <tr>\n",
       "      <th>4</th>\n",
       "      <td>266.214634</td>\n",
       "      <td>40.415122</td>\n",
       "      <td>18.059756</td>\n",
       "      <td>7.748780</td>\n",
       "      <td>277.256711</td>\n",
       "      <td>39.050141</td>\n",
       "      <td>13.106068</td>\n",
       "      <td>8.152152</td>\n",
       "    </tr>\n",
       "    <tr>\n",
       "      <th>6</th>\n",
       "      <td>330.973889</td>\n",
       "      <td>36.403889</td>\n",
       "      <td>9.681667</td>\n",
       "      <td>11.222778</td>\n",
       "      <td>308.226383</td>\n",
       "      <td>36.617674</td>\n",
       "      <td>10.297373</td>\n",
       "      <td>11.953739</td>\n",
       "    </tr>\n",
       "    <tr>\n",
       "      <th rowspan=\"4\" valign=\"top\">Chicken</th>\n",
       "      <th>1</th>\n",
       "      <td>529.023429</td>\n",
       "      <td>20.544571</td>\n",
       "      <td>48.430000</td>\n",
       "      <td>4.998000</td>\n",
       "      <td>502.527288</td>\n",
       "      <td>20.319195</td>\n",
       "      <td>33.328337</td>\n",
       "      <td>5.924025</td>\n",
       "    </tr>\n",
       "    <tr>\n",
       "      <th>2</th>\n",
       "      <td>503.795517</td>\n",
       "      <td>39.294138</td>\n",
       "      <td>59.871379</td>\n",
       "      <td>5.911034</td>\n",
       "      <td>474.593052</td>\n",
       "      <td>48.740281</td>\n",
       "      <td>60.725936</td>\n",
       "      <td>6.293156</td>\n",
       "    </tr>\n",
       "    <tr>\n",
       "      <th>4</th>\n",
       "      <td>571.156377</td>\n",
       "      <td>25.284058</td>\n",
       "      <td>36.691449</td>\n",
       "      <td>5.453768</td>\n",
       "      <td>595.604148</td>\n",
       "      <td>25.027138</td>\n",
       "      <td>33.549751</td>\n",
       "      <td>5.885817</td>\n",
       "    </tr>\n",
       "    <tr>\n",
       "      <th>6</th>\n",
       "      <td>578.688333</td>\n",
       "      <td>19.032333</td>\n",
       "      <td>60.912333</td>\n",
       "      <td>4.947333</td>\n",
       "      <td>527.722947</td>\n",
       "      <td>17.930936</td>\n",
       "      <td>84.725105</td>\n",
       "      <td>5.036748</td>\n",
       "    </tr>\n",
       "    <tr>\n",
       "      <th rowspan=\"4\" valign=\"top\">Dessert</th>\n",
       "      <th>1</th>\n",
       "      <td>317.120625</td>\n",
       "      <td>50.169375</td>\n",
       "      <td>7.025625</td>\n",
       "      <td>40.714375</td>\n",
       "      <td>272.071127</td>\n",
       "      <td>62.435552</td>\n",
       "      <td>5.278169</td>\n",
       "      <td>39.647529</td>\n",
       "    </tr>\n",
       "    <tr>\n",
       "      <th>2</th>\n",
       "      <td>256.160769</td>\n",
       "      <td>42.809231</td>\n",
       "      <td>5.286154</td>\n",
       "      <td>36.091538</td>\n",
       "      <td>251.886285</td>\n",
       "      <td>35.742176</td>\n",
       "      <td>5.826586</td>\n",
       "      <td>38.559768</td>\n",
       "    </tr>\n",
       "    <tr>\n",
       "      <th>4</th>\n",
       "      <td>372.850714</td>\n",
       "      <td>73.439643</td>\n",
       "      <td>4.674643</td>\n",
       "      <td>34.657857</td>\n",
       "      <td>287.440345</td>\n",
       "      <td>57.865965</td>\n",
       "      <td>3.335002</td>\n",
       "      <td>32.927106</td>\n",
       "    </tr>\n",
       "    <tr>\n",
       "      <th>6</th>\n",
       "      <td>410.706000</td>\n",
       "      <td>43.521000</td>\n",
       "      <td>6.574500</td>\n",
       "      <td>31.077500</td>\n",
       "      <td>368.718769</td>\n",
       "      <td>48.615289</td>\n",
       "      <td>4.723760</td>\n",
       "      <td>22.195240</td>\n",
       "    </tr>\n",
       "    <tr>\n",
       "      <th rowspan=\"4\" valign=\"top\">Lunch/Snacks</th>\n",
       "      <th>1</th>\n",
       "      <td>591.517059</td>\n",
       "      <td>39.027059</td>\n",
       "      <td>14.185294</td>\n",
       "      <td>4.788824</td>\n",
       "      <td>409.877296</td>\n",
       "      <td>24.835423</td>\n",
       "      <td>9.020243</td>\n",
       "      <td>4.541062</td>\n",
       "    </tr>\n",
       "    <tr>\n",
       "      <th>2</th>\n",
       "      <td>473.288000</td>\n",
       "      <td>53.782000</td>\n",
       "      <td>35.627333</td>\n",
       "      <td>4.946000</td>\n",
       "      <td>411.805517</td>\n",
       "      <td>48.014811</td>\n",
       "      <td>61.146008</td>\n",
       "      <td>5.917406</td>\n",
       "    </tr>\n",
       "    <tr>\n",
       "      <th>4</th>\n",
       "      <td>461.155806</td>\n",
       "      <td>39.235161</td>\n",
       "      <td>19.692903</td>\n",
       "      <td>6.130968</td>\n",
       "      <td>436.019202</td>\n",
       "      <td>38.862811</td>\n",
       "      <td>20.561687</td>\n",
       "      <td>7.840210</td>\n",
       "    </tr>\n",
       "    <tr>\n",
       "      <th>6</th>\n",
       "      <td>411.296842</td>\n",
       "      <td>43.412632</td>\n",
       "      <td>11.687368</td>\n",
       "      <td>4.720526</td>\n",
       "      <td>365.552687</td>\n",
       "      <td>49.986043</td>\n",
       "      <td>9.214188</td>\n",
       "      <td>4.315684</td>\n",
       "    </tr>\n",
       "    <tr>\n",
       "      <th rowspan=\"4\" valign=\"top\">Meat</th>\n",
       "      <th>1</th>\n",
       "      <td>659.651538</td>\n",
       "      <td>29.419231</td>\n",
       "      <td>39.724615</td>\n",
       "      <td>4.977692</td>\n",
       "      <td>543.041030</td>\n",
       "      <td>30.090931</td>\n",
       "      <td>30.398623</td>\n",
       "      <td>4.688348</td>\n",
       "    </tr>\n",
       "    <tr>\n",
       "      <th>2</th>\n",
       "      <td>636.413077</td>\n",
       "      <td>22.022308</td>\n",
       "      <td>39.659231</td>\n",
       "      <td>9.224615</td>\n",
       "      <td>472.936128</td>\n",
       "      <td>14.794831</td>\n",
       "      <td>49.415221</td>\n",
       "      <td>9.090060</td>\n",
       "    </tr>\n",
       "    <tr>\n",
       "      <th>4</th>\n",
       "      <td>571.235588</td>\n",
       "      <td>20.028235</td>\n",
       "      <td>40.876765</td>\n",
       "      <td>5.442647</td>\n",
       "      <td>534.658776</td>\n",
       "      <td>18.827489</td>\n",
       "      <td>41.432312</td>\n",
       "      <td>6.448304</td>\n",
       "    </tr>\n",
       "    <tr>\n",
       "      <th>6</th>\n",
       "      <td>498.903571</td>\n",
       "      <td>20.722143</td>\n",
       "      <td>40.435714</td>\n",
       "      <td>4.323571</td>\n",
       "      <td>422.811416</td>\n",
       "      <td>15.726263</td>\n",
       "      <td>33.330328</td>\n",
       "      <td>2.573138</td>\n",
       "    </tr>\n",
       "    <tr>\n",
       "      <th rowspan=\"4\" valign=\"top\">One Dish Meal</th>\n",
       "      <th>1</th>\n",
       "      <td>770.896923</td>\n",
       "      <td>47.323846</td>\n",
       "      <td>34.583077</td>\n",
       "      <td>4.555385</td>\n",
       "      <td>697.986706</td>\n",
       "      <td>40.961890</td>\n",
       "      <td>23.744126</td>\n",
       "      <td>4.695863</td>\n",
       "    </tr>\n",
       "    <tr>\n",
       "      <th>2</th>\n",
       "      <td>534.366818</td>\n",
       "      <td>29.879091</td>\n",
       "      <td>35.137727</td>\n",
       "      <td>5.586364</td>\n",
       "      <td>493.774556</td>\n",
       "      <td>37.622534</td>\n",
       "      <td>48.327458</td>\n",
       "      <td>6.596458</td>\n",
       "    </tr>\n",
       "    <tr>\n",
       "      <th>4</th>\n",
       "      <td>570.316667</td>\n",
       "      <td>61.967619</td>\n",
       "      <td>40.120000</td>\n",
       "      <td>7.255238</td>\n",
       "      <td>578.544826</td>\n",
       "      <td>59.359718</td>\n",
       "      <td>32.060915</td>\n",
       "      <td>4.422897</td>\n",
       "    </tr>\n",
       "    <tr>\n",
       "      <th>6</th>\n",
       "      <td>458.604545</td>\n",
       "      <td>72.892727</td>\n",
       "      <td>31.085455</td>\n",
       "      <td>6.209091</td>\n",
       "      <td>311.797954</td>\n",
       "      <td>86.032659</td>\n",
       "      <td>19.189848</td>\n",
       "      <td>10.240854</td>\n",
       "    </tr>\n",
       "    <tr>\n",
       "      <th rowspan=\"4\" valign=\"top\">Pork</th>\n",
       "      <th>1</th>\n",
       "      <td>716.210000</td>\n",
       "      <td>32.642222</td>\n",
       "      <td>50.250000</td>\n",
       "      <td>7.626667</td>\n",
       "      <td>763.888502</td>\n",
       "      <td>33.325393</td>\n",
       "      <td>58.286033</td>\n",
       "      <td>7.087641</td>\n",
       "    </tr>\n",
       "    <tr>\n",
       "      <th>2</th>\n",
       "      <td>565.615625</td>\n",
       "      <td>30.924375</td>\n",
       "      <td>26.233750</td>\n",
       "      <td>7.676875</td>\n",
       "      <td>426.251385</td>\n",
       "      <td>24.628124</td>\n",
       "      <td>18.814397</td>\n",
       "      <td>7.801510</td>\n",
       "    </tr>\n",
       "    <tr>\n",
       "      <th>4</th>\n",
       "      <td>575.858485</td>\n",
       "      <td>29.088182</td>\n",
       "      <td>40.221818</td>\n",
       "      <td>8.795758</td>\n",
       "      <td>515.785566</td>\n",
       "      <td>26.350407</td>\n",
       "      <td>43.360296</td>\n",
       "      <td>9.270877</td>\n",
       "    </tr>\n",
       "    <tr>\n",
       "      <th>6</th>\n",
       "      <td>764.641333</td>\n",
       "      <td>20.072000</td>\n",
       "      <td>66.528000</td>\n",
       "      <td>7.013333</td>\n",
       "      <td>913.170251</td>\n",
       "      <td>20.573880</td>\n",
       "      <td>59.416084</td>\n",
       "      <td>12.292864</td>\n",
       "    </tr>\n",
       "    <tr>\n",
       "      <th rowspan=\"4\" valign=\"top\">Potato</th>\n",
       "      <th>1</th>\n",
       "      <td>616.695000</td>\n",
       "      <td>68.992143</td>\n",
       "      <td>10.041429</td>\n",
       "      <td>4.266429</td>\n",
       "      <td>603.279089</td>\n",
       "      <td>97.582775</td>\n",
       "      <td>12.007017</td>\n",
       "      <td>4.171291</td>\n",
       "    </tr>\n",
       "    <tr>\n",
       "      <th>2</th>\n",
       "      <td>312.203000</td>\n",
       "      <td>69.528000</td>\n",
       "      <td>5.857000</td>\n",
       "      <td>2.970000</td>\n",
       "      <td>242.573971</td>\n",
       "      <td>75.147816</td>\n",
       "      <td>5.573517</td>\n",
       "      <td>1.996792</td>\n",
       "    </tr>\n",
       "    <tr>\n",
       "      <th>4</th>\n",
       "      <td>432.185000</td>\n",
       "      <td>58.071111</td>\n",
       "      <td>10.277500</td>\n",
       "      <td>3.703333</td>\n",
       "      <td>324.096933</td>\n",
       "      <td>93.679107</td>\n",
       "      <td>10.633200</td>\n",
       "      <td>3.096775</td>\n",
       "    </tr>\n",
       "    <tr>\n",
       "      <th>6</th>\n",
       "      <td>346.359565</td>\n",
       "      <td>46.728261</td>\n",
       "      <td>6.196522</td>\n",
       "      <td>3.735652</td>\n",
       "      <td>284.286524</td>\n",
       "      <td>47.490663</td>\n",
       "      <td>5.704054</td>\n",
       "      <td>3.450773</td>\n",
       "    </tr>\n",
       "    <tr>\n",
       "      <th rowspan=\"4\" valign=\"top\">Vegetable</th>\n",
       "      <th>1</th>\n",
       "      <td>222.646667</td>\n",
       "      <td>30.360000</td>\n",
       "      <td>3.735000</td>\n",
       "      <td>2.913333</td>\n",
       "      <td>199.130787</td>\n",
       "      <td>25.075621</td>\n",
       "      <td>3.863334</td>\n",
       "      <td>3.234957</td>\n",
       "    </tr>\n",
       "    <tr>\n",
       "      <th>2</th>\n",
       "      <td>175.022222</td>\n",
       "      <td>20.510000</td>\n",
       "      <td>7.776111</td>\n",
       "      <td>5.108333</td>\n",
       "      <td>157.273569</td>\n",
       "      <td>15.090958</td>\n",
       "      <td>9.419844</td>\n",
       "      <td>5.808500</td>\n",
       "    </tr>\n",
       "    <tr>\n",
       "      <th>4</th>\n",
       "      <td>247.720000</td>\n",
       "      <td>26.098500</td>\n",
       "      <td>7.794500</td>\n",
       "      <td>4.925750</td>\n",
       "      <td>283.779282</td>\n",
       "      <td>27.919929</td>\n",
       "      <td>7.662829</td>\n",
       "      <td>4.264533</td>\n",
       "    </tr>\n",
       "    <tr>\n",
       "      <th>6</th>\n",
       "      <td>336.862857</td>\n",
       "      <td>17.979286</td>\n",
       "      <td>10.100714</td>\n",
       "      <td>6.330000</td>\n",
       "      <td>340.094652</td>\n",
       "      <td>26.569508</td>\n",
       "      <td>12.570982</td>\n",
       "      <td>8.763421</td>\n",
       "    </tr>\n",
       "  </tbody>\n",
       "</table>\n",
       "</div>"
      ],
      "text/plain": [
       "                              mean               ...        std           \n",
       "                          calories carbohydrate  ...    protein      sugar\n",
       "category      servings                           ...                      \n",
       "Beverages     1         180.341000    13.237000  ...   0.803337   6.394603\n",
       "              2         245.478824    21.030000  ...   0.419054  18.799854\n",
       "              4         162.894706    14.629118  ...   0.492190  17.492517\n",
       "              6         144.427619    16.586190  ...   0.451712   4.259517\n",
       "Breakfast     1         401.969615    39.189615  ...  25.607984   3.774985\n",
       "              2         374.082857    41.820000  ...   9.712348   7.642324\n",
       "              4         266.214634    40.415122  ...  13.106068   8.152152\n",
       "              6         330.973889    36.403889  ...  10.297373  11.953739\n",
       "Chicken       1         529.023429    20.544571  ...  33.328337   5.924025\n",
       "              2         503.795517    39.294138  ...  60.725936   6.293156\n",
       "              4         571.156377    25.284058  ...  33.549751   5.885817\n",
       "              6         578.688333    19.032333  ...  84.725105   5.036748\n",
       "Dessert       1         317.120625    50.169375  ...   5.278169  39.647529\n",
       "              2         256.160769    42.809231  ...   5.826586  38.559768\n",
       "              4         372.850714    73.439643  ...   3.335002  32.927106\n",
       "              6         410.706000    43.521000  ...   4.723760  22.195240\n",
       "Lunch/Snacks  1         591.517059    39.027059  ...   9.020243   4.541062\n",
       "              2         473.288000    53.782000  ...  61.146008   5.917406\n",
       "              4         461.155806    39.235161  ...  20.561687   7.840210\n",
       "              6         411.296842    43.412632  ...   9.214188   4.315684\n",
       "Meat          1         659.651538    29.419231  ...  30.398623   4.688348\n",
       "              2         636.413077    22.022308  ...  49.415221   9.090060\n",
       "              4         571.235588    20.028235  ...  41.432312   6.448304\n",
       "              6         498.903571    20.722143  ...  33.330328   2.573138\n",
       "One Dish Meal 1         770.896923    47.323846  ...  23.744126   4.695863\n",
       "              2         534.366818    29.879091  ...  48.327458   6.596458\n",
       "              4         570.316667    61.967619  ...  32.060915   4.422897\n",
       "              6         458.604545    72.892727  ...  19.189848  10.240854\n",
       "Pork          1         716.210000    32.642222  ...  58.286033   7.087641\n",
       "              2         565.615625    30.924375  ...  18.814397   7.801510\n",
       "              4         575.858485    29.088182  ...  43.360296   9.270877\n",
       "              6         764.641333    20.072000  ...  59.416084  12.292864\n",
       "Potato        1         616.695000    68.992143  ...  12.007017   4.171291\n",
       "              2         312.203000    69.528000  ...   5.573517   1.996792\n",
       "              4         432.185000    58.071111  ...  10.633200   3.096775\n",
       "              6         346.359565    46.728261  ...   5.704054   3.450773\n",
       "Vegetable     1         222.646667    30.360000  ...   3.863334   3.234957\n",
       "              2         175.022222    20.510000  ...   9.419844   5.808500\n",
       "              4         247.720000    26.098500  ...   7.662829   4.264533\n",
       "              6         336.862857    17.979286  ...  12.570982   8.763421\n",
       "\n",
       "[40 rows x 8 columns]"
      ]
     },
     "execution_count": 12,
     "metadata": {},
     "output_type": "execute_result"
    }
   ],
   "source": [
    "df.pivot_table(values=['calories', 'carbohydrate', 'sugar', 'protein'], index=['category', 'servings'], aggfunc=['mean','std'])"
   ]
  },
  {
   "cell_type": "code",
   "execution_count": 13,
   "id": "863d7b45-9428-4eed-a3c4-219a1dd1c241",
   "metadata": {
    "executionCancelledAt": null,
    "executionTime": 48,
    "lastExecutedAt": 1688603986703,
    "lastScheduledRunId": null,
    "lastSuccessfullyExecutedCode": "#drop missing values\ndf.dropna(inplace=True)"
   },
   "outputs": [],
   "source": [
    "#drop missing values\n",
    "df.dropna(inplace=True)"
   ]
  },
  {
   "cell_type": "markdown",
   "id": "fac30dea-e7f2-43ff-b1a2-dcb7bc403951",
   "metadata": {},
   "source": [
    "The variation of calories, carbohydrate, sugar, and protein on different categories and servings are big among data. There are only 52 rows out of 947 contains missing values. Therefore drop these rows."
   ]
  },
  {
   "cell_type": "code",
   "execution_count": 14,
   "id": "69c836d1-4e66-468b-9ad5-40cbde6582bb",
   "metadata": {
    "executionCancelledAt": null,
    "executionTime": 47,
    "lastExecutedAt": 1688603986751,
    "lastScheduledRunId": null,
    "lastSuccessfullyExecutedCode": "df.describe(include=\"all\")"
   },
   "outputs": [
    {
     "data": {
      "application/com.datacamp.data-table.v1+json": {
       "table": {
        "data": [
         {
          "calories": 895,
          "carbohydrate": 895,
          "category": 895,
          "high_traffic": 895,
          "index": "count",
          "protein": 895,
          "recipe": 895,
          "servings": 895,
          "sugar": 895
         },
         {
          "calories": null,
          "carbohydrate": null,
          "category": 10,
          "high_traffic": 2,
          "index": "unique",
          "protein": null,
          "recipe": null,
          "servings": null,
          "sugar": null
         },
         {
          "calories": null,
          "carbohydrate": null,
          "category": "Chicken",
          "high_traffic": "High",
          "index": "top",
          "protein": null,
          "recipe": null,
          "servings": null,
          "sugar": null
         },
         {
          "calories": null,
          "carbohydrate": null,
          "category": 163,
          "high_traffic": 535,
          "index": "freq",
          "protein": null,
          "recipe": null,
          "servings": null,
          "sugar": null
         },
         {
          "calories": 435.9391955307,
          "carbohydrate": 35.0696759777,
          "category": null,
          "high_traffic": null,
          "index": "mean",
          "protein": 24.1492960894,
          "recipe": 473.6525139665,
          "servings": 3.4581005587,
          "sugar": 9.046547486
         },
         {
          "calories": 453.0209971775,
          "carbohydrate": 43.9490319812,
          "category": null,
          "high_traffic": null,
          "index": "std",
          "protein": 36.3697385865,
          "recipe": 272.7632831753,
          "servings": 1.735978913,
          "sugar": 14.6791758036
         },
         {
          "calories": 0.14,
          "carbohydrate": 0.03,
          "category": null,
          "high_traffic": null,
          "index": "min",
          "protein": 0,
          "recipe": 2,
          "servings": 1,
          "sugar": 0.01
         },
         {
          "calories": 110.43,
          "carbohydrate": 8.375,
          "category": null,
          "high_traffic": null,
          "index": "25%",
          "protein": 3.195,
          "recipe": 237.5,
          "servings": 2,
          "sugar": 1.69
         },
         {
          "calories": 288.55,
          "carbohydrate": 21.48,
          "category": null,
          "high_traffic": null,
          "index": "50%",
          "protein": 10.8,
          "recipe": 475,
          "servings": 4,
          "sugar": 4.55
         },
         {
          "calories": 597.65,
          "carbohydrate": 44.965,
          "category": null,
          "high_traffic": null,
          "index": "75%",
          "protein": 30.2,
          "recipe": 708.5,
          "servings": 4,
          "sugar": 9.8
         },
         {
          "calories": 3633.16,
          "carbohydrate": 530.42,
          "category": null,
          "high_traffic": null,
          "index": "max",
          "protein": 363.36,
          "recipe": 947,
          "servings": 6,
          "sugar": 148.75
         }
        ],
        "schema": {
         "fields": [
          {
           "name": "index",
           "type": "string"
          },
          {
           "name": "recipe",
           "type": "number"
          },
          {
           "name": "calories",
           "type": "number"
          },
          {
           "name": "carbohydrate",
           "type": "number"
          },
          {
           "name": "sugar",
           "type": "number"
          },
          {
           "name": "protein",
           "type": "number"
          },
          {
           "name": "category",
           "type": "string"
          },
          {
           "name": "servings",
           "type": "number"
          },
          {
           "name": "high_traffic",
           "type": "string"
          }
         ],
         "pandas_version": "1.4.0",
         "primaryKey": [
          "index"
         ]
        }
       },
       "total_rows": 11,
       "truncation_type": null
      },
      "text/html": [
       "<div>\n",
       "<style scoped>\n",
       "    .dataframe tbody tr th:only-of-type {\n",
       "        vertical-align: middle;\n",
       "    }\n",
       "\n",
       "    .dataframe tbody tr th {\n",
       "        vertical-align: top;\n",
       "    }\n",
       "\n",
       "    .dataframe thead th {\n",
       "        text-align: right;\n",
       "    }\n",
       "</style>\n",
       "<table border=\"1\" class=\"dataframe\">\n",
       "  <thead>\n",
       "    <tr style=\"text-align: right;\">\n",
       "      <th></th>\n",
       "      <th>recipe</th>\n",
       "      <th>calories</th>\n",
       "      <th>carbohydrate</th>\n",
       "      <th>sugar</th>\n",
       "      <th>protein</th>\n",
       "      <th>category</th>\n",
       "      <th>servings</th>\n",
       "      <th>high_traffic</th>\n",
       "    </tr>\n",
       "  </thead>\n",
       "  <tbody>\n",
       "    <tr>\n",
       "      <th>count</th>\n",
       "      <td>895.000000</td>\n",
       "      <td>895.000000</td>\n",
       "      <td>895.000000</td>\n",
       "      <td>895.000000</td>\n",
       "      <td>895.000000</td>\n",
       "      <td>895</td>\n",
       "      <td>895.000000</td>\n",
       "      <td>895</td>\n",
       "    </tr>\n",
       "    <tr>\n",
       "      <th>unique</th>\n",
       "      <td>NaN</td>\n",
       "      <td>NaN</td>\n",
       "      <td>NaN</td>\n",
       "      <td>NaN</td>\n",
       "      <td>NaN</td>\n",
       "      <td>10</td>\n",
       "      <td>NaN</td>\n",
       "      <td>2</td>\n",
       "    </tr>\n",
       "    <tr>\n",
       "      <th>top</th>\n",
       "      <td>NaN</td>\n",
       "      <td>NaN</td>\n",
       "      <td>NaN</td>\n",
       "      <td>NaN</td>\n",
       "      <td>NaN</td>\n",
       "      <td>Chicken</td>\n",
       "      <td>NaN</td>\n",
       "      <td>High</td>\n",
       "    </tr>\n",
       "    <tr>\n",
       "      <th>freq</th>\n",
       "      <td>NaN</td>\n",
       "      <td>NaN</td>\n",
       "      <td>NaN</td>\n",
       "      <td>NaN</td>\n",
       "      <td>NaN</td>\n",
       "      <td>163</td>\n",
       "      <td>NaN</td>\n",
       "      <td>535</td>\n",
       "    </tr>\n",
       "    <tr>\n",
       "      <th>mean</th>\n",
       "      <td>473.652514</td>\n",
       "      <td>435.939196</td>\n",
       "      <td>35.069676</td>\n",
       "      <td>9.046547</td>\n",
       "      <td>24.149296</td>\n",
       "      <td>NaN</td>\n",
       "      <td>3.458101</td>\n",
       "      <td>NaN</td>\n",
       "    </tr>\n",
       "    <tr>\n",
       "      <th>std</th>\n",
       "      <td>272.763283</td>\n",
       "      <td>453.020997</td>\n",
       "      <td>43.949032</td>\n",
       "      <td>14.679176</td>\n",
       "      <td>36.369739</td>\n",
       "      <td>NaN</td>\n",
       "      <td>1.735979</td>\n",
       "      <td>NaN</td>\n",
       "    </tr>\n",
       "    <tr>\n",
       "      <th>min</th>\n",
       "      <td>2.000000</td>\n",
       "      <td>0.140000</td>\n",
       "      <td>0.030000</td>\n",
       "      <td>0.010000</td>\n",
       "      <td>0.000000</td>\n",
       "      <td>NaN</td>\n",
       "      <td>1.000000</td>\n",
       "      <td>NaN</td>\n",
       "    </tr>\n",
       "    <tr>\n",
       "      <th>25%</th>\n",
       "      <td>237.500000</td>\n",
       "      <td>110.430000</td>\n",
       "      <td>8.375000</td>\n",
       "      <td>1.690000</td>\n",
       "      <td>3.195000</td>\n",
       "      <td>NaN</td>\n",
       "      <td>2.000000</td>\n",
       "      <td>NaN</td>\n",
       "    </tr>\n",
       "    <tr>\n",
       "      <th>50%</th>\n",
       "      <td>475.000000</td>\n",
       "      <td>288.550000</td>\n",
       "      <td>21.480000</td>\n",
       "      <td>4.550000</td>\n",
       "      <td>10.800000</td>\n",
       "      <td>NaN</td>\n",
       "      <td>4.000000</td>\n",
       "      <td>NaN</td>\n",
       "    </tr>\n",
       "    <tr>\n",
       "      <th>75%</th>\n",
       "      <td>708.500000</td>\n",
       "      <td>597.650000</td>\n",
       "      <td>44.965000</td>\n",
       "      <td>9.800000</td>\n",
       "      <td>30.200000</td>\n",
       "      <td>NaN</td>\n",
       "      <td>4.000000</td>\n",
       "      <td>NaN</td>\n",
       "    </tr>\n",
       "    <tr>\n",
       "      <th>max</th>\n",
       "      <td>947.000000</td>\n",
       "      <td>3633.160000</td>\n",
       "      <td>530.420000</td>\n",
       "      <td>148.750000</td>\n",
       "      <td>363.360000</td>\n",
       "      <td>NaN</td>\n",
       "      <td>6.000000</td>\n",
       "      <td>NaN</td>\n",
       "    </tr>\n",
       "  </tbody>\n",
       "</table>\n",
       "</div>"
      ],
      "text/plain": [
       "            recipe     calories  carbohydrate  ...  category    servings high_traffic\n",
       "count   895.000000   895.000000    895.000000  ...       895  895.000000          895\n",
       "unique         NaN          NaN           NaN  ...        10         NaN            2\n",
       "top            NaN          NaN           NaN  ...   Chicken         NaN         High\n",
       "freq           NaN          NaN           NaN  ...       163         NaN          535\n",
       "mean    473.652514   435.939196     35.069676  ...       NaN    3.458101          NaN\n",
       "std     272.763283   453.020997     43.949032  ...       NaN    1.735979          NaN\n",
       "min       2.000000     0.140000      0.030000  ...       NaN    1.000000          NaN\n",
       "25%     237.500000   110.430000      8.375000  ...       NaN    2.000000          NaN\n",
       "50%     475.000000   288.550000     21.480000  ...       NaN    4.000000          NaN\n",
       "75%     708.500000   597.650000     44.965000  ...       NaN    4.000000          NaN\n",
       "max     947.000000  3633.160000    530.420000  ...       NaN    6.000000          NaN\n",
       "\n",
       "[11 rows x 8 columns]"
      ]
     },
     "execution_count": 14,
     "metadata": {},
     "output_type": "execute_result"
    }
   ],
   "source": [
    "df.describe(include=\"all\")"
   ]
  },
  {
   "cell_type": "markdown",
   "id": "6fcf3a19-6298-4c1f-bc0b-554efcd9ed90",
   "metadata": {},
   "source": [
    "# EDA"
   ]
  },
  {
   "cell_type": "code",
   "execution_count": 15,
   "id": "1222792e-ee87-41c0-93bb-3d18c6984438",
   "metadata": {
    "executionCancelledAt": null,
    "executionTime": 47,
    "lastExecutedAt": 1688603986798,
    "lastScheduledRunId": null,
    "lastSuccessfullyExecutedCode": "def count_plot(df, feature_name, title_name):\n    \"\"\"\n    show count plot on given feature name in datafrane with a title\n    args:\n        df : dataframe\n        feature_name : the name of feature interested\n        title_name : the tilte of plot\n    \"\"\"\n    fig = sns.countplot(\n        data = df,\n        y = feature_name\n    )\n    #show value on the bar\n    for i in fig.patches:\n        fig.annotate('{:.0f}'.format(i.get_width()),  (i.get_width(), i.get_y()+ i.get_height()/2), ha = 'left')\n\n    #set y-axis invisible\n    fig.axes.get_xaxis().set_ticks([])\n    plt.title(title_name)\n    plt.show()\n    "
   },
   "outputs": [],
   "source": [
    "def count_plot(df, feature_name, title_name):\n",
    "    \"\"\"\n",
    "    show count plot on given feature name in datafrane with a title\n",
    "    args:\n",
    "        df : dataframe\n",
    "        feature_name : the name of feature interested\n",
    "        title_name : the tilte of plot\n",
    "    \"\"\"\n",
    "    fig = sns.countplot(\n",
    "        data = df,\n",
    "        y = feature_name\n",
    "    )\n",
    "    #show value on the bar\n",
    "    for i in fig.patches:\n",
    "        fig.annotate('{:.0f}'.format(i.get_width()),  (i.get_width(), i.get_y()+ i.get_height()/2), ha = 'left')\n",
    "\n",
    "    #set y-axis invisible\n",
    "    fig.axes.get_xaxis().set_ticks([])\n",
    "    plt.title(title_name)\n",
    "    plt.show()\n",
    "    "
   ]
  },
  {
   "cell_type": "code",
   "execution_count": 16,
   "id": "23e81899-495e-440e-8762-36b1272a9ed8",
   "metadata": {
    "executionCancelledAt": null,
    "executionTime": 200,
    "jupyter": {
     "outputs_hidden": false,
     "source_hidden": true
    },
    "lastExecutedAt": 1688603986999,
    "lastScheduledRunId": null,
    "lastSuccessfullyExecutedCode": "count_plot(df, \"high_traffic\", \"Recipe traffic distribution\")"
   },
   "outputs": [
    {
     "data": {
      "image/png": "[encoded data removed]",
      "text/plain": [
       "<Figure size 640x480 with 1 Axes>"
      ]
     },
     "metadata": {},
     "output_type": "display_data"
    }
   ],
   "source": [
    "count_plot(df, \"high_traffic\", \"Recipe traffic distribution\")"
   ]
  },
  {
   "cell_type": "code",
   "execution_count": 17,
   "id": "4dfe48ae-e5b0-4df5-923b-277f02c0a8ab",
   "metadata": {
    "executionCancelledAt": null,
    "executionTime": 195,
    "lastExecutedAt": 1688603987194,
    "lastScheduledRunId": null,
    "lastSuccessfullyExecutedCode": "count_plot(df, 'category' , \"Category counts\")"
   },
   "outputs": [
    {
     "data": {
      "image/png": "[encoded data removed]",
      "text/plain": [
       "<Figure size 640x480 with 1 Axes>"
      ]
     },
     "metadata": {},
     "output_type": "display_data"
    }
   ],
   "source": [
    "count_plot(df, 'category' , \"Category counts\")"
   ]
  },
  {
   "cell_type": "code",
   "execution_count": 18,
   "id": "2086fefa-ce85-49e0-b463-91c1cc90b400",
   "metadata": {
    "executionCancelledAt": null,
    "executionTime": 98,
    "lastExecutedAt": 1688603987293,
    "lastScheduledRunId": null,
    "lastSuccessfullyExecutedCode": "count_plot(df, 'servings' , \"Serving counts\")"
   },
   "outputs": [
    {
     "data": {
      "image/png": "[encoded data removed]",
      "text/plain": [
       "<Figure size 640x480 with 1 Axes>"
      ]
     },
     "metadata": {},
     "output_type": "display_data"
    }
   ],
   "source": [
    "count_plot(df, 'servings' , \"Serving counts\")"
   ]
  },
  {
   "cell_type": "code",
   "execution_count": 19,
   "id": "2528715f-31c3-4c69-85c4-d14449866cd7",
   "metadata": {
    "executionCancelledAt": null,
    "executionTime": 438,
    "lastExecutedAt": 1688603987731,
    "lastScheduledRunId": null,
    "lastSuccessfullyExecutedCode": "# which category has high traffic\nfig = sns.catplot(\n    data = df,\n    y = 'category',\n    hue = 'high_traffic',\n    kind = 'count'\n)\n\n#get axis \nax  = fig.ax\n\n#show values\nfor i in ax.patches:\n    ax. annotate(\"{:.0f}\".format(i.get_width()), (i.get_width(), i.get_y() + i.get_height()), ha = 'left')\n\n#show values\nax.get_xaxis().set_ticks([])\nplt.title(\"Categoties comparision for high traffic \")\nplt.show()"
   },
   "outputs": [
    {
     "data": {
      "image/png": "[encoded data removed]",
      "text/plain": [
       "<Figure size 579.236x500 with 1 Axes>"
      ]
     },
     "metadata": {},
     "output_type": "display_data"
    }
   ],
   "source": [
    "# which category has high traffic\n",
    "fig = sns.catplot(\n",
    "    data = df,\n",
    "    y = 'category',\n",
    "    hue = 'high_traffic',\n",
    "    kind = 'count'\n",
    ")\n",
    "\n",
    "#get axis \n",
    "ax  = fig.ax\n",
    "\n",
    "#show values\n",
    "for i in ax.patches:\n",
    "    ax. annotate(\"{:.0f}\".format(i.get_width()), (i.get_width(), i.get_y() + i.get_height()), ha = 'left')\n",
    "\n",
    "#show values\n",
    "ax.get_xaxis().set_ticks([])\n",
    "plt.title(\"Categoties comparision for high traffic \")\n",
    "plt.show()"
   ]
  },
  {
   "cell_type": "code",
   "execution_count": 20,
   "id": "4d67f275-4753-46bc-be0b-c4b1918314e2",
   "metadata": {
    "executionCancelledAt": null,
    "executionTime": 1316,
    "lastExecutedAt": 1688603989047,
    "lastScheduledRunId": null,
    "lastSuccessfullyExecutedCode": "#comparing serving for different categories for high traffic\n\ncat_comparions = df.groupby(['high_traffic', 'category', 'servings']).agg( total_counts = ('recipe', 'count')).reset_index()\n\nfig1 = sns.catplot(\n     \n    data = cat_comparions,\n    y = 'category',\n    x = 'total_counts',\n    hue = 'high_traffic',\n    col= 'servings',\n    kind = 'bar',\n    aspect = 0.6,\n    height =  4.5\n)\nfig1.fig.subplots_adjust(top=0.9)\nfig1.fig.suptitle(\"Variations of categories on high traffic in different servings\")\nplt.show()"
   },
   "outputs": [
    {
     "data": {
      "image/png": "[encoded data removed]",
      "text/plain": [
       "<Figure size 1159.24x450 with 4 Axes>"
      ]
     },
     "metadata": {},
     "output_type": "display_data"
    }
   ],
   "source": [
    "#comparing serving for different categories for high traffic\n",
    "\n",
    "cat_comparions = df.groupby(['high_traffic', 'category', 'servings']).agg( total_counts = ('recipe', 'count')).reset_index()\n",
    "\n",
    "fig1 = sns.catplot(\n",
    "     \n",
    "    data = cat_comparions,\n",
    "    y = 'category',\n",
    "    x = 'total_counts',\n",
    "    hue = 'high_traffic',\n",
    "    col= 'servings',\n",
    "    kind = 'bar',\n",
    "    aspect = 0.6,\n",
    "    height =  4.5\n",
    ")\n",
    "fig1.fig.subplots_adjust(top=0.9)\n",
    "fig1.fig.suptitle(\"Variations of categories on high traffic in different servings\")\n",
    "plt.show()"
   ]
  },
  {
   "cell_type": "code",
   "execution_count": 21,
   "id": "2ce23056-3386-44b1-9372-7aa0f315de01",
   "metadata": {
    "executionCancelledAt": null,
    "executionTime": 52,
    "lastExecutedAt": 1688603989099,
    "lastScheduledRunId": null,
    "lastSuccessfullyExecutedCode": "df.groupby(['high_traffic', 'servings'])[['recipe']].agg(total_counts = ('recipe', 'count')).reset_index()"
   },
   "outputs": [
    {
     "data": {
      "application/com.datacamp.data-table.v1+json": {
       "table": {
        "data": [
         {
          "high_traffic": "High",
          "index": 0,
          "servings": 1,
          "total_counts": 99
         },
         {
          "high_traffic": "High",
          "index": 1,
          "servings": 2,
          "total_counts": 98
         },
         {
          "high_traffic": "High",
          "index": 2,
          "servings": 4,
          "total_counts": 220
         },
         {
          "high_traffic": "High",
          "index": 3,
          "servings": 6,
          "total_counts": 118
         },
         {
          "high_traffic": "Low",
          "index": 4,
          "servings": 1,
          "total_counts": 70
         },
         {
          "high_traffic": "Low",
          "index": 5,
          "servings": 2,
          "total_counts": 76
         },
         {
          "high_traffic": "Low",
          "index": 6,
          "servings": 4,
          "total_counts": 147
         },
         {
          "high_traffic": "Low",
          "index": 7,
          "servings": 6,
          "total_counts": 67
         }
        ],
        "schema": {
         "fields": [
          {
           "name": "index",
           "type": "integer"
          },
          {
           "name": "high_traffic",
           "type": "string"
          },
          {
           "name": "servings",
           "type": "integer"
          },
          {
           "name": "total_counts",
           "type": "integer"
          }
         ],
         "pandas_version": "1.4.0",
         "primaryKey": [
          "index"
         ]
        }
       },
       "total_rows": 8,
       "truncation_type": null
      },
      "text/html": [
       "<div>\n",
       "<style scoped>\n",
       "    .dataframe tbody tr th:only-of-type {\n",
       "        vertical-align: middle;\n",
       "    }\n",
       "\n",
       "    .dataframe tbody tr th {\n",
       "        vertical-align: top;\n",
       "    }\n",
       "\n",
       "    .dataframe thead th {\n",
       "        text-align: right;\n",
       "    }\n",
       "</style>\n",
       "<table border=\"1\" class=\"dataframe\">\n",
       "  <thead>\n",
       "    <tr style=\"text-align: right;\">\n",
       "      <th></th>\n",
       "      <th>high_traffic</th>\n",
       "      <th>servings</th>\n",
       "      <th>total_counts</th>\n",
       "    </tr>\n",
       "  </thead>\n",
       "  <tbody>\n",
       "    <tr>\n",
       "      <th>0</th>\n",
       "      <td>High</td>\n",
       "      <td>1</td>\n",
       "      <td>99</td>\n",
       "    </tr>\n",
       "    <tr>\n",
       "      <th>1</th>\n",
       "      <td>High</td>\n",
       "      <td>2</td>\n",
       "      <td>98</td>\n",
       "    </tr>\n",
       "    <tr>\n",
       "      <th>2</th>\n",
       "      <td>High</td>\n",
       "      <td>4</td>\n",
       "      <td>220</td>\n",
       "    </tr>\n",
       "    <tr>\n",
       "      <th>3</th>\n",
       "      <td>High</td>\n",
       "      <td>6</td>\n",
       "      <td>118</td>\n",
       "    </tr>\n",
       "    <tr>\n",
       "      <th>4</th>\n",
       "      <td>Low</td>\n",
       "      <td>1</td>\n",
       "      <td>70</td>\n",
       "    </tr>\n",
       "    <tr>\n",
       "      <th>5</th>\n",
       "      <td>Low</td>\n",
       "      <td>2</td>\n",
       "      <td>76</td>\n",
       "    </tr>\n",
       "    <tr>\n",
       "      <th>6</th>\n",
       "      <td>Low</td>\n",
       "      <td>4</td>\n",
       "      <td>147</td>\n",
       "    </tr>\n",
       "    <tr>\n",
       "      <th>7</th>\n",
       "      <td>Low</td>\n",
       "      <td>6</td>\n",
       "      <td>67</td>\n",
       "    </tr>\n",
       "  </tbody>\n",
       "</table>\n",
       "</div>"
      ],
      "text/plain": [
       "  high_traffic  servings  total_counts\n",
       "0         High         1            99\n",
       "1         High         2            98\n",
       "2         High         4           220\n",
       "3         High         6           118\n",
       "4          Low         1            70\n",
       "5          Low         2            76\n",
       "6          Low         4           147\n",
       "7          Low         6            67"
      ]
     },
     "execution_count": 21,
     "metadata": {},
     "output_type": "execute_result"
    }
   ],
   "source": [
    "df.groupby(['high_traffic', 'servings'])[['recipe']].agg(total_counts = ('recipe', 'count')).reset_index()"
   ]
  },
  {
   "cell_type": "markdown",
   "id": "d0cfb3cd-824b-44f1-b020-06b1e9e7c380",
   "metadata": {},
   "source": [
    "After cleaning the data, the dataset consists of 535 data points labeled as High and 360  data points labeled as Low in the high_traffic category. The distribution of the dataset is not perfectly balanced(50-50), but it is acceptable for predicting high-traffic category.\n",
    "\n",
    "There are 10 groups in the recipe category. Among these categories, the most popular one is Chicken with 163 recipes, followed by Breakfast with 106 recipes. On the other hand, The least popular category is One Dish Meal, which only has 67 recipes.\n",
    "\n",
    "\n",
    "Even though Chicken recipes have the highest number of recipes, it also has the highest number of low traffic(94 out of 163).  Similarly, 73 out of 106 breakfast recipes are unpopular. Interestingly, for beverage recipes(92), only 5 of them are popular. In contrast, vegetable (1 out of 78), potato(5 out of 83), and pork(7 out of 73) have the lowest number of unpopular recipes.\n",
    "\n",
    "Additionally, there are four serving size groups, which are 1,2,4,5 respectively. Most of the recipes in the dataset are intended to serve four people. Recipes for serving four people have the highest number of popular and unpopular recipes than in other serving-size groups.\n",
    "\n",
    "To sum up, recipe category and servings have significant impacts on traffic."
   ]
  },
  {
   "cell_type": "code",
   "execution_count": 22,
   "id": "61bdb0e1-fb90-4cec-9249-af457cf2741d",
   "metadata": {
    "executionCancelledAt": null,
    "executionTime": 47,
    "lastExecutedAt": 1688603989146,
    "lastScheduledRunId": null,
    "lastSuccessfullyExecutedCode": "#distribution plot\ndef dist_plot(df, feature_name):\n    \"\"\"\n    show distribution plot on given feature name in datafrane with a title\n    args:\n        df : dataframe\n        feature_name : the name of feature interested\n        \n    \"\"\"\n    fig = sns.catplot(\n        data = df,\n        y = 'category',\n        x = feature_name,\n        #hue = 'category',\n        hue = 'high_traffic',\n        kind = 'point',\n        col = 'servings',\n        aspect = 0.6,\n        height =  4.5\n        #bw=.25, \n        #cut=0, \n        #split=True\n        #showfliers = False\n    )\n    plt.subplots_adjust(top=0.9)\n    plt.suptitle('Average {} comparisons'.format(feature_name))\n    plt.show()\n    "
   },
   "outputs": [],
   "source": [
    "#distribution plot\n",
    "def dist_plot(df, feature_name):\n",
    "    \"\"\"\n",
    "    show distribution plot on given feature name in datafrane with a title\n",
    "    args:\n",
    "        df : dataframe\n",
    "        feature_name : the name of feature interested\n",
    "        \n",
    "    \"\"\"\n",
    "    fig = sns.catplot(\n",
    "        data = df,\n",
    "        y = 'category',\n",
    "        x = feature_name,\n",
    "        #hue = 'category',\n",
    "        hue = 'high_traffic',\n",
    "        kind = 'point',\n",
    "        col = 'servings',\n",
    "        aspect = 0.6,\n",
    "        height =  4.5\n",
    "        #bw=.25, \n",
    "        #cut=0, \n",
    "        #split=True\n",
    "        #showfliers = False\n",
    "    )\n",
    "    plt.subplots_adjust(top=0.9)\n",
    "    plt.suptitle('Average {} comparisons'.format(feature_name))\n",
    "    plt.show()\n",
    "    "
   ]
  },
  {
   "cell_type": "code",
   "execution_count": 23,
   "id": "b491793d-5d84-42c2-96b2-718d62e4bf35",
   "metadata": {
    "executionCancelledAt": null,
    "executionTime": 2301,
    "lastExecutedAt": 1688603991448,
    "lastScheduledRunId": null,
    "lastSuccessfullyExecutedCode": "dist_plot(df, 'calories')"
   },
   "outputs": [
    {
     "data": {
      "image/png": "[encoded data removed]",
      "text/plain": [
       "<Figure size 1159.24x450 with 4 Axes>"
      ]
     },
     "metadata": {},
     "output_type": "display_data"
    }
   ],
   "source": [
    "dist_plot(df, 'calories')"
   ]
  },
  {
   "cell_type": "code",
   "execution_count": 24,
   "id": "06c2d2ee-3f53-4ca3-aa59-25828bfc858d",
   "metadata": {
    "executionCancelledAt": null,
    "executionTime": 2139,
    "lastExecutedAt": 1688603993587,
    "lastScheduledRunId": null,
    "lastSuccessfullyExecutedCode": "dist_plot(df, 'carbohydrate')"
   },
   "outputs": [
    {
     "data": {
      "image/png": "[encoded data removed]",
      "text/plain": [
       "<Figure size 1159.24x450 with 4 Axes>"
      ]
     },
     "metadata": {},
     "output_type": "display_data"
    }
   ],
   "source": [
    "dist_plot(df, 'carbohydrate')"
   ]
  },
  {
   "cell_type": "code",
   "execution_count": 25,
   "id": "c0b841de-b68c-4bdf-b863-7a03656c986e",
   "metadata": {
    "executionCancelledAt": null,
    "executionTime": 2280,
    "lastExecutedAt": 1688603995867,
    "lastScheduledRunId": null,
    "lastSuccessfullyExecutedCode": "dist_plot(df, 'sugar')"
   },
   "outputs": [
    {
     "data": {
      "image/png": "[encoded data removed]",
      "text/plain": [
       "<Figure size 1159.24x450 with 4 Axes>"
      ]
     },
     "metadata": {},
     "output_type": "display_data"
    }
   ],
   "source": [
    "dist_plot(df, 'sugar')"
   ]
  },
  {
   "cell_type": "code",
   "execution_count": 26,
   "id": "d79b68a4-6f23-40c8-9ec0-d0fa3c24978c",
   "metadata": {
    "executionCancelledAt": null,
    "executionTime": 2223,
    "lastExecutedAt": 1688603998090,
    "lastScheduledRunId": null,
    "lastSuccessfullyExecutedCode": "dist_plot(df, 'protein')"
   },
   "outputs": [
    {
     "data": {
      "image/png": "[encoded data removed]",
      "text/plain": [
       "<Figure size 1159.24x450 with 4 Axes>"
      ]
     },
     "metadata": {},
     "output_type": "display_data"
    }
   ],
   "source": [
    "dist_plot(df, 'protein')"
   ]
  },
  {
   "cell_type": "markdown",
   "id": "954ff9cf-bffa-4f35-becc-fa7bded23ea0",
   "metadata": {},
   "source": [
    "From nutrition facts(calories, carbohydrates, sugar, protein), there are no noticeable patterns for different categories and servings."
   ]
  },
  {
   "cell_type": "code",
   "execution_count": 27,
   "id": "5373f8b3-0bb1-4500-936f-4636aca88e32",
   "metadata": {
    "executionCancelledAt": null,
    "executionTime": 48,
    "lastExecutedAt": 1688603998138,
    "lastScheduledRunId": null,
    "lastSuccessfullyExecutedCode": "#one_hot_encoding for categorical variables\ndf_final = pd.get_dummies(df, columns=['category', 'high_traffic'], prefix= '', prefix_sep='')"
   },
   "outputs": [],
   "source": [
    "#one_hot_encoding for categorical variables\n",
    "df_final = pd.get_dummies(df, columns=['category', 'high_traffic'], prefix= '', prefix_sep='')"
   ]
  },
  {
   "cell_type": "code",
   "execution_count": 28,
   "id": "eba2ce76-b2bb-4ad0-94ec-e5926f3d58c2",
   "metadata": {
    "executionCancelledAt": null,
    "executionTime": 44,
    "lastExecutedAt": 1688603998183,
    "lastScheduledRunId": null,
    "lastSuccessfullyExecutedCode": "df_final.head(2)"
   },
   "outputs": [
    {
     "data": {
      "application/com.datacamp.data-table.v1+json": {
       "table": {
        "data": [
         {
          "Beverages": 0,
          "Breakfast": 0,
          "Chicken": 0,
          "Dessert": 0,
          "High": 1,
          "Low": 0,
          "Lunch/Snacks": 0,
          "Meat": 0,
          "One Dish Meal": 0,
          "Pork": 0,
          "Potato": 1,
          "Vegetable": 0,
          "calories": 35.48,
          "carbohydrate": 38.56,
          "index": 1,
          "protein": 0.92,
          "recipe": 2,
          "servings": 4,
          "sugar": 0.66
         },
         {
          "Beverages": 0,
          "Breakfast": 1,
          "Chicken": 0,
          "Dessert": 0,
          "High": 0,
          "Low": 1,
          "Lunch/Snacks": 0,
          "Meat": 0,
          "One Dish Meal": 0,
          "Pork": 0,
          "Potato": 0,
          "Vegetable": 0,
          "calories": 914.28,
          "carbohydrate": 42.68,
          "index": 2,
          "protein": 2.88,
          "recipe": 3,
          "servings": 1,
          "sugar": 3.09
         }
        ],
        "schema": {
         "fields": [
          {
           "name": "index",
           "type": "integer"
          },
          {
           "name": "recipe",
           "type": "integer"
          },
          {
           "name": "calories",
           "type": "number"
          },
          {
           "name": "carbohydrate",
           "type": "number"
          },
          {
           "name": "sugar",
           "type": "number"
          },
          {
           "name": "protein",
           "type": "number"
          },
          {
           "name": "servings",
           "type": "integer"
          },
          {
           "name": "Beverages",
           "type": "integer"
          },
          {
           "name": "Breakfast",
           "type": "integer"
          },
          {
           "name": "Chicken",
           "type": "integer"
          },
          {
           "name": "Dessert",
           "type": "integer"
          },
          {
           "name": "Lunch/Snacks",
           "type": "integer"
          },
          {
           "name": "Meat",
           "type": "integer"
          },
          {
           "name": "One Dish Meal",
           "type": "integer"
          },
          {
           "name": "Pork",
           "type": "integer"
          },
          {
           "name": "Potato",
           "type": "integer"
          },
          {
           "name": "Vegetable",
           "type": "integer"
          },
          {
           "name": "High",
           "type": "integer"
          },
          {
           "name": "Low",
           "type": "integer"
          }
         ],
         "pandas_version": "1.4.0",
         "primaryKey": [
          "index"
         ]
        }
       },
       "total_rows": 2,
       "truncation_type": null
      },
      "text/html": [
       "<div>\n",
       "<style scoped>\n",
       "    .dataframe tbody tr th:only-of-type {\n",
       "        vertical-align: middle;\n",
       "    }\n",
       "\n",
       "    .dataframe tbody tr th {\n",
       "        vertical-align: top;\n",
       "    }\n",
       "\n",
       "    .dataframe thead th {\n",
       "        text-align: right;\n",
       "    }\n",
       "</style>\n",
       "<table border=\"1\" class=\"dataframe\">\n",
       "  <thead>\n",
       "    <tr style=\"text-align: right;\">\n",
       "      <th></th>\n",
       "      <th>recipe</th>\n",
       "      <th>calories</th>\n",
       "      <th>carbohydrate</th>\n",
       "      <th>sugar</th>\n",
       "      <th>protein</th>\n",
       "      <th>servings</th>\n",
       "      <th>Beverages</th>\n",
       "      <th>Breakfast</th>\n",
       "      <th>Chicken</th>\n",
       "      <th>Dessert</th>\n",
       "      <th>Lunch/Snacks</th>\n",
       "      <th>Meat</th>\n",
       "      <th>One Dish Meal</th>\n",
       "      <th>Pork</th>\n",
       "      <th>Potato</th>\n",
       "      <th>Vegetable</th>\n",
       "      <th>High</th>\n",
       "      <th>Low</th>\n",
       "    </tr>\n",
       "  </thead>\n",
       "  <tbody>\n",
       "    <tr>\n",
       "      <th>1</th>\n",
       "      <td>2</td>\n",
       "      <td>35.48</td>\n",
       "      <td>38.56</td>\n",
       "      <td>0.66</td>\n",
       "      <td>0.92</td>\n",
       "      <td>4</td>\n",
       "      <td>0</td>\n",
       "      <td>0</td>\n",
       "      <td>0</td>\n",
       "      <td>0</td>\n",
       "      <td>0</td>\n",
       "      <td>0</td>\n",
       "      <td>0</td>\n",
       "      <td>0</td>\n",
       "      <td>1</td>\n",
       "      <td>0</td>\n",
       "      <td>1</td>\n",
       "      <td>0</td>\n",
       "    </tr>\n",
       "    <tr>\n",
       "      <th>2</th>\n",
       "      <td>3</td>\n",
       "      <td>914.28</td>\n",
       "      <td>42.68</td>\n",
       "      <td>3.09</td>\n",
       "      <td>2.88</td>\n",
       "      <td>1</td>\n",
       "      <td>0</td>\n",
       "      <td>1</td>\n",
       "      <td>0</td>\n",
       "      <td>0</td>\n",
       "      <td>0</td>\n",
       "      <td>0</td>\n",
       "      <td>0</td>\n",
       "      <td>0</td>\n",
       "      <td>0</td>\n",
       "      <td>0</td>\n",
       "      <td>0</td>\n",
       "      <td>1</td>\n",
       "    </tr>\n",
       "  </tbody>\n",
       "</table>\n",
       "</div>"
      ],
      "text/plain": [
       "   recipe  calories  carbohydrate  sugar  ...  Potato  Vegetable  High  Low\n",
       "1       2     35.48         38.56   0.66  ...       1          0     1    0\n",
       "2       3    914.28         42.68   3.09  ...       0          0     0    1\n",
       "\n",
       "[2 rows x 18 columns]"
      ]
     },
     "execution_count": 28,
     "metadata": {},
     "output_type": "execute_result"
    }
   ],
   "source": [
    "df_final.head(2)"
   ]
  },
  {
   "cell_type": "markdown",
   "id": "b917e339-1ec4-4c01-b0f2-b5bf2d029d7f",
   "metadata": {},
   "source": [
    "# Model Selection & Evalaution"
   ]
  },
  {
   "cell_type": "code",
   "execution_count": 29,
   "id": "64f090a6-0b45-4958-b169-63896c5d405b",
   "metadata": {
    "executionCancelledAt": null,
    "executionTime": 48,
    "lastExecutedAt": 1688603998231,
    "lastScheduledRunId": null,
    "lastSuccessfullyExecutedCode": "#create features and dependent variable\nX = df_final.drop(columns=['recipe', 'Low', 'High'])\ny = df_final['High']\n\n# create training, testing and validating sets\nX_train, X_remain, y_train, y_remain = train_test_split( X, y, test_size=0.35, random_state= 42, stratify= y )\n\nX_test, X_valid, y_test, y_valid  = train_test_split(X_remain, y_remain, test_size= 0.8, random_state= 22, stratify=  y_remain )\n"
   },
   "outputs": [],
   "source": [
    "#create features and dependent variable\n",
    "X = df_final.drop(columns=['recipe', 'Low', 'High'])\n",
    "y = df_final['High']\n",
    "\n",
    "# create training, testing and validating sets\n",
    "X_train, X_remain, y_train, y_remain = train_test_split( X, y, test_size=0.35, random_state= 42, stratify= y )\n",
    "\n",
    "X_test, X_valid, y_test, y_valid  = train_test_split(X_remain, y_remain, test_size= 0.8, random_state= 22, stratify=  y_remain )\n"
   ]
  },
  {
   "cell_type": "markdown",
   "id": "745aa8c7-525f-4120-8e40-75ce22f9e17f",
   "metadata": {},
   "source": [
    "Assumption of GaussianNB\n",
    "1.  Assumes that the features are independent of each other given the class labels\n",
    "2.  Assumes that the features follow a Gaussian (normal) distribution\n",
    "\n",
    "The content of the recipe, calories, carbohydrate, sugar, protein, and servings are independent, first condition satisfied\n",
    "\n",
    "From qqplot, the distribution of blue dots on independent features is not a straight line. Therefore, the GaussianNB model does not fit"
   ]
  },
  {
   "cell_type": "code",
   "execution_count": 30,
   "id": "da01a0c6-7047-4b92-a118-50a31804bbfc",
   "metadata": {
    "executionCancelledAt": null,
    "executionTime": 684,
    "lastExecutedAt": 1688603998915,
    "lastScheduledRunId": null,
    "lastSuccessfullyExecutedCode": "#q-q plot:\nfig, axs = plt.subplots(1, 5, figsize=(15, 5))\nsm.qqplot(df['calories'], line='s', fit=True, ax=axs[0])\nsm.qqplot(df['carbohydrate'], line='s', fit=True, ax=axs[1])\nsm.qqplot(df['sugar'], line='s', fit=True, ax=axs[2])\nsm.qqplot(df['protein'], line='s', fit=True, ax=axs[3])\nsm.qqplot(df['servings'], line='s', fit=True, ax=axs[4])\nplt.show()"
   },
   "outputs": [
    {
     "data": {
      "image/png": "[encoded data removed]",
      "text/plain": [
       "<Figure size 1500x500 with 5 Axes>"
      ]
     },
     "metadata": {},
     "output_type": "display_data"
    }
   ],
   "source": [
    "#q-q plot:\n",
    "fig, axs = plt.subplots(1, 5, figsize=(15, 5))\n",
    "sm.qqplot(df['calories'], line='s', fit=True, ax=axs[0])\n",
    "sm.qqplot(df['carbohydrate'], line='s', fit=True, ax=axs[1])\n",
    "sm.qqplot(df['sugar'], line='s', fit=True, ax=axs[2])\n",
    "sm.qqplot(df['protein'], line='s', fit=True, ax=axs[3])\n",
    "sm.qqplot(df['servings'], line='s', fit=True, ax=axs[4])\n",
    "plt.show()"
   ]
  },
  {
   "cell_type": "code",
   "execution_count": 31,
   "id": "865b395d-7f90-44fc-afa6-9e1ae15df886",
   "metadata": {
    "executionCancelledAt": null,
    "executionTime": 43,
    "lastExecutedAt": 1688603998958,
    "lastScheduledRunId": null,
    "lastSuccessfullyExecutedCode": "#create nb model\nnb = GaussianNB()\n\n#train model\nnb.fit(X_train, y_train)\n\n#predict values\ny_pred_nb = nb.predict(X_test)"
   },
   "outputs": [],
   "source": [
    "#create nb model\n",
    "nb = GaussianNB()\n",
    "\n",
    "#train model\n",
    "nb.fit(X_train, y_train)\n",
    "\n",
    "#predict values\n",
    "y_pred_nb = nb.predict(X_test)"
   ]
  },
  {
   "cell_type": "markdown",
   "id": "ecc70612-72d2-4e88-8ef6-629d52a47344",
   "metadata": {},
   "source": [
    "Assumption of Logistic regression\n",
    "1. Binary outcome\n",
    "2. Observations are independent\n",
    "3. A linear relationship between the features and the log-odds of the target variable\n",
    "4. No multicollinearity \n",
    "5. No extreme outliers\n",
    "\n",
    "\n",
    "The output of predicting high-traffic is 0 or 1, binary outcome satisfied\n",
    "\n",
    "Each observations are indepedent since the content of each recipe is independent\n",
    "\n",
    "The Residual analysis plot displayed below does not show a random cloud shape, therefore, condition 3 does not hold,logistic regression cannot be applied "
   ]
  },
  {
   "cell_type": "code",
   "execution_count": 32,
   "id": "f22e4e15-3efb-49f3-9ee5-9909decbcae2",
   "metadata": {
    "executionCancelledAt": null,
    "executionTime": 209,
    "lastExecutedAt": 1688603999168,
    "lastScheduledRunId": null,
    "lastSuccessfullyExecutedCode": "#logistic regression\nlr = LogisticRegression(random_state=1)\n\n#train model\nlr.fit(X_train, y_train)\n\n#predict probablity\ny_pred_proba = lr.predict_proba(X_test)[:, 1]\n\n#calculate residuals\nresiduals  = y_test - y_pred_proba\n\n#plot scatter plot\nplt.scatter(y_pred_proba, residuals)\nplt.axhline(0, color='r', linestyle='--')\nplt.xlabel('Predicted Probability')\nplt.ylabel('Residuals')\nplt.title('Residual Analysis')\nplt.show()"
   },
   "outputs": [
    {
     "data": {
      "image/png": "[encoded data removed]",
      "text/plain": [
       "<Figure size 640x480 with 1 Axes>"
      ]
     },
     "metadata": {},
     "output_type": "display_data"
    }
   ],
   "source": [
    "#logistic regression\n",
    "lr = LogisticRegression(random_state=1)\n",
    "\n",
    "#train model\n",
    "lr.fit(X_train, y_train)\n",
    "\n",
    "#predict probablity\n",
    "y_pred_proba = lr.predict_proba(X_test)[:, 1]\n",
    "\n",
    "#calculate residuals\n",
    "residuals  = y_test - y_pred_proba\n",
    "\n",
    "#plot scatter plot\n",
    "plt.scatter(y_pred_proba, residuals)\n",
    "plt.axhline(0, color='r', linestyle='--')\n",
    "plt.xlabel('Predicted Probability')\n",
    "plt.ylabel('Residuals')\n",
    "plt.title('Residual Analysis')\n",
    "plt.show()"
   ]
  },
  {
   "cell_type": "markdown",
   "id": "f703671c-5632-49b7-ae07-e4d64f6661d9",
   "metadata": {},
   "source": [
    "Assumption of tree-based models (Decision tree, GradientBoostingClassifier)\n",
    "- no assumptions, can handle linear and non-linear"
   ]
  },
  {
   "cell_type": "code",
   "execution_count": 33,
   "id": "126213f1-73dd-4741-af17-96c2e30da199",
   "metadata": {
    "executionCancelledAt": null,
    "executionTime": 47,
    "lastExecutedAt": 1688603999215,
    "lastScheduledRunId": null,
    "lastSuccessfullyExecutedCode": "# decision tree\ndt = DecisionTreeClassifier(random_state= 1)\n\n#train model\ndt.fit(X_train, y_train)\n\n#predict values\ny_pred_dt = dt.predict(X_test)"
   },
   "outputs": [],
   "source": [
    "# decision tree\n",
    "dt = DecisionTreeClassifier(random_state= 1)\n",
    "\n",
    "#train model\n",
    "dt.fit(X_train, y_train)\n",
    "\n",
    "#predict values\n",
    "y_pred_dt = dt.predict(X_test)"
   ]
  },
  {
   "cell_type": "code",
   "execution_count": 34,
   "id": "8e54b37a-b267-40cd-9c31-cc14355606c0",
   "metadata": {
    "executionCancelledAt": null,
    "executionTime": 110,
    "lastExecutedAt": 1688603999326,
    "lastScheduledRunId": null,
    "lastSuccessfullyExecutedCode": "# decision tree\ngb = GradientBoostingClassifier(random_state= 1)\n\n#train model\ngb.fit(X_train, y_train)\n\n#predict values\ny_pred_gb = gb.predict(X_test)"
   },
   "outputs": [],
   "source": [
    "# decision tree\n",
    "gb = GradientBoostingClassifier(random_state= 1)\n",
    "\n",
    "#train model\n",
    "gb.fit(X_train, y_train)\n",
    "\n",
    "#predict values\n",
    "y_pred_gb = gb.predict(X_test)"
   ]
  },
  {
   "cell_type": "code",
   "execution_count": 35,
   "id": "4815e99d-a926-493f-9d27-686761f642ed",
   "metadata": {
    "executionCancelledAt": null,
    "executionTime": 47,
    "lastExecutedAt": 1688603999375,
    "lastScheduledRunId": null,
    "lastSuccessfullyExecutedCode": "# function to display evaluated metric\n\ndef evaluation(y_true, y_predict):\n    \"\"\"\n    This is a function for displaying evaluation metric on Accuracy, F1, precision, and recall\n    args: y_true the real values\n          y_preidct predicting values\n    print out 4 evaluation calues\n    \"\"\"\n    print(\"Accuracy: {:.3f}\".format(accuracy_score(y_true, y_predict)))\n    print(\"Precision: {:.3f}\".format(precision_score(y_true, y_predict)))\n    print(\"Recall: {:.3f}\".format(recall_score(y_true, y_predict)))\n    print(\"F1: {:.3f}\".format(f1_score(y_true, y_predict)))"
   },
   "outputs": [],
   "source": [
    "# function to display evaluated metric\n",
    "\n",
    "def evaluation(y_true, y_predict):\n",
    "    \"\"\"\n",
    "    This is a function for displaying evaluation metric on Accuracy, F1, precision, and recall\n",
    "    args: y_true the real values\n",
    "          y_preidct predicting values\n",
    "    print out 4 evaluation calues\n",
    "    \"\"\"\n",
    "    print(\"Accuracy: {:.3f}\".format(accuracy_score(y_true, y_predict)))\n",
    "    print(\"Precision: {:.3f}\".format(precision_score(y_true, y_predict)))\n",
    "    print(\"Recall: {:.3f}\".format(recall_score(y_true, y_predict)))\n",
    "    print(\"F1: {:.3f}\".format(f1_score(y_true, y_predict)))"
   ]
  },
  {
   "cell_type": "code",
   "execution_count": 36,
   "id": "493602ef-01c8-4ca8-ae0b-5b28ab3d6275",
   "metadata": {
    "executionCancelledAt": null,
    "executionTime": 44,
    "lastExecutedAt": 1688603999419,
    "lastScheduledRunId": null,
    "lastSuccessfullyExecutedCode": "print(\"Decision Tree Classifier model:\")\nevaluation(y_test, y_pred_dt)"
   },
   "outputs": [
    {
     "name": "stdout",
     "output_type": "stream",
     "text": [
      "Decision Tree Classifier model:\n",
      "Accuracy: 0.758\n",
      "Precision: 0.844\n",
      "Recall: 0.730\n",
      "F1: 0.783\n"
     ]
    }
   ],
   "source": [
    "print(\"Decision Tree Classifier model:\")\n",
    "evaluation(y_test, y_pred_dt)"
   ]
  },
  {
   "cell_type": "code",
   "execution_count": 37,
   "id": "85117320-7ddd-45b1-9d75-2a2f8e068327",
   "metadata": {
    "executionCancelledAt": null,
    "executionTime": 48,
    "lastExecutedAt": 1688603999467,
    "lastScheduledRunId": null,
    "lastSuccessfullyExecutedCode": "print(\"GradientBoostingClassifier model:\")\nevaluation(y_test, y_pred_gb)"
   },
   "outputs": [
    {
     "name": "stdout",
     "output_type": "stream",
     "text": [
      "GradientBoostingClassifier model:\n",
      "Accuracy: 0.790\n",
      "Precision: 0.816\n",
      "Recall: 0.838\n",
      "F1: 0.827\n"
     ]
    }
   ],
   "source": [
    "print(\"GradientBoostingClassifier model:\")\n",
    "evaluation(y_test, y_pred_gb)"
   ]
  },
  {
   "cell_type": "code",
   "execution_count": 38,
   "id": "752303db-75e2-4b66-a1dc-509cce5ce6dc",
   "metadata": {
    "executionCancelledAt": null,
    "executionTime": 47,
    "lastExecutedAt": 1688603999514,
    "lastScheduledRunId": null,
    "lastSuccessfullyExecutedCode": "#confusing matrix function\n\ndef matrix_plot(model):\n    \"\"\"\n    ploting confusion matrix \n    args: y_true the real values\n          y_preidct predicting values\n          model the model used for classfication\n    show confusion matrix plot\n    \"\"\"\n    #calculate confusion matrix\n    #cm = confusion_matrix(y_true, y_predict)\n    \n    #display confusion matrix\n    ConfusionMatrixDisplay.from_estimator(model, X_test, y_test)\n    plt.show()\n"
   },
   "outputs": [],
   "source": [
    "#confusing matrix function\n",
    "\n",
    "def matrix_plot(model):\n",
    "    \"\"\"\n",
    "    ploting confusion matrix \n",
    "    args: y_true the real values\n",
    "          y_preidct predicting values\n",
    "          model the model used for classfication\n",
    "    show confusion matrix plot\n",
    "    \"\"\"\n",
    "    #calculate confusion matrix\n",
    "    #cm = confusion_matrix(y_true, y_predict)\n",
    "    \n",
    "    #display confusion matrix\n",
    "    ConfusionMatrixDisplay.from_estimator(model, X_test, y_test)\n",
    "    plt.show()\n"
   ]
  },
  {
   "cell_type": "code",
   "execution_count": 39,
   "id": "c2a738cd-cee3-404c-9bbb-a2e461adc9fe",
   "metadata": {
    "executionCancelledAt": null,
    "executionTime": 228,
    "lastExecutedAt": 1688603999743,
    "lastScheduledRunId": null,
    "lastSuccessfullyExecutedCode": "print(\"Decision Tree Classifier model:\")\nmatrix_plot(dt)"
   },
   "outputs": [
    {
     "name": "stdout",
     "output_type": "stream",
     "text": [
      "Decision Tree Classifier model:\n"
     ]
    },
    {
     "data": {
      "image/png": "[encoded data removed]",
      "text/plain": [
       "<Figure size 640x480 with 2 Axes>"
      ]
     },
     "metadata": {},
     "output_type": "display_data"
    }
   ],
   "source": [
    "print(\"Decision Tree Classifier model:\")\n",
    "matrix_plot(dt)"
   ]
  },
  {
   "cell_type": "code",
   "execution_count": 40,
   "id": "44bec4ee-6a5a-41f9-b09c-ed3649b7e3f7",
   "metadata": {
    "executionCancelledAt": null,
    "executionTime": 170,
    "lastExecutedAt": 1688603999913,
    "lastScheduledRunId": null,
    "lastSuccessfullyExecutedCode": "print(\"GradientBoostingClassifier model:\")\nmatrix_plot(gb)"
   },
   "outputs": [
    {
     "name": "stdout",
     "output_type": "stream",
     "text": [
      "GradientBoostingClassifier model:\n"
     ]
    },
    {
     "data": {
      "image/png": "[encoded data removed]",
      "text/plain": [
       "<Figure size 640x480 with 2 Axes>"
      ]
     },
     "metadata": {},
     "output_type": "display_data"
    }
   ],
   "source": [
    "print(\"GradientBoostingClassifier model:\")\n",
    "matrix_plot(gb)"
   ]
  },
  {
   "cell_type": "markdown",
   "id": "c3c4567f-a448-4579-abc9-8c9445b5c66d",
   "metadata": {},
   "source": [
    "Before tuning hyperparameters of models:\n",
    "\n",
    "| Models             | Accuracy       | Recall         | Precision      |   F1           |\n",
    "| --------------     | -------------- | -------------- | -------------- | -------------- |\n",
    "| Decision Tree      | 0.758          |        0.730   |      0.844     |           0.783|\n",
    "| GradientBoosting   | 0.790          |         0.838  |       0.816   |          0.827 |\n",
    "\n",
    "For the scope of this project, the team desires to achieve predicting high-traffic recipes 80% of the time and minimizing the display of unpopular recipes. The primiary goal is to achieve 80% of accuarcy on model prediction, which is the measurement of overall correctness of predition. Additionally, the model should pay attention on preicsion, recall, and f1\n",
    "\n",
    "Precision is accuracy of prediction, how many predicted popular recipes are acutally popular, defined as TP/(TP+FP)\n",
    "\n",
    "Replacing unpopular recipes as popular recipes for display on the company website would lead to decrease traffic, lower number of subscriptions and less sales for generating revenue\n",
    "\n",
    "Recall is how many popular recipes that model correcctly identy, defined as TP/(TP+FN)\n",
    "\n",
    "Missing pupular recipes due to false negative would be bad for business opportunities to gain more subscriers\n",
    "\n",
    "F1 is measure the balance of precision and recall, defined as 2 * (precision * recall) / (precision + recall)\n",
    "\n",
    "\n",
    "Confusion matrix:\n",
    "\n",
    "| Models             | TP             | TN             | FN             | FP             |\n",
    "| --------------     | -------------- | -------------- | -------------- | -------------- |\n",
    "| Decision Tree      | 27             |            20  |            10  |            5  |\n",
    "| GradientBoosting   | 31             |            18  |            6   |            7  |\n",
    "\n",
    "\n",
    "For one-hot-encoding, converting categorical value into numerical values. The target variable of high_traffic(High) has set to be \"1\", which means high_traffic(0) to be \"0\".\n",
    "\n",
    "- True positive(TP): correctly classify High\n",
    "- True negative(TN): correctly classify Low\n",
    "- False positive(FP): the actual label is Low but misclassified as High\n",
    "- False negative(FN): the actual label is High but misclassified as Low\n",
    "\n",
    "\n",
    "\n",
    "In general, two models have a higher value in false positives than that in false negatives. GradientBoosting have sligtly better performance than Decision Tree from Accuracy, Recall, Precision and F1          \n",
    "\n",
    "Let's try tuning model hyperparameters by focusing on accuracy if there are any improvements in model performance for accuracy, recall, precision, and f1.\n"
   ]
  },
  {
   "cell_type": "code",
   "execution_count": 41,
   "id": "3b58add7-4d01-48e7-b239-233d165a5be3",
   "metadata": {
    "executionCancelledAt": null,
    "executionTime": 45,
    "lastExecutedAt": 1688603999958,
    "lastScheduledRunId": null,
    "lastSuccessfullyExecutedCode": "#tuning dt model\nparam_grid_dt = {\n    'criterion': ['gini', 'entropy', 'log_loss'],\n    'splitter': ['best', 'random'],\n    'max_depth': [4,5,6],\n    'max_features' :['None', 9 , 10, 11]\n}\n\ndt_grid = GridSearchCV(dt, param_grid=param_grid_dt, refit='accuracy', n_jobs=-1 )"
   },
   "outputs": [],
   "source": [
    "#tuning dt model\n",
    "param_grid_dt = {\n",
    "    'criterion': ['gini', 'entropy', 'log_loss'],\n",
    "    'splitter': ['best', 'random'],\n",
    "    'max_depth': [4,5,6],\n",
    "    'max_features' :['None', 9 , 10, 11]\n",
    "}\n",
    "\n",
    "dt_grid = GridSearchCV(dt, param_grid=param_grid_dt, refit='accuracy', n_jobs=-1 )"
   ]
  },
  {
   "cell_type": "code",
   "execution_count": 42,
   "id": "0fc636a2-3bc9-493f-a755-910e73a28afc",
   "metadata": {
    "executionCancelledAt": null,
    "executionTime": 1880,
    "lastExecutedAt": 1688604001839,
    "lastScheduledRunId": null,
    "lastSuccessfullyExecutedCode": "# train model\ndt_grid.fit(X_train, y_train)\n\n#show the best model\ndt_grid.best_estimator_"
   },
   "outputs": [
    {
     "data": {
      "text/html": [
       "<style>#sk-container-id-1 {color: black;background-color: white;}#sk-container-id-1 pre{padding: 0;}#sk-container-id-1 div.sk-toggleable {background-color: white;}#sk-container-id-1 label.sk-toggleable__label {cursor: pointer;display: block;width: 100%;margin-bottom: 0;padding: 0.3em;box-sizing: border-box;text-align: center;}#sk-container-id-1 label.sk-toggleable__label-arrow:before {content: \"▸\";float: left;margin-right: 0.25em;color: #696969;}#sk-container-id-1 label.sk-toggleable__label-arrow:hover:before {color: black;}#sk-container-id-1 div.sk-estimator:hover label.sk-toggleable__label-arrow:before {color: black;}#sk-container-id-1 div.sk-toggleable__content {max-height: 0;max-width: 0;overflow: hidden;text-align: left;background-color: #f0f8ff;}#sk-container-id-1 div.sk-toggleable__content pre {margin: 0.2em;color: black;border-radius: 0.25em;background-color: #f0f8ff;}#sk-container-id-1 input.sk-toggleable__control:checked~div.sk-toggleable__content {max-height: 200px;max-width: 100%;overflow: auto;}#sk-container-id-1 input.sk-toggleable__control:checked~label.sk-toggleable__label-arrow:before {content: \"▾\";}#sk-container-id-1 div.sk-estimator input.sk-toggleable__control:checked~label.sk-toggleable__label {background-color: #d4ebff;}#sk-container-id-1 div.sk-label input.sk-toggleable__control:checked~label.sk-toggleable__label {background-color: #d4ebff;}#sk-container-id-1 input.sk-hidden--visually {border: 0;clip: rect(1px 1px 1px 1px);clip: rect(1px, 1px, 1px, 1px);height: 1px;margin: -1px;overflow: hidden;padding: 0;position: absolute;width: 1px;}#sk-container-id-1 div.sk-estimator {font-family: monospace;background-color: #f0f8ff;border: 1px dotted black;border-radius: 0.25em;box-sizing: border-box;margin-bottom: 0.5em;}#sk-container-id-1 div.sk-estimator:hover {background-color: #d4ebff;}#sk-container-id-1 div.sk-parallel-item::after {content: \"\";width: 100%;border-bottom: 1px solid gray;flex-grow: 1;}#sk-container-id-1 div.sk-label:hover label.sk-toggleable__label {background-color: #d4ebff;}#sk-container-id-1 div.sk-serial::before {content: \"\";position: absolute;border-left: 1px solid gray;box-sizing: border-box;top: 0;bottom: 0;left: 50%;z-index: 0;}#sk-container-id-1 div.sk-serial {display: flex;flex-direction: column;align-items: center;background-color: white;padding-right: 0.2em;padding-left: 0.2em;position: relative;}#sk-container-id-1 div.sk-item {position: relative;z-index: 1;}#sk-container-id-1 div.sk-parallel {display: flex;align-items: stretch;justify-content: center;background-color: white;position: relative;}#sk-container-id-1 div.sk-item::before, #sk-container-id-1 div.sk-parallel-item::before {content: \"\";position: absolute;border-left: 1px solid gray;box-sizing: border-box;top: 0;bottom: 0;left: 50%;z-index: -1;}#sk-container-id-1 div.sk-parallel-item {display: flex;flex-direction: column;z-index: 1;position: relative;background-color: white;}#sk-container-id-1 div.sk-parallel-item:first-child::after {align-self: flex-end;width: 50%;}#sk-container-id-1 div.sk-parallel-item:last-child::after {align-self: flex-start;width: 50%;}#sk-container-id-1 div.sk-parallel-item:only-child::after {width: 0;}#sk-container-id-1 div.sk-dashed-wrapped {border: 1px dashed gray;margin: 0 0.4em 0.5em 0.4em;box-sizing: border-box;padding-bottom: 0.4em;background-color: white;}#sk-container-id-1 div.sk-label label {font-family: monospace;font-weight: bold;display: inline-block;line-height: 1.2em;}#sk-container-id-1 div.sk-label-container {text-align: center;}#sk-container-id-1 div.sk-container {/* jupyter's `normalize.less` sets `[hidden] { display: none; }` but bootstrap.min.css set `[hidden] { display: none !important; }` so we also need the `!important` here to be able to override the default hidden behavior on the sphinx rendered scikit-learn.org. See: https://github.com/scikit-learn/scikit-learn/issues/21755 */display: inline-block !important;position: relative;}#sk-container-id-1 div.sk-text-repr-fallback {display: none;}</style><div id=\"sk-container-id-1\" class=\"sk-top-container\"><div class=\"sk-text-repr-fallback\"><pre>DecisionTreeClassifier(criterion=&#x27;entropy&#x27;, max_depth=6, max_features=9,\n",
       "                       random_state=1, splitter=&#x27;random&#x27;)</pre><b>In a Jupyter environment, please rerun this cell to show the HTML representation or trust the notebook. <br />On GitHub, the HTML representation is unable to render, please try loading this page with nbviewer.org.</b></div><div class=\"sk-container\" hidden><div class=\"sk-item\"><div class=\"sk-estimator sk-toggleable\"><input class=\"sk-toggleable__control sk-hidden--visually\" id=\"sk-estimator-id-1\" type=\"checkbox\" checked><label for=\"sk-estimator-id-1\" class=\"sk-toggleable__label sk-toggleable__label-arrow\">DecisionTreeClassifier</label><div class=\"sk-toggleable__content\"><pre>DecisionTreeClassifier(criterion=&#x27;entropy&#x27;, max_depth=6, max_features=9,\n",
       "                       random_state=1, splitter=&#x27;random&#x27;)</pre></div></div></div></div></div>"
      ],
      "text/plain": [
       "DecisionTreeClassifier(criterion='entropy', max_depth=6, max_features=9,\n",
       "                       random_state=1, splitter='random')"
      ]
     },
     "execution_count": 42,
     "metadata": {},
     "output_type": "execute_result"
    }
   ],
   "source": [
    "# train model\n",
    "dt_grid.fit(X_train, y_train)\n",
    "\n",
    "#show the best model\n",
    "dt_grid.best_estimator_"
   ]
  },
  {
   "cell_type": "code",
   "execution_count": 43,
   "id": "a182684a-bf32-4bdb-bad6-4989c2888b57",
   "metadata": {
    "executionCancelledAt": null,
    "executionTime": 48,
    "lastExecutedAt": 1688604001887,
    "lastScheduledRunId": null,
    "lastSuccessfullyExecutedCode": "#get model evaluation\nprint(\"Decision Tree Classifier model after tuning on validation sets:\")\nevaluation(y_valid, dt_grid.best_estimator_.predict(X_valid))"
   },
   "outputs": [
    {
     "name": "stdout",
     "output_type": "stream",
     "text": [
      "Decision Tree Classifier model after tuning on validation sets:\n",
      "Accuracy: 0.766\n",
      "Precision: 0.807\n",
      "Recall: 0.801\n",
      "F1: 0.804\n"
     ]
    }
   ],
   "source": [
    "#get model evaluation\n",
    "print(\"Decision Tree Classifier model after tuning on validation sets:\")\n",
    "evaluation(y_valid, dt_grid.best_estimator_.predict(X_valid))"
   ]
  },
  {
   "cell_type": "code",
   "execution_count": 44,
   "id": "e02ffe5b-208d-428b-9565-1910f1c7f1dd",
   "metadata": {
    "executionCancelledAt": null,
    "executionTime": 47,
    "lastExecutedAt": 1688604001934,
    "lastScheduledRunId": null,
    "lastSuccessfullyExecutedCode": "#tuning gb model\nparam_grid_gb = {\n    'learning_rate': [0.1, 0.01, 0.001, 0.2],\n    'n_estimators': [50, 75, 100],\n    'max_depth': [4,5,6],\n    'max_features' :['None', 9 , 10, 11]\n}\n\ngb_grid = GridSearchCV(gb, param_grid=param_grid_gb, refit='accuracy', n_jobs=-1 )"
   },
   "outputs": [],
   "source": [
    "#tuning gb model\n",
    "param_grid_gb = {\n",
    "    'learning_rate': [0.1, 0.01, 0.001, 0.2],\n",
    "    'n_estimators': [50, 75, 100],\n",
    "    'max_depth': [4,5,6],\n",
    "    'max_features' :['None', 9 , 10, 11]\n",
    "}\n",
    "\n",
    "gb_grid = GridSearchCV(gb, param_grid=param_grid_gb, refit='accuracy', n_jobs=-1 )"
   ]
  },
  {
   "cell_type": "code",
   "execution_count": 45,
   "id": "c7bad2e2-8edb-43f5-863d-fc862c537008",
   "metadata": {
    "executionCancelledAt": null,
    "executionTime": 25855,
    "lastExecutedAt": 1688604027790,
    "lastScheduledRunId": null,
    "lastSuccessfullyExecutedCode": "# train model\ngb_grid.fit(X_train, y_train)\n\n#show the best model\ngb_grid.best_estimator_"
   },
   "outputs": [
    {
     "data": {
      "text/html": [
       "<style>#sk-container-id-2 {color: black;background-color: white;}#sk-container-id-2 pre{padding: 0;}#sk-container-id-2 div.sk-toggleable {background-color: white;}#sk-container-id-2 label.sk-toggleable__label {cursor: pointer;display: block;width: 100%;margin-bottom: 0;padding: 0.3em;box-sizing: border-box;text-align: center;}#sk-container-id-2 label.sk-toggleable__label-arrow:before {content: \"▸\";float: left;margin-right: 0.25em;color: #696969;}#sk-container-id-2 label.sk-toggleable__label-arrow:hover:before {color: black;}#sk-container-id-2 div.sk-estimator:hover label.sk-toggleable__label-arrow:before {color: black;}#sk-container-id-2 div.sk-toggleable__content {max-height: 0;max-width: 0;overflow: hidden;text-align: left;background-color: #f0f8ff;}#sk-container-id-2 div.sk-toggleable__content pre {margin: 0.2em;color: black;border-radius: 0.25em;background-color: #f0f8ff;}#sk-container-id-2 input.sk-toggleable__control:checked~div.sk-toggleable__content {max-height: 200px;max-width: 100%;overflow: auto;}#sk-container-id-2 input.sk-toggleable__control:checked~label.sk-toggleable__label-arrow:before {content: \"▾\";}#sk-container-id-2 div.sk-estimator input.sk-toggleable__control:checked~label.sk-toggleable__label {background-color: #d4ebff;}#sk-container-id-2 div.sk-label input.sk-toggleable__control:checked~label.sk-toggleable__label {background-color: #d4ebff;}#sk-container-id-2 input.sk-hidden--visually {border: 0;clip: rect(1px 1px 1px 1px);clip: rect(1px, 1px, 1px, 1px);height: 1px;margin: -1px;overflow: hidden;padding: 0;position: absolute;width: 1px;}#sk-container-id-2 div.sk-estimator {font-family: monospace;background-color: #f0f8ff;border: 1px dotted black;border-radius: 0.25em;box-sizing: border-box;margin-bottom: 0.5em;}#sk-container-id-2 div.sk-estimator:hover {background-color: #d4ebff;}#sk-container-id-2 div.sk-parallel-item::after {content: \"\";width: 100%;border-bottom: 1px solid gray;flex-grow: 1;}#sk-container-id-2 div.sk-label:hover label.sk-toggleable__label {background-color: #d4ebff;}#sk-container-id-2 div.sk-serial::before {content: \"\";position: absolute;border-left: 1px solid gray;box-sizing: border-box;top: 0;bottom: 0;left: 50%;z-index: 0;}#sk-container-id-2 div.sk-serial {display: flex;flex-direction: column;align-items: center;background-color: white;padding-right: 0.2em;padding-left: 0.2em;position: relative;}#sk-container-id-2 div.sk-item {position: relative;z-index: 1;}#sk-container-id-2 div.sk-parallel {display: flex;align-items: stretch;justify-content: center;background-color: white;position: relative;}#sk-container-id-2 div.sk-item::before, #sk-container-id-2 div.sk-parallel-item::before {content: \"\";position: absolute;border-left: 1px solid gray;box-sizing: border-box;top: 0;bottom: 0;left: 50%;z-index: -1;}#sk-container-id-2 div.sk-parallel-item {display: flex;flex-direction: column;z-index: 1;position: relative;background-color: white;}#sk-container-id-2 div.sk-parallel-item:first-child::after {align-self: flex-end;width: 50%;}#sk-container-id-2 div.sk-parallel-item:last-child::after {align-self: flex-start;width: 50%;}#sk-container-id-2 div.sk-parallel-item:only-child::after {width: 0;}#sk-container-id-2 div.sk-dashed-wrapped {border: 1px dashed gray;margin: 0 0.4em 0.5em 0.4em;box-sizing: border-box;padding-bottom: 0.4em;background-color: white;}#sk-container-id-2 div.sk-label label {font-family: monospace;font-weight: bold;display: inline-block;line-height: 1.2em;}#sk-container-id-2 div.sk-label-container {text-align: center;}#sk-container-id-2 div.sk-container {/* jupyter's `normalize.less` sets `[hidden] { display: none; }` but bootstrap.min.css set `[hidden] { display: none !important; }` so we also need the `!important` here to be able to override the default hidden behavior on the sphinx rendered scikit-learn.org. See: https://github.com/scikit-learn/scikit-learn/issues/21755 */display: inline-block !important;position: relative;}#sk-container-id-2 div.sk-text-repr-fallback {display: none;}</style><div id=\"sk-container-id-2\" class=\"sk-top-container\"><div class=\"sk-text-repr-fallback\"><pre>GradientBoostingClassifier(learning_rate=0.01, max_depth=4, max_features=11,\n",
       "                           random_state=1)</pre><b>In a Jupyter environment, please rerun this cell to show the HTML representation or trust the notebook. <br />On GitHub, the HTML representation is unable to render, please try loading this page with nbviewer.org.</b></div><div class=\"sk-container\" hidden><div class=\"sk-item\"><div class=\"sk-estimator sk-toggleable\"><input class=\"sk-toggleable__control sk-hidden--visually\" id=\"sk-estimator-id-2\" type=\"checkbox\" checked><label for=\"sk-estimator-id-2\" class=\"sk-toggleable__label sk-toggleable__label-arrow\">GradientBoostingClassifier</label><div class=\"sk-toggleable__content\"><pre>GradientBoostingClassifier(learning_rate=0.01, max_depth=4, max_features=11,\n",
       "                           random_state=1)</pre></div></div></div></div></div>"
      ],
      "text/plain": [
       "GradientBoostingClassifier(learning_rate=0.01, max_depth=4, max_features=11,\n",
       "                           random_state=1)"
      ]
     },
     "execution_count": 45,
     "metadata": {},
     "output_type": "execute_result"
    }
   ],
   "source": [
    "# train model\n",
    "gb_grid.fit(X_train, y_train)\n",
    "\n",
    "#show the best model\n",
    "gb_grid.best_estimator_"
   ]
  },
  {
   "cell_type": "code",
   "execution_count": 46,
   "id": "9b6d546b-f2c1-4d05-86d8-94394eb74048",
   "metadata": {
    "executionCancelledAt": null,
    "executionTime": 48,
    "lastExecutedAt": 1688604027839,
    "lastScheduledRunId": null,
    "lastSuccessfullyExecutedCode": "#get model evaluation\nprint(\"GradientBoosting Classifier model after tuning on validation sets:\")\nevaluation(y_valid, gb_grid.best_estimator_.predict(X_valid))"
   },
   "outputs": [
    {
     "name": "stdout",
     "output_type": "stream",
     "text": [
      "GradientBoosting Classifier model after tuning on validation sets:\n",
      "Accuracy: 0.758\n",
      "Precision: 0.781\n",
      "Recall: 0.828\n",
      "F1: 0.804\n"
     ]
    }
   ],
   "source": [
    "#get model evaluation\n",
    "print(\"GradientBoosting Classifier model after tuning on validation sets:\")\n",
    "evaluation(y_valid, gb_grid.best_estimator_.predict(X_valid))"
   ]
  },
  {
   "cell_type": "markdown",
   "id": "d29a88e0-3166-45a8-a7ac-886823a1aec5",
   "metadata": {},
   "source": [
    "Model performance on vaidation sets\n",
    "\n",
    "| Models             | Accuracy       | Recall         | Precision      |   F1           |\n",
    "| --------------     | -------------- | -------------- | -------------- | -------------- |\n",
    "| Tuned Decision Tree      | 0.766          |        0.801   |      0.807     |          0.804 |\n",
    "| Tuned GradientBoosting   | 0.758          |         0.828  |       0.781    |          0.804 |\n",
    "\n",
    "Both tuned models do not achieve 80% accuracy. The primary goal should focus on the performance of the testing set to ensure models generalized unseen data.\n",
    "\n",
    "Let's assess tuned models on the testing set."
   ]
  },
  {
   "cell_type": "code",
   "execution_count": 47,
   "id": "edaa4025-8c63-4aea-9b39-6c6f64f999d2",
   "metadata": {
    "executionCancelledAt": null,
    "executionTime": 48,
    "lastExecutedAt": 1688604027887,
    "lastScheduledRunId": null,
    "lastSuccessfullyExecutedCode": "#get model evaluation\nprint(\"Decision Tree Classifier model after tuning on testing sets:\")\nevaluation(y_test, dt_grid.best_estimator_.predict(X_test))"
   },
   "outputs": [
    {
     "name": "stdout",
     "output_type": "stream",
     "text": [
      "Decision Tree Classifier model after tuning on testing sets:\n",
      "Accuracy: 0.823\n",
      "Precision: 0.861\n",
      "Recall: 0.838\n",
      "F1: 0.849\n"
     ]
    }
   ],
   "source": [
    "#get model evaluation\n",
    "print(\"Decision Tree Classifier model after tuning on testing sets:\")\n",
    "evaluation(y_test, dt_grid.best_estimator_.predict(X_test))"
   ]
  },
  {
   "cell_type": "code",
   "execution_count": 48,
   "id": "cf23c2d8-2311-42dc-bea8-4e77271b97d0",
   "metadata": {
    "executionCancelledAt": null,
    "executionTime": 52,
    "lastExecutedAt": 1688604027939,
    "lastScheduledRunId": null,
    "lastSuccessfullyExecutedCode": "#get model evaluation\nprint(\"GradientBoosting Classifier model after tuning on testing sets:\")\nevaluation(y_test, gb_grid.best_estimator_.predict(X_test))"
   },
   "outputs": [
    {
     "name": "stdout",
     "output_type": "stream",
     "text": [
      "GradientBoosting Classifier model after tuning on testing sets:\n",
      "Accuracy: 0.806\n",
      "Precision: 0.838\n",
      "Recall: 0.838\n",
      "F1: 0.838\n"
     ]
    }
   ],
   "source": [
    "#get model evaluation\n",
    "print(\"GradientBoosting Classifier model after tuning on testing sets:\")\n",
    "evaluation(y_test, gb_grid.best_estimator_.predict(X_test))"
   ]
  },
  {
   "cell_type": "markdown",
   "id": "dd0326b6-a735-48c2-a4c8-b66f61444d3c",
   "metadata": {},
   "source": [
    "Model performance on testing sets\n",
    "\n",
    "| Models             | Accuracy       | Recall         | Precision      |   F1           |\n",
    "| --------------     | -------------- | -------------- | -------------- | -------------- |\n",
    "| Decision Tree      | 0.696          |        0.687   |      0.780     |          0.730 |\n",
    "| GradientBoosting   | 0.795          |        0.776   |      0.867     |          0.819 |\n",
    "| Tuned Decision Tree      | 0.823          |        0.838   |      0.861     |          0.849 |\n",
    "| Tuned GradientBoosting   | 0.806          |         0.838  |       0.838    |          0.833 |\n",
    "\n",
    "Both models have improved performance on accuracy, recall, precision, and f1 after tuning hyperparameters.\n",
    "Overall, the best model is Tuned Decision Tree, since it has higher scores on accuracy, recall, precision, and f1 than that in the GradientBoosting model."
   ]
  },
  {
   "cell_type": "code",
   "execution_count": 49,
   "id": "c8e4b42b-026e-46e6-a2c0-781266689e7b",
   "metadata": {
    "executionCancelledAt": null,
    "executionTime": 403,
    "lastExecutedAt": 1688604028342,
    "lastScheduledRunId": null,
    "lastSuccessfullyExecutedCode": "#model important features\nimportant_features = pd.DataFrame({'feature': dt_grid.best_estimator_.feature_names_in_,\n                                    'value' : dt_grid.best_estimator_.feature_importances_})\nsns.barplot(\n    data = important_features.sort_values(by='value', ascending=False),\n    x = 'value',\n    y = 'feature'\n)\nplt.title(\"Decision Tree important features comparision\")\nplt.show()"
   },
   "outputs": [
    {
     "data": {
      "image/png": "[encoded data removed]",
      "text/plain": [
       "<Figure size 640x480 with 1 Axes>"
      ]
     },
     "metadata": {},
     "output_type": "display_data"
    }
   ],
   "source": [
    "#model important features\n",
    "important_features = pd.DataFrame({'feature': dt_grid.best_estimator_.feature_names_in_,\n",
    "                                    'value' : dt_grid.best_estimator_.feature_importances_})\n",
    "sns.barplot(\n",
    "    data = important_features.sort_values(by='value', ascending=False),\n",
    "    x = 'value',\n",
    "    y = 'feature'\n",
    ")\n",
    "plt.title(\"Decision Tree important features comparision\")\n",
    "plt.show()"
   ]
  }
 ],
 "metadata": {
  "colab": {
   "name": "Welcome to DataCamp Workspaces.ipynb",
   "provenance": []
  },
  "kernelspec": {
   "display_name": "Python 3",
   "language": "python",
   "name": "python3"
  },
  "language_info": {
   "codemirror_mode": {
    "name": "ipython",
    "version": 3
   },
   "file_extension": ".py",
   "mimetype": "text/x-python",
   "name": "python",
   "nbconvert_exporter": "python",
   "pygments_lexer": "ipython3",
   "version": "3.8.8"
  }
 },
 "nbformat": 4,
 "nbformat_minor": 5
}
