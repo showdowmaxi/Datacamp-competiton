{
 "cells": [
  {
   "cell_type": "markdown",
   "id": "a3d4387f-fa24-4a80-906b-4cca195b6736",
   "metadata": {},
   "source": [
    "# Data Analyst Professional Practical Exam Submission\n",
    "\n",
    "**You can use any tool that you want to do your analysis and create visualizations. Use this template to write up your summary for submission.**\n",
    "\n",
    "You can use any markdown formatting you wish. If you are not familiar with Markdown, read the [Markdown Guide](https://s3.amazonaws.com/talent-assets.datacamp.com/Markdown+Guide.pdf) before you start.\n",
    "\n",
    "### Data:\n",
    "- week Week sale was made, counted as weeks since product launch\n",
    "- sales_method Character, which of the three sales methods were used for that customer\n",
    "- customer_id Character, unique identifier for the customer\n",
    "- nb_sold Numeric, number of new products sold\n",
    "- revenue Numeric, revenue from the sales, rounded to 2 decimal places.\n",
    "- years_as_customer Numeric, number of years customer has been buying from us (company founded in 1984)\n",
    "- nb_site_visits Numeric, number of times the customer has visited our website in the last 6 months\n",
    "- state Character, location of the customer i.e. where orders are shipped\n",
    "\n",
    "### Written report:\n",
    "The report is consisted of 3 parts:\n",
    "- D"
   ]
  },
  {
   "cell_type": "markdown",
   "id": "79c43350-1320-4b5d-a021-53c848143828",
   "metadata": {},
   "source": [
    "## Data Validation:\n",
    "The original data has 15000 rows and 8 columns. \n",
    "\n",
    "Issues with the original data:\n",
    "- revenue is the only column that has missing values with 1074 rows. \n",
    "- sales_method has 5 different values, which are Email, Call, Email + Call, em + call, and email. These values in sales_method do not fit the data description as Email, Call, Email and call.\n",
    "- years_as_customer, the company founded in 1984, this column contains values greater than 39 (2023 - 1984)\n",
    "\n",
    "The rest of the field values of the data, which are week, customer_id, revenue, nb_site_visits, and state fit the data description.\n",
    "\n",
    "After dropping missing values in revenue, correcting sales_method as Email, Call, Email and call,  and setting the value of years_as_customer that is greater than 39 as 39, the cleaned dataset has **13926** rows and **8** columns.\n",
    "\n",
    "## Exploratory Analysis:\n",
    "\n",
    "### What is the customer distribution of sale methods?\n",
    "From the past 6 weeks of testing sales methods on customer segmentation, around 50% of customers prefer Email, and 34% of customers like Calls. Email and call have the lowest portion of customer segmentation in sales method, which has only 16%. \n",
    "\n",
    "![Sale methods distribution](p1.png)\n",
    "\n",
    "\n",
    "### What is the overall revenue and revenue by sale method distribution like?\n",
    "The boxplot of revenue without outliers shows that 50% interquartile of revenue range approximately from 52 to 107. Most of this portion comes from the email sales method. Surprisingly, the minimum value on the boxplot of revenue by Email and call is greater than 3rd quantile (107) of the overall revenue. The range of minimum value to 1st quantile of the overall revenue, which is contributed by Call. This implies that if converting calls into other sales methods, it is likely to leverage the minimum value of revenue, which leads to increase revenue.\n",
    "\n",
    "![Overall revenue distribution](p2.png)\n",
    "\n",
    "![revenue distribution per sale](p3.png)\n",
    "\n",
    "### What is total revenue and revenue per sale by each sale method?\n",
    "The top 1 sale method that generated the most revenue is email due to its large customer base than the other two sale methods. However, its revenue per sale is lower than Email and Call but greater than Call. Interestingly, the revenue created by Email and call is greater than Call even though it has the lowest customer size among the other two sale methods. However, this can be explained by revenue per sale. The revenue per sale of Email and call is 3 times more than that by call. This demonstrates that call is not a good fit sale method for the new product line.\n",
    "\n",
    "![total revenue per sale](p4.png)\n",
    "\n",
    "\n",
    "### What is weekly revenue and sale by each sale method?\n",
    "The weekly average revenue and sold quantity of each sale method confirm that the Email and call sale method has the greatest potential to optimize the sales revenue than the other two sale methods. \n",
    "\n",
    "The average weekly revenue made by Email and call has a steeper increasing trend through week 1 to week 6. Additionally, the average revenue of Email and call value at week 1 is significantly higher than the other two sale methods, which is above 125 and the other two sale methods are below 100.  The tendency of Call and Email show a relatively flatter increase in the same period. The average weekly sold quantity of each method also follows similar tendency as average weekly revenue.\n",
    "\n",
    "\n",
    "![weekly revenue growth and saleper sale](p5.png)\n",
    "\n",
    "## Business metrics\n",
    "Based on the performance of the past six weeks, the company can strategically plan for both short-term and long-term goals by exploring customer switching in sales methods.\n",
    "\n",
    "During the past six weeks, the revenue and sold quantity generated through calls are around **17%** and **34%** respectively. To accomplish the short-term goal within the next six weeks, the conversion of call customers to other sales methods should expect revenue and sold quantity increases exceeding **17%** and **34%** respectively.\n",
    "\n",
    "Considering that emails accounted for **50%** of the revenue and sold quantity over the past six weeks, the company can prioritize the long-term goal of exclusively focusing on customers from Email and call sales methods. Successfully achieving revenue and sold quantity growth exceeding **50%** in this plan would indicate the accomplishment of the business goal.\n",
    "\n",
    "## Recommendations\n",
    "In the upcoming weeks, the company should prioritize the adjustment of customer segmentation in sales methods. Applying key metrics will help monitor any increase in sales and revenue, aligning with both short-term and long-term goals.\n",
    "\n",
    "The company should proactively communicate the benefits of Email and call sales methods to current customers, highlighting the advantages of timely information and efficient support for their interests and new product offerings.\n",
    "\n",
    "In addition to tracking sold quantity and revenue, measuring customer satisfaction is vital for cultivating and retaining long-term relationships. Gathering feedback from customers who switch sales methods will provide valuable insights into their experiences and help improve overall satisfaction.\n",
    "\n",
    "By focusing on customer segmentation, monitoring key metrics, promoting the benefits of Email and call sales methods, and measuring customer satisfaction, the company can optimize its sales strategies, foster strong customer relationships, and achieve its goals effectively."
   ]
  },
  {
   "cell_type": "code",
   "execution_count": 1,
   "id": "edcc8bbb-b17b-4a82-8c9e-9481be2da9bc",
   "metadata": {
    "executionCancelledAt": null,
    "executionTime": 1260,
    "lastExecutedAt": 1686682403000,
    "lastScheduledRunId": null,
    "lastSuccessfullyExecutedCode": "import pandas as pd\nimport seaborn as sns\nimport matplotlib.pyplot as plt\nimport numpy as np\nfrom sklearn.preprocessing import MinMaxScaler\n\nfrom scipy import stats\nsns.set(style=\"darkgrid\")"
   },
   "outputs": [],
   "source": [
    "import pandas as pd\n",
    "import seaborn as sns\n",
    "import matplotlib.pyplot as plt\n",
    "import numpy as np\n",
    "from sklearn.preprocessing import MinMaxScaler\n",
    "\n",
    "from scipy import stats\n",
    "sns.set(style=\"darkgrid\")"
   ]
  },
  {
   "cell_type": "code",
   "execution_count": 2,
   "id": "3bf407af-60fd-4976-bddc-da9acb720b82",
   "metadata": {
    "executionCancelledAt": null,
    "executionTime": 44,
    "lastExecutedAt": 1686682403045,
    "lastScheduledRunId": null,
    "lastSuccessfullyExecutedCode": "#load the data\ndata = pd.read_csv('product_sales.csv')\n#make a copy of original data\ndf = data.copy()"
   },
   "outputs": [],
   "source": [
    "#load the data\n",
    "data = pd.read_csv('product_sales.csv')\n",
    "#make a copy of original data\n",
    "df = data.copy()"
   ]
  },
  {
   "cell_type": "code",
   "execution_count": 3,
   "id": "be48a53b-8067-4891-9e49-12a4d537008c",
   "metadata": {
    "executionCancelledAt": null,
    "executionTime": 48,
    "lastExecutedAt": 1686682403093,
    "lastScheduledRunId": null,
    "lastSuccessfullyExecutedCode": "df.head()"
   },
   "outputs": [
    {
     "data": {
      "application/com.datacamp.data-table.v1+json": {
       "table": {
        "data": [
         {
          "customer_id": "2e72d641-95ac-497b-bbf8-4861764a7097",
          "index": 0,
          "nb_site_visits": 24,
          "nb_sold": 10,
          "revenue": null,
          "sales_method": "Email",
          "state": "Arizona",
          "week": 2,
          "years_as_customer": 0
         },
         {
          "customer_id": "3998a98d-70f5-44f7-942e-789bb8ad2fe7",
          "index": 1,
          "nb_site_visits": 28,
          "nb_sold": 15,
          "revenue": 225.47,
          "sales_method": "Email + Call",
          "state": "Kansas",
          "week": 6,
          "years_as_customer": 1
         },
         {
          "customer_id": "d1de9884-8059-4065-b10f-86eef57e4a44",
          "index": 2,
          "nb_site_visits": 26,
          "nb_sold": 11,
          "revenue": 52.55,
          "sales_method": "Call",
          "state": "Wisconsin",
          "week": 5,
          "years_as_customer": 6
         },
         {
          "customer_id": "78aa75a4-ffeb-4817-b1d0-2f030783c5d7",
          "index": 3,
          "nb_site_visits": 25,
          "nb_sold": 11,
          "revenue": null,
          "sales_method": "Email",
          "state": "Indiana",
          "week": 4,
          "years_as_customer": 3
         },
         {
          "customer_id": "10e6d446-10a5-42e5-8210-1b5438f70922",
          "index": 4,
          "nb_site_visits": 28,
          "nb_sold": 9,
          "revenue": 90.49,
          "sales_method": "Email",
          "state": "Illinois",
          "week": 3,
          "years_as_customer": 0
         }
        ],
        "schema": {
         "fields": [
          {
           "name": "index",
           "type": "integer"
          },
          {
           "name": "week",
           "type": "integer"
          },
          {
           "name": "sales_method",
           "type": "string"
          },
          {
           "name": "customer_id",
           "type": "string"
          },
          {
           "name": "nb_sold",
           "type": "integer"
          },
          {
           "name": "revenue",
           "type": "number"
          },
          {
           "name": "years_as_customer",
           "type": "integer"
          },
          {
           "name": "nb_site_visits",
           "type": "integer"
          },
          {
           "name": "state",
           "type": "string"
          }
         ],
         "pandas_version": "1.4.0",
         "primaryKey": [
          "index"
         ]
        }
       },
       "total_rows": 5,
       "truncation_type": null
      },
      "text/html": [
       "<div>\n",
       "<style scoped>\n",
       "    .dataframe tbody tr th:only-of-type {\n",
       "        vertical-align: middle;\n",
       "    }\n",
       "\n",
       "    .dataframe tbody tr th {\n",
       "        vertical-align: top;\n",
       "    }\n",
       "\n",
       "    .dataframe thead th {\n",
       "        text-align: right;\n",
       "    }\n",
       "</style>\n",
       "<table border=\"1\" class=\"dataframe\">\n",
       "  <thead>\n",
       "    <tr style=\"text-align: right;\">\n",
       "      <th></th>\n",
       "      <th>week</th>\n",
       "      <th>sales_method</th>\n",
       "      <th>customer_id</th>\n",
       "      <th>nb_sold</th>\n",
       "      <th>revenue</th>\n",
       "      <th>years_as_customer</th>\n",
       "      <th>nb_site_visits</th>\n",
       "      <th>state</th>\n",
       "    </tr>\n",
       "  </thead>\n",
       "  <tbody>\n",
       "    <tr>\n",
       "      <th>0</th>\n",
       "      <td>2</td>\n",
       "      <td>Email</td>\n",
       "      <td>2e72d641-95ac-497b-bbf8-4861764a7097</td>\n",
       "      <td>10</td>\n",
       "      <td>NaN</td>\n",
       "      <td>0</td>\n",
       "      <td>24</td>\n",
       "      <td>Arizona</td>\n",
       "    </tr>\n",
       "    <tr>\n",
       "      <th>1</th>\n",
       "      <td>6</td>\n",
       "      <td>Email + Call</td>\n",
       "      <td>3998a98d-70f5-44f7-942e-789bb8ad2fe7</td>\n",
       "      <td>15</td>\n",
       "      <td>225.47</td>\n",
       "      <td>1</td>\n",
       "      <td>28</td>\n",
       "      <td>Kansas</td>\n",
       "    </tr>\n",
       "    <tr>\n",
       "      <th>2</th>\n",
       "      <td>5</td>\n",
       "      <td>Call</td>\n",
       "      <td>d1de9884-8059-4065-b10f-86eef57e4a44</td>\n",
       "      <td>11</td>\n",
       "      <td>52.55</td>\n",
       "      <td>6</td>\n",
       "      <td>26</td>\n",
       "      <td>Wisconsin</td>\n",
       "    </tr>\n",
       "    <tr>\n",
       "      <th>3</th>\n",
       "      <td>4</td>\n",
       "      <td>Email</td>\n",
       "      <td>78aa75a4-ffeb-4817-b1d0-2f030783c5d7</td>\n",
       "      <td>11</td>\n",
       "      <td>NaN</td>\n",
       "      <td>3</td>\n",
       "      <td>25</td>\n",
       "      <td>Indiana</td>\n",
       "    </tr>\n",
       "    <tr>\n",
       "      <th>4</th>\n",
       "      <td>3</td>\n",
       "      <td>Email</td>\n",
       "      <td>10e6d446-10a5-42e5-8210-1b5438f70922</td>\n",
       "      <td>9</td>\n",
       "      <td>90.49</td>\n",
       "      <td>0</td>\n",
       "      <td>28</td>\n",
       "      <td>Illinois</td>\n",
       "    </tr>\n",
       "  </tbody>\n",
       "</table>\n",
       "</div>"
      ],
      "text/plain": [
       "   week  sales_method  ... nb_site_visits      state\n",
       "0     2         Email  ...             24    Arizona\n",
       "1     6  Email + Call  ...             28     Kansas\n",
       "2     5          Call  ...             26  Wisconsin\n",
       "3     4         Email  ...             25    Indiana\n",
       "4     3         Email  ...             28   Illinois\n",
       "\n",
       "[5 rows x 8 columns]"
      ]
     },
     "execution_count": 3,
     "metadata": {},
     "output_type": "execute_result"
    }
   ],
   "source": [
    "df.head()"
   ]
  },
  {
   "cell_type": "code",
   "execution_count": 4,
   "id": "5de2be5d-fe07-4b80-9adc-04881b7aff50",
   "metadata": {
    "executionCancelledAt": null,
    "executionTime": 52,
    "lastExecutedAt": 1686682403145,
    "lastScheduledRunId": null,
    "lastSuccessfullyExecutedCode": "df.info()"
   },
   "outputs": [
    {
     "name": "stdout",
     "output_type": "stream",
     "text": [
      "<class 'pandas.core.frame.DataFrame'>\n",
      "RangeIndex: 15000 entries, 0 to 14999\n",
      "Data columns (total 8 columns):\n",
      " #   Column             Non-Null Count  Dtype  \n",
      "---  ------             --------------  -----  \n",
      " 0   week               15000 non-null  int64  \n",
      " 1   sales_method       15000 non-null  object \n",
      " 2   customer_id        15000 non-null  object \n",
      " 3   nb_sold            15000 non-null  int64  \n",
      " 4   revenue            13926 non-null  float64\n",
      " 5   years_as_customer  15000 non-null  int64  \n",
      " 6   nb_site_visits     15000 non-null  int64  \n",
      " 7   state              15000 non-null  object \n",
      "dtypes: float64(1), int64(4), object(3)\n",
      "memory usage: 937.6+ KB\n"
     ]
    }
   ],
   "source": [
    "df.info()"
   ]
  },
  {
   "cell_type": "code",
   "execution_count": 5,
   "id": "778a8815-c6e2-4557-891d-0a853d21c29d",
   "metadata": {
    "executionCancelledAt": null,
    "executionTime": 48,
    "lastExecutedAt": 1686682403193,
    "lastScheduledRunId": null,
    "lastSuccessfullyExecutedCode": "df.describe(include=\"all\")"
   },
   "outputs": [
    {
     "data": {
      "application/com.datacamp.data-table.v1+json": {
       "table": {
        "data": [
         {
          "customer_id": 15000,
          "index": "count",
          "nb_site_visits": 15000,
          "nb_sold": 15000,
          "revenue": 13926,
          "sales_method": 15000,
          "state": 15000,
          "week": 15000,
          "years_as_customer": 15000
         },
         {
          "customer_id": 15000,
          "index": "unique",
          "nb_site_visits": null,
          "nb_sold": null,
          "revenue": null,
          "sales_method": 5,
          "state": 50,
          "week": null,
          "years_as_customer": null
         },
         {
          "customer_id": "2e72d641-95ac-497b-bbf8-4861764a7097",
          "index": "top",
          "nb_site_visits": null,
          "nb_sold": null,
          "revenue": null,
          "sales_method": "Email",
          "state": "California",
          "week": null,
          "years_as_customer": null
         },
         {
          "customer_id": 1,
          "index": "freq",
          "nb_site_visits": null,
          "nb_sold": null,
          "revenue": null,
          "sales_method": 7456,
          "state": 1872,
          "week": null,
          "years_as_customer": null
         },
         {
          "customer_id": null,
          "index": "mean",
          "nb_site_visits": 24.9908666667,
          "nb_sold": 10.0846666667,
          "revenue": 93.9349425535,
          "sales_method": null,
          "state": null,
          "week": 3.0982666667,
          "years_as_customer": 4.9659333333
         },
         {
          "customer_id": null,
          "index": "std",
          "nb_site_visits": 3.5009142152,
          "nb_sold": 1.8122133327,
          "revenue": 47.4353122457,
          "sales_method": null,
          "state": null,
          "week": 1.6564198071,
          "years_as_customer": 5.0449515589
         },
         {
          "customer_id": null,
          "index": "min",
          "nb_site_visits": 12,
          "nb_sold": 7,
          "revenue": 32.54,
          "sales_method": null,
          "state": null,
          "week": 1,
          "years_as_customer": 0
         },
         {
          "customer_id": null,
          "index": "25%",
          "nb_site_visits": 23,
          "nb_sold": 9,
          "revenue": 52.47,
          "sales_method": null,
          "state": null,
          "week": 2,
          "years_as_customer": 1
         },
         {
          "customer_id": null,
          "index": "50%",
          "nb_site_visits": 25,
          "nb_sold": 10,
          "revenue": 89.5,
          "sales_method": null,
          "state": null,
          "week": 3,
          "years_as_customer": 3
         },
         {
          "customer_id": null,
          "index": "75%",
          "nb_site_visits": 27,
          "nb_sold": 11,
          "revenue": 107.3275,
          "sales_method": null,
          "state": null,
          "week": 5,
          "years_as_customer": 7
         },
         {
          "customer_id": null,
          "index": "max",
          "nb_site_visits": 41,
          "nb_sold": 16,
          "revenue": 238.32,
          "sales_method": null,
          "state": null,
          "week": 6,
          "years_as_customer": 63
         }
        ],
        "schema": {
         "fields": [
          {
           "name": "index",
           "type": "string"
          },
          {
           "name": "week",
           "type": "number"
          },
          {
           "name": "sales_method",
           "type": "string"
          },
          {
           "name": "customer_id",
           "type": "string"
          },
          {
           "name": "nb_sold",
           "type": "number"
          },
          {
           "name": "revenue",
           "type": "number"
          },
          {
           "name": "years_as_customer",
           "type": "number"
          },
          {
           "name": "nb_site_visits",
           "type": "number"
          },
          {
           "name": "state",
           "type": "string"
          }
         ],
         "pandas_version": "1.4.0",
         "primaryKey": [
          "index"
         ]
        }
       },
       "total_rows": 11,
       "truncation_type": null
      },
      "text/html": [
       "<div>\n",
       "<style scoped>\n",
       "    .dataframe tbody tr th:only-of-type {\n",
       "        vertical-align: middle;\n",
       "    }\n",
       "\n",
       "    .dataframe tbody tr th {\n",
       "        vertical-align: top;\n",
       "    }\n",
       "\n",
       "    .dataframe thead th {\n",
       "        text-align: right;\n",
       "    }\n",
       "</style>\n",
       "<table border=\"1\" class=\"dataframe\">\n",
       "  <thead>\n",
       "    <tr style=\"text-align: right;\">\n",
       "      <th></th>\n",
       "      <th>week</th>\n",
       "      <th>sales_method</th>\n",
       "      <th>customer_id</th>\n",
       "      <th>nb_sold</th>\n",
       "      <th>revenue</th>\n",
       "      <th>years_as_customer</th>\n",
       "      <th>nb_site_visits</th>\n",
       "      <th>state</th>\n",
       "    </tr>\n",
       "  </thead>\n",
       "  <tbody>\n",
       "    <tr>\n",
       "      <th>count</th>\n",
       "      <td>15000.000000</td>\n",
       "      <td>15000</td>\n",
       "      <td>15000</td>\n",
       "      <td>15000.000000</td>\n",
       "      <td>13926.000000</td>\n",
       "      <td>15000.000000</td>\n",
       "      <td>15000.000000</td>\n",
       "      <td>15000</td>\n",
       "    </tr>\n",
       "    <tr>\n",
       "      <th>unique</th>\n",
       "      <td>NaN</td>\n",
       "      <td>5</td>\n",
       "      <td>15000</td>\n",
       "      <td>NaN</td>\n",
       "      <td>NaN</td>\n",
       "      <td>NaN</td>\n",
       "      <td>NaN</td>\n",
       "      <td>50</td>\n",
       "    </tr>\n",
       "    <tr>\n",
       "      <th>top</th>\n",
       "      <td>NaN</td>\n",
       "      <td>Email</td>\n",
       "      <td>2e72d641-95ac-497b-bbf8-4861764a7097</td>\n",
       "      <td>NaN</td>\n",
       "      <td>NaN</td>\n",
       "      <td>NaN</td>\n",
       "      <td>NaN</td>\n",
       "      <td>California</td>\n",
       "    </tr>\n",
       "    <tr>\n",
       "      <th>freq</th>\n",
       "      <td>NaN</td>\n",
       "      <td>7456</td>\n",
       "      <td>1</td>\n",
       "      <td>NaN</td>\n",
       "      <td>NaN</td>\n",
       "      <td>NaN</td>\n",
       "      <td>NaN</td>\n",
       "      <td>1872</td>\n",
       "    </tr>\n",
       "    <tr>\n",
       "      <th>mean</th>\n",
       "      <td>3.098267</td>\n",
       "      <td>NaN</td>\n",
       "      <td>NaN</td>\n",
       "      <td>10.084667</td>\n",
       "      <td>93.934943</td>\n",
       "      <td>4.965933</td>\n",
       "      <td>24.990867</td>\n",
       "      <td>NaN</td>\n",
       "    </tr>\n",
       "    <tr>\n",
       "      <th>std</th>\n",
       "      <td>1.656420</td>\n",
       "      <td>NaN</td>\n",
       "      <td>NaN</td>\n",
       "      <td>1.812213</td>\n",
       "      <td>47.435312</td>\n",
       "      <td>5.044952</td>\n",
       "      <td>3.500914</td>\n",
       "      <td>NaN</td>\n",
       "    </tr>\n",
       "    <tr>\n",
       "      <th>min</th>\n",
       "      <td>1.000000</td>\n",
       "      <td>NaN</td>\n",
       "      <td>NaN</td>\n",
       "      <td>7.000000</td>\n",
       "      <td>32.540000</td>\n",
       "      <td>0.000000</td>\n",
       "      <td>12.000000</td>\n",
       "      <td>NaN</td>\n",
       "    </tr>\n",
       "    <tr>\n",
       "      <th>25%</th>\n",
       "      <td>2.000000</td>\n",
       "      <td>NaN</td>\n",
       "      <td>NaN</td>\n",
       "      <td>9.000000</td>\n",
       "      <td>52.470000</td>\n",
       "      <td>1.000000</td>\n",
       "      <td>23.000000</td>\n",
       "      <td>NaN</td>\n",
       "    </tr>\n",
       "    <tr>\n",
       "      <th>50%</th>\n",
       "      <td>3.000000</td>\n",
       "      <td>NaN</td>\n",
       "      <td>NaN</td>\n",
       "      <td>10.000000</td>\n",
       "      <td>89.500000</td>\n",
       "      <td>3.000000</td>\n",
       "      <td>25.000000</td>\n",
       "      <td>NaN</td>\n",
       "    </tr>\n",
       "    <tr>\n",
       "      <th>75%</th>\n",
       "      <td>5.000000</td>\n",
       "      <td>NaN</td>\n",
       "      <td>NaN</td>\n",
       "      <td>11.000000</td>\n",
       "      <td>107.327500</td>\n",
       "      <td>7.000000</td>\n",
       "      <td>27.000000</td>\n",
       "      <td>NaN</td>\n",
       "    </tr>\n",
       "    <tr>\n",
       "      <th>max</th>\n",
       "      <td>6.000000</td>\n",
       "      <td>NaN</td>\n",
       "      <td>NaN</td>\n",
       "      <td>16.000000</td>\n",
       "      <td>238.320000</td>\n",
       "      <td>63.000000</td>\n",
       "      <td>41.000000</td>\n",
       "      <td>NaN</td>\n",
       "    </tr>\n",
       "  </tbody>\n",
       "</table>\n",
       "</div>"
      ],
      "text/plain": [
       "                week sales_method  ... nb_site_visits       state\n",
       "count   15000.000000        15000  ...   15000.000000       15000\n",
       "unique           NaN            5  ...            NaN          50\n",
       "top              NaN        Email  ...            NaN  California\n",
       "freq             NaN         7456  ...            NaN        1872\n",
       "mean        3.098267          NaN  ...      24.990867         NaN\n",
       "std         1.656420          NaN  ...       3.500914         NaN\n",
       "min         1.000000          NaN  ...      12.000000         NaN\n",
       "25%         2.000000          NaN  ...      23.000000         NaN\n",
       "50%         3.000000          NaN  ...      25.000000         NaN\n",
       "75%         5.000000          NaN  ...      27.000000         NaN\n",
       "max         6.000000          NaN  ...      41.000000         NaN\n",
       "\n",
       "[11 rows x 8 columns]"
      ]
     },
     "execution_count": 5,
     "metadata": {},
     "output_type": "execute_result"
    }
   ],
   "source": [
    "df.describe(include=\"all\")"
   ]
  },
  {
   "cell_type": "code",
   "execution_count": 6,
   "id": "ae5a086a-4e4f-4021-8f39-6b2b46c53552",
   "metadata": {
    "executionCancelledAt": null,
    "executionTime": 48,
    "lastExecutedAt": 1686682403241,
    "lastScheduledRunId": null,
    "lastSuccessfullyExecutedCode": "df.sales_method.value_counts()"
   },
   "outputs": [
    {
     "data": {
      "text/plain": [
       "Email           7456\n",
       "Call            4962\n",
       "Email + Call    2549\n",
       "em + call         23\n",
       "email             10\n",
       "Name: sales_method, dtype: int64"
      ]
     },
     "execution_count": 6,
     "metadata": {},
     "output_type": "execute_result"
    }
   ],
   "source": [
    "df.sales_method.value_counts()"
   ]
  },
  {
   "cell_type": "code",
   "execution_count": 7,
   "id": "547523d8-2c6a-4d7e-969e-9da2e4f7834c",
   "metadata": {
    "executionCancelledAt": null,
    "executionTime": 48,
    "lastExecutedAt": 1686682403289,
    "lastScheduledRunId": null,
    "lastSuccessfullyExecutedCode": "#correct sales_method for \nsales_method_dict = {\n    'Email + Call' : 'Email and call',\n    'em + call':'Email and call',\n    'email':'Email'\n}\n\n# update sale_method\ndf['sales_method'] = df['sales_method'].replace(sales_method_dict)\n\n# check the sale_method again\ndf['sales_method'].value_counts()"
   },
   "outputs": [
    {
     "data": {
      "text/plain": [
       "Email             7466\n",
       "Call              4962\n",
       "Email and call    2572\n",
       "Name: sales_method, dtype: int64"
      ]
     },
     "execution_count": 7,
     "metadata": {},
     "output_type": "execute_result"
    }
   ],
   "source": [
    "#correct sales_method for \n",
    "sales_method_dict = {\n",
    "    'Email + Call' : 'Email and call',\n",
    "    'em + call':'Email and call',\n",
    "    'email':'Email'\n",
    "}\n",
    "\n",
    "# update sale_method\n",
    "df['sales_method'] = df['sales_method'].replace(sales_method_dict)\n",
    "\n",
    "# check the sale_method again\n",
    "df['sales_method'].value_counts()"
   ]
  },
  {
   "cell_type": "code",
   "execution_count": 8,
   "id": "cc45122a-38e0-417b-ac80-f5aad68e7e2c",
   "metadata": {
    "executionCancelledAt": null,
    "executionTime": 44,
    "lastExecutedAt": 1686682403333,
    "lastScheduledRunId": null,
    "lastSuccessfullyExecutedCode": "# missing values\nprint('Revenue column has {} missing values.'.format(df.isna().any(axis=1).sum()))\n\n#drop the missing value\ndf.dropna(axis=0, inplace=True)"
   },
   "outputs": [
    {
     "name": "stdout",
     "output_type": "stream",
     "text": [
      "Revenue column has 1074 missing values.\n"
     ]
    }
   ],
   "source": [
    "# missing values\n",
    "print('Revenue column has {} missing values.'.format(df.isna().any(axis=1).sum()))\n",
    "\n",
    "#drop the missing value\n",
    "df.dropna(axis=0, inplace=True)"
   ]
  },
  {
   "cell_type": "code",
   "execution_count": 9,
   "id": "3ef6f053-6c94-471b-86b8-6f0dfda47626",
   "metadata": {
    "executionCancelledAt": null,
    "executionTime": 47,
    "lastExecutedAt": 1686682403380,
    "lastScheduledRunId": null,
    "lastSuccessfullyExecutedCode": "#the company founded in 1984\nmax_year = 2023 -1984\n\n#set largest years_as_customer as max_year\ndf.loc[df['years_as_customer'] > max_year, 'years_as_customer'] = max_year"
   },
   "outputs": [],
   "source": [
    "#the company founded in 1984\n",
    "max_year = 2023 -1984\n",
    "\n",
    "#set largest years_as_customer as max_year\n",
    "df.loc[df['years_as_customer'] > max_year, 'years_as_customer'] = max_year"
   ]
  },
  {
   "cell_type": "code",
   "execution_count": 10,
   "id": "64bf1331-4f22-46be-bc2e-c4a37aa1891b",
   "metadata": {
    "executionCancelledAt": null,
    "executionTime": 48,
    "lastExecutedAt": 1686682403429,
    "lastScheduledRunId": null,
    "lastSuccessfullyExecutedCode": "#check again of final dataframe before doing data analysis\ndf.describe(include = 'all')"
   },
   "outputs": [
    {
     "data": {
      "application/com.datacamp.data-table.v1+json": {
       "table": {
        "data": [
         {
          "customer_id": 13926,
          "index": "count",
          "nb_site_visits": 13926,
          "nb_sold": 13926,
          "revenue": 13926,
          "sales_method": 13926,
          "state": 13926,
          "week": 13926,
          "years_as_customer": 13926
         },
         {
          "customer_id": 13926,
          "index": "unique",
          "nb_site_visits": null,
          "nb_sold": null,
          "revenue": null,
          "sales_method": 3,
          "state": 50,
          "week": null,
          "years_as_customer": null
         },
         {
          "customer_id": "3998a98d-70f5-44f7-942e-789bb8ad2fe7",
          "index": "top",
          "nb_site_visits": null,
          "nb_sold": null,
          "revenue": null,
          "sales_method": "Email",
          "state": "California",
          "week": null,
          "years_as_customer": null
         },
         {
          "customer_id": 1,
          "index": "freq",
          "nb_site_visits": null,
          "nb_sold": null,
          "revenue": null,
          "sales_method": 6922,
          "state": 1739,
          "week": null,
          "years_as_customer": null
         },
         {
          "customer_id": null,
          "index": "mean",
          "nb_site_visits": 24.947005601,
          "nb_sold": 10.0400689358,
          "revenue": 93.9349425535,
          "sales_method": null,
          "state": null,
          "week": 3.0782708603,
          "years_as_customer": 4.9766623582
         },
         {
          "customer_id": null,
          "index": "std",
          "nb_site_visits": 3.4914914802,
          "nb_sold": 1.7896900333,
          "revenue": 47.4353122457,
          "sales_method": null,
          "state": null,
          "week": 1.6506499403,
          "years_as_customer": 5.0277464623
         },
         {
          "customer_id": null,
          "index": "min",
          "nb_site_visits": 12,
          "nb_sold": 7,
          "revenue": 32.54,
          "sales_method": null,
          "state": null,
          "week": 1,
          "years_as_customer": 0
         },
         {
          "customer_id": null,
          "index": "25%",
          "nb_site_visits": 23,
          "nb_sold": 9,
          "revenue": 52.47,
          "sales_method": null,
          "state": null,
          "week": 1,
          "years_as_customer": 1
         },
         {
          "customer_id": null,
          "index": "50%",
          "nb_site_visits": 25,
          "nb_sold": 10,
          "revenue": 89.5,
          "sales_method": null,
          "state": null,
          "week": 3,
          "years_as_customer": 3
         },
         {
          "customer_id": null,
          "index": "75%",
          "nb_site_visits": 27,
          "nb_sold": 11,
          "revenue": 107.3275,
          "sales_method": null,
          "state": null,
          "week": 4,
          "years_as_customer": 7
         },
         {
          "customer_id": null,
          "index": "max",
          "nb_site_visits": 37,
          "nb_sold": 16,
          "revenue": 238.32,
          "sales_method": null,
          "state": null,
          "week": 6,
          "years_as_customer": 39
         }
        ],
        "schema": {
         "fields": [
          {
           "name": "index",
           "type": "string"
          },
          {
           "name": "week",
           "type": "number"
          },
          {
           "name": "sales_method",
           "type": "string"
          },
          {
           "name": "customer_id",
           "type": "string"
          },
          {
           "name": "nb_sold",
           "type": "number"
          },
          {
           "name": "revenue",
           "type": "number"
          },
          {
           "name": "years_as_customer",
           "type": "number"
          },
          {
           "name": "nb_site_visits",
           "type": "number"
          },
          {
           "name": "state",
           "type": "string"
          }
         ],
         "pandas_version": "1.4.0",
         "primaryKey": [
          "index"
         ]
        }
       },
       "total_rows": 11,
       "truncation_type": null
      },
      "text/html": [
       "<div>\n",
       "<style scoped>\n",
       "    .dataframe tbody tr th:only-of-type {\n",
       "        vertical-align: middle;\n",
       "    }\n",
       "\n",
       "    .dataframe tbody tr th {\n",
       "        vertical-align: top;\n",
       "    }\n",
       "\n",
       "    .dataframe thead th {\n",
       "        text-align: right;\n",
       "    }\n",
       "</style>\n",
       "<table border=\"1\" class=\"dataframe\">\n",
       "  <thead>\n",
       "    <tr style=\"text-align: right;\">\n",
       "      <th></th>\n",
       "      <th>week</th>\n",
       "      <th>sales_method</th>\n",
       "      <th>customer_id</th>\n",
       "      <th>nb_sold</th>\n",
       "      <th>revenue</th>\n",
       "      <th>years_as_customer</th>\n",
       "      <th>nb_site_visits</th>\n",
       "      <th>state</th>\n",
       "    </tr>\n",
       "  </thead>\n",
       "  <tbody>\n",
       "    <tr>\n",
       "      <th>count</th>\n",
       "      <td>13926.000000</td>\n",
       "      <td>13926</td>\n",
       "      <td>13926</td>\n",
       "      <td>13926.000000</td>\n",
       "      <td>13926.000000</td>\n",
       "      <td>13926.000000</td>\n",
       "      <td>13926.000000</td>\n",
       "      <td>13926</td>\n",
       "    </tr>\n",
       "    <tr>\n",
       "      <th>unique</th>\n",
       "      <td>NaN</td>\n",
       "      <td>3</td>\n",
       "      <td>13926</td>\n",
       "      <td>NaN</td>\n",
       "      <td>NaN</td>\n",
       "      <td>NaN</td>\n",
       "      <td>NaN</td>\n",
       "      <td>50</td>\n",
       "    </tr>\n",
       "    <tr>\n",
       "      <th>top</th>\n",
       "      <td>NaN</td>\n",
       "      <td>Email</td>\n",
       "      <td>3998a98d-70f5-44f7-942e-789bb8ad2fe7</td>\n",
       "      <td>NaN</td>\n",
       "      <td>NaN</td>\n",
       "      <td>NaN</td>\n",
       "      <td>NaN</td>\n",
       "      <td>California</td>\n",
       "    </tr>\n",
       "    <tr>\n",
       "      <th>freq</th>\n",
       "      <td>NaN</td>\n",
       "      <td>6922</td>\n",
       "      <td>1</td>\n",
       "      <td>NaN</td>\n",
       "      <td>NaN</td>\n",
       "      <td>NaN</td>\n",
       "      <td>NaN</td>\n",
       "      <td>1739</td>\n",
       "    </tr>\n",
       "    <tr>\n",
       "      <th>mean</th>\n",
       "      <td>3.078271</td>\n",
       "      <td>NaN</td>\n",
       "      <td>NaN</td>\n",
       "      <td>10.040069</td>\n",
       "      <td>93.934943</td>\n",
       "      <td>4.976662</td>\n",
       "      <td>24.947006</td>\n",
       "      <td>NaN</td>\n",
       "    </tr>\n",
       "    <tr>\n",
       "      <th>std</th>\n",
       "      <td>1.650650</td>\n",
       "      <td>NaN</td>\n",
       "      <td>NaN</td>\n",
       "      <td>1.789690</td>\n",
       "      <td>47.435312</td>\n",
       "      <td>5.027746</td>\n",
       "      <td>3.491491</td>\n",
       "      <td>NaN</td>\n",
       "    </tr>\n",
       "    <tr>\n",
       "      <th>min</th>\n",
       "      <td>1.000000</td>\n",
       "      <td>NaN</td>\n",
       "      <td>NaN</td>\n",
       "      <td>7.000000</td>\n",
       "      <td>32.540000</td>\n",
       "      <td>0.000000</td>\n",
       "      <td>12.000000</td>\n",
       "      <td>NaN</td>\n",
       "    </tr>\n",
       "    <tr>\n",
       "      <th>25%</th>\n",
       "      <td>1.000000</td>\n",
       "      <td>NaN</td>\n",
       "      <td>NaN</td>\n",
       "      <td>9.000000</td>\n",
       "      <td>52.470000</td>\n",
       "      <td>1.000000</td>\n",
       "      <td>23.000000</td>\n",
       "      <td>NaN</td>\n",
       "    </tr>\n",
       "    <tr>\n",
       "      <th>50%</th>\n",
       "      <td>3.000000</td>\n",
       "      <td>NaN</td>\n",
       "      <td>NaN</td>\n",
       "      <td>10.000000</td>\n",
       "      <td>89.500000</td>\n",
       "      <td>3.000000</td>\n",
       "      <td>25.000000</td>\n",
       "      <td>NaN</td>\n",
       "    </tr>\n",
       "    <tr>\n",
       "      <th>75%</th>\n",
       "      <td>4.000000</td>\n",
       "      <td>NaN</td>\n",
       "      <td>NaN</td>\n",
       "      <td>11.000000</td>\n",
       "      <td>107.327500</td>\n",
       "      <td>7.000000</td>\n",
       "      <td>27.000000</td>\n",
       "      <td>NaN</td>\n",
       "    </tr>\n",
       "    <tr>\n",
       "      <th>max</th>\n",
       "      <td>6.000000</td>\n",
       "      <td>NaN</td>\n",
       "      <td>NaN</td>\n",
       "      <td>16.000000</td>\n",
       "      <td>238.320000</td>\n",
       "      <td>39.000000</td>\n",
       "      <td>37.000000</td>\n",
       "      <td>NaN</td>\n",
       "    </tr>\n",
       "  </tbody>\n",
       "</table>\n",
       "</div>"
      ],
      "text/plain": [
       "                week sales_method  ... nb_site_visits       state\n",
       "count   13926.000000        13926  ...   13926.000000       13926\n",
       "unique           NaN            3  ...            NaN          50\n",
       "top              NaN        Email  ...            NaN  California\n",
       "freq             NaN         6922  ...            NaN        1739\n",
       "mean        3.078271          NaN  ...      24.947006         NaN\n",
       "std         1.650650          NaN  ...       3.491491         NaN\n",
       "min         1.000000          NaN  ...      12.000000         NaN\n",
       "25%         1.000000          NaN  ...      23.000000         NaN\n",
       "50%         3.000000          NaN  ...      25.000000         NaN\n",
       "75%         4.000000          NaN  ...      27.000000         NaN\n",
       "max         6.000000          NaN  ...      37.000000         NaN\n",
       "\n",
       "[11 rows x 8 columns]"
      ]
     },
     "execution_count": 10,
     "metadata": {},
     "output_type": "execute_result"
    }
   ],
   "source": [
    "#check again of final dataframe before doing data analysis\n",
    "df.describe(include = 'all')"
   ]
  },
  {
   "cell_type": "markdown",
   "id": "ca7798c3-7d13-445a-8a7f-38b265b009e1",
   "metadata": {},
   "source": [
    "## EDA"
   ]
  },
  {
   "cell_type": "code",
   "execution_count": 11,
   "id": "d031568d-edbd-4fdd-8d89-50e47d1cce0a",
   "metadata": {
    "executionCancelledAt": null,
    "executionTime": 291,
    "lastExecutedAt": 1686682403720,
    "lastScheduledRunId": null,
    "lastSuccessfullyExecutedCode": "#sales method distrbution\nfig = sns.countplot(\n    data = df,\n    x = 'sales_method',\n    palette= {\n                'Call': 'orange',\n                'Email': 'red',\n                'Email and call': 'blue'}\n)\n# add the value\nfor i in fig.patches:\n    fig.annotate('{:.0f}'.format(i.get_height()),\n                   (i.get_x() + 0.4, i.get_height()),\n                   ha='center',\n                   va='bottom',\n                   color='black')\nplt.title(\"Sales method distribution\")\nplt.show()"
   },
   "outputs": [
    {
     "data": {
      "image/png": "[encoded data removed]",
      "text/plain": [
       "<Figure size 640x480 with 1 Axes>"
      ]
     },
     "metadata": {},
     "output_type": "display_data"
    }
   ],
   "source": [
    "#sales method distrbution\n",
    "fig = sns.countplot(\n",
    "    data = df,\n",
    "    x = 'sales_method',\n",
    "    palette= {\n",
    "                'Call': 'orange',\n",
    "                'Email': 'red',\n",
    "                'Email and call': 'blue'}\n",
    ")\n",
    "# add the value\n",
    "for i in fig.patches:\n",
    "    fig.annotate('{:.0f}'.format(i.get_height()),\n",
    "                   (i.get_x() + 0.4, i.get_height()),\n",
    "                   ha='center',\n",
    "                   va='bottom',\n",
    "                   color='black')\n",
    "plt.title(\"Sales method distribution\")\n",
    "plt.show()"
   ]
  },
  {
   "cell_type": "code",
   "execution_count": 12,
   "id": "3ea0b08c-6e05-4417-a993-875e6a39cbb2",
   "metadata": {
    "executionCancelledAt": null,
    "executionTime": 229,
    "lastExecutedAt": 1686682403950,
    "lastScheduledRunId": null,
    "lastSuccessfullyExecutedCode": "#let view revenue distribution\nfig, ax = plt.subplots(1,2, figsize=(10,5))\n#with outliers\nsns.boxplot(\n    data = df,\n    y = 'revenue',\n    ax = ax[0],\n  \n)\nax[0].set_title(\"Revenue distribution with outliers\")\n\n#without outliers\nsns.boxplot(\n    data = df,\n    y = 'revenue',\n    ax = ax[1],\n    showfliers= False\n)\nax[1].set_title(\"Revenue distribution without outliers\")\nplt.show()"
   },
   "outputs": [
    {
     "data": {
      "image/png": "[encoded data removed]",
      "text/plain": [
       "<Figure size 1000x500 with 2 Axes>"
      ]
     },
     "metadata": {},
     "output_type": "display_data"
    }
   ],
   "source": [
    "#let view revenue distribution\n",
    "fig, ax = plt.subplots(1,2, figsize=(10,5))\n",
    "#with outliers\n",
    "sns.boxplot(\n",
    "    data = df,\n",
    "    y = 'revenue',\n",
    "    ax = ax[0],\n",
    "  \n",
    ")\n",
    "ax[0].set_title(\"Revenue distribution with outliers\")\n",
    "\n",
    "#without outliers\n",
    "sns.boxplot(\n",
    "    data = df,\n",
    "    y = 'revenue',\n",
    "    ax = ax[1],\n",
    "    showfliers= False\n",
    ")\n",
    "ax[1].set_title(\"Revenue distribution without outliers\")\n",
    "plt.show()"
   ]
  },
  {
   "cell_type": "code",
   "execution_count": 13,
   "id": "bec3ec19-3ffd-41dd-be2d-48b0a73b6e8b",
   "metadata": {
    "executionCancelledAt": null,
    "executionTime": 166,
    "lastExecutedAt": 1686682404116,
    "lastScheduledRunId": null,
    "lastSuccessfullyExecutedCode": "sns.boxplot(\n    data = df,\n    y = 'revenue',\n    x = 'sales_method',\n    palette= {\n                'Call': 'orange',\n                'Email': 'red',\n                'Email and call': 'blue'},\n     showfliers= False\n\n    \n)\nplt.title(\"Revenue distribution per sale method without outliers\")\nplt.show()"
   },
   "outputs": [
    {
     "data": {
      "image/png": "[encoded data removed]",
      "text/plain": [
       "<Figure size 640x480 with 1 Axes>"
      ]
     },
     "metadata": {},
     "output_type": "display_data"
    }
   ],
   "source": [
    "sns.boxplot(\n",
    "    data = df,\n",
    "    y = 'revenue',\n",
    "    x = 'sales_method',\n",
    "    palette= {\n",
    "                'Call': 'orange',\n",
    "                'Email': 'red',\n",
    "                'Email and call': 'blue'},\n",
    "     showfliers= False\n",
    "\n",
    "    \n",
    ")\n",
    "plt.title(\"Revenue distribution per sale method without outliers\")\n",
    "plt.show()"
   ]
  },
  {
   "cell_type": "code",
   "execution_count": 14,
   "id": "34afe7d5-47dd-4433-8ed7-f97622807a53",
   "metadata": {
    "executionCancelledAt": null,
    "executionTime": 322,
    "lastExecutedAt": 1686682404438,
    "lastScheduledRunId": null,
    "lastSuccessfullyExecutedCode": "#create bar plot of revenue made by sale methods\nfig, ax = plt.subplots(1,2, figsize=(10,5))\nsns.barplot(\n    data = df.groupby(['sales_method'])['revenue'].sum().reset_index(),\n    x = 'sales_method',\n    y = 'revenue',\n    palette= {\n                'Call': 'orange',\n                'Email': 'red',\n                'Email and call': 'blue'},\n    ax=ax[0]\n)\n\n#set title\nax[0].set_title('Total Revenue in different sales methods')\n\n# add value on the top of bar\nfor i in ax[0].patches:\n    ax[0].annotate('{:.0f}'.format(i.get_height()),\n                   (i.get_x() + 0.4, i.get_height()),\n                   ha='center',\n                   va='bottom',\n                   color='black')\n\n\n# the conversation rate made by each sale\ndf_sales = df.groupby(['sales_method'])['revenue'].agg(['sum', 'count']).reset_index()\ndf_sales.rename(columns={\n       'sum':'total_revenue',\n       'count': 'total_counts'\n}, inplace=True)\ndf_sales['conversion_rate'] = df_sales['total_revenue']/df_sales['total_counts']\n\nsns.barplot( \n            data = df_sales, \n            x = 'sales_method', \n            y ='conversion_rate', \n            palette= {\n                     'Call': 'orange',\n                     'Email': 'red',\n                     'Email and call': 'blue'},\n            ax = ax[1])\n\n# add value on the top of bar\nfor i in ax[1].patches:\n    ax[1].annotate('{:.0f}'.format(i.get_height()),\n                   (i.get_x() + 0.4, i.get_height()),\n                   ha='center',\n                   va='bottom',\n                   color='black')\nax[1].set_title(\"Revenue per sale\")\nplt.show()"
   },
   "outputs": [
    {
     "data": {
      "image/png": "[encoded data removed]",
      "text/plain": [
       "<Figure size 1000x500 with 2 Axes>"
      ]
     },
     "metadata": {},
     "output_type": "display_data"
    }
   ],
   "source": [
    "#create bar plot of revenue made by sale methods\n",
    "fig, ax = plt.subplots(1,2, figsize=(10,5))\n",
    "sns.barplot(\n",
    "    data = df.groupby(['sales_method'])['revenue'].sum().reset_index(),\n",
    "    x = 'sales_method',\n",
    "    y = 'revenue',\n",
    "    palette= {\n",
    "                'Call': 'orange',\n",
    "                'Email': 'red',\n",
    "                'Email and call': 'blue'},\n",
    "    ax=ax[0]\n",
    ")\n",
    "\n",
    "#set title\n",
    "ax[0].set_title('Total Revenue in different sales methods')\n",
    "\n",
    "# add value on the top of bar\n",
    "for i in ax[0].patches:\n",
    "    ax[0].annotate('{:.0f}'.format(i.get_height()),\n",
    "                   (i.get_x() + 0.4, i.get_height()),\n",
    "                   ha='center',\n",
    "                   va='bottom',\n",
    "                   color='black')\n",
    "\n",
    "\n",
    "# the conversation rate made by each sale\n",
    "df_sales = df.groupby(['sales_method'])['revenue'].agg(['sum', 'count']).reset_index()\n",
    "df_sales.rename(columns={\n",
    "       'sum':'total_revenue',\n",
    "       'count': 'total_counts'\n",
    "}, inplace=True)\n",
    "df_sales['conversion_rate'] = df_sales['total_revenue']/df_sales['total_counts']\n",
    "\n",
    "sns.barplot( \n",
    "            data = df_sales, \n",
    "            x = 'sales_method', \n",
    "            y ='conversion_rate', \n",
    "            palette= {\n",
    "                     'Call': 'orange',\n",
    "                     'Email': 'red',\n",
    "                     'Email and call': 'blue'},\n",
    "            ax = ax[1])\n",
    "\n",
    "# add value on the top of bar\n",
    "for i in ax[1].patches:\n",
    "    ax[1].annotate('{:.0f}'.format(i.get_height()),\n",
    "                   (i.get_x() + 0.4, i.get_height()),\n",
    "                   ha='center',\n",
    "                   va='bottom',\n",
    "                   color='black')\n",
    "ax[1].set_title(\"Revenue per sale\")\n",
    "plt.show()"
   ]
  },
  {
   "cell_type": "code",
   "execution_count": 15,
   "id": "370171dd-99fe-4b3f-82ea-f70f7fdb0969",
   "metadata": {
    "executionCancelledAt": null,
    "executionTime": 1450,
    "lastExecutedAt": 1686682405888,
    "lastScheduledRunId": null,
    "lastSuccessfullyExecutedCode": "#create bar plot of revenue made by sale methods\nfig, ax = plt.subplots(1,2, figsize=(10,5))\n\n\n#plot the line of revenue respect to week by different sale methods\nsns.lineplot(\n    data = df,\n    x = 'week',\n    y = 'revenue',\n    hue = 'sales_method',\n    style= 'sales_method',\n    markers= True,\n    dashes= False,\n    palette= {\n                'Call': 'orange',\n                'Email': 'red',\n                'Email and call': 'blue'},\n    ax = ax[0]\n)\n\nax[0].set_title(\"Average Weekly Revenue in different sales methods\")\n\n\n\n# number of sold each week\nsns.lineplot(\n    data = df,\n    x = 'week',\n    y = 'nb_sold',\n    hue = 'sales_method',\n    palette= {\n                'Call': 'orange',\n                'Email': 'red',\n                'Email and call': 'blue'},\n    ax = ax[1]\n)\nax[1].set_title(\"The number of sold items each week\")\nplt.show()"
   },
   "outputs": [
    {
     "data": {
      "image/png": "[encoded data removed]",
      "text/plain": [
       "<Figure size 1000x500 with 2 Axes>"
      ]
     },
     "metadata": {},
     "output_type": "display_data"
    }
   ],
   "source": [
    "#create bar plot of revenue made by sale methods\n",
    "fig, ax = plt.subplots(1,2, figsize=(10,5))\n",
    "\n",
    "\n",
    "#plot the line of revenue respect to week by different sale methods\n",
    "sns.lineplot(\n",
    "    data = df,\n",
    "    x = 'week',\n",
    "    y = 'revenue',\n",
    "    hue = 'sales_method',\n",
    "    style= 'sales_method',\n",
    "    markers= True,\n",
    "    dashes= False,\n",
    "    palette= {\n",
    "                'Call': 'orange',\n",
    "                'Email': 'red',\n",
    "                'Email and call': 'blue'},\n",
    "    ax = ax[0]\n",
    ")\n",
    "\n",
    "ax[0].set_title(\"Average Weekly Revenue in different sales methods\")\n",
    "\n",
    "\n",
    "\n",
    "# number of sold each week\n",
    "sns.lineplot(\n",
    "    data = df,\n",
    "    x = 'week',\n",
    "    y = 'nb_sold',\n",
    "    hue = 'sales_method',\n",
    "    palette= {\n",
    "                'Call': 'orange',\n",
    "                'Email': 'red',\n",
    "                'Email and call': 'blue'},\n",
    "    ax = ax[1]\n",
    ")\n",
    "ax[1].set_title(\"The number of sold items each week\")\n",
    "plt.show()"
   ]
  },
  {
   "cell_type": "markdown",
   "id": "9ec15499-6b25-4609-af8f-cc51b234278f",
   "metadata": {},
   "source": [
    "## Conduct a hypothesis test\n",
    "Testing the sales methods on the mean of revenue\n",
    "\n",
    "Is the mean revenue of Email and call greater than that of Email and Call?\n",
    "*   $H_0$: the mean revenue of Email and call is less than or equal to that of Email and Call\n",
    "*   $H_A$: the mean  revenue of Email and call is greater than that of Email and Call"
   ]
  },
  {
   "cell_type": "code",
   "execution_count": 16,
   "id": "18d6b244-9e28-4416-b09f-ab1f43dd61a0",
   "metadata": {
    "executionCancelledAt": null,
    "executionTime": 48,
    "lastExecutedAt": 1686682405936,
    "lastScheduledRunId": null,
    "lastSuccessfullyExecutedCode": "# extract email, call and email+call\n\nemail = df[df['sales_method'] == 'Email']\ncall = df[df['sales_method'] == 'Call']\nemail_call = df[df['sales_method'] == 'Email and call']\n\n\n#get 40 sample of each \n\nemail_sample = email.sample(n=40, replace=True, random_state= 1)\ncall_sample = call.sample(n=40, replace=True, random_state= 2)\nemail_call_sample = email_call.sample(n=40, replace=True, random_state= 3)"
   },
   "outputs": [],
   "source": [
    "# extract email, call and email+call\n",
    "\n",
    "email = df[df['sales_method'] == 'Email']\n",
    "call = df[df['sales_method'] == 'Call']\n",
    "email_call = df[df['sales_method'] == 'Email and call']\n",
    "\n",
    "\n",
    "#get 40 sample of each \n",
    "\n",
    "email_sample = email.sample(n=40, replace=True, random_state= 1)\n",
    "call_sample = call.sample(n=40, replace=True, random_state= 2)\n",
    "email_call_sample = email_call.sample(n=40, replace=True, random_state= 3)"
   ]
  },
  {
   "cell_type": "markdown",
   "id": "384030cd-c549-438a-92b6-ca5558deb6ef",
   "metadata": {},
   "source": [
    "#### Significance Level (at 5%)\n",
    "#### Compute the P-value"
   ]
  },
  {
   "cell_type": "code",
   "execution_count": 17,
   "id": "c98594fd-65bd-4ad9-8aab-854197de952b",
   "metadata": {
    "executionCancelledAt": null,
    "executionTime": 44,
    "lastExecutedAt": 1686682405981,
    "lastScheduledRunId": null,
    "lastSuccessfullyExecutedCode": "# email and call and email\nstats.ttest_ind(a=email_call_sample['revenue'], b=email['revenue'], equal_var=False, alternative='greater')"
   },
   "outputs": [
    {
     "data": {
      "text/plain": [
       "Ttest_indResult(statistic=22.122672174296532, pvalue=5.13125092256429e-24)"
      ]
     },
     "execution_count": 17,
     "metadata": {},
     "output_type": "execute_result"
    }
   ],
   "source": [
    "# email and call and email\n",
    "stats.ttest_ind(a=email_call_sample['revenue'], b=email['revenue'], equal_var=False, alternative='greater')"
   ]
  },
  {
   "cell_type": "code",
   "execution_count": 18,
   "id": "4df5d4f2-9698-458d-9942-340ea15bdf5a",
   "metadata": {
    "executionCancelledAt": null,
    "executionTime": 48,
    "lastExecutedAt": 1686682406029,
    "lastScheduledRunId": null,
    "lastSuccessfullyExecutedCode": "# email+ call and call\nstats.ttest_ind(a=email_call_sample['revenue'], b=call['revenue'], equal_var=False, alternative='greater')"
   },
   "outputs": [
    {
     "data": {
      "text/plain": [
       "Ttest_indResult(statistic=35.09526957420406, pvalue=1.8210257276019264e-31)"
      ]
     },
     "execution_count": 18,
     "metadata": {},
     "output_type": "execute_result"
    }
   ],
   "source": [
    "# email+ call and call\n",
    "stats.ttest_ind(a=email_call_sample['revenue'], b=call['revenue'], equal_var=False, alternative='greater')"
   ]
  },
  {
   "cell_type": "markdown",
   "id": "b89feb65-dcbf-42cc-9400-d8f689eb7184",
   "metadata": {},
   "source": [
    "Both random samples of p_values are less than 0.05, we reject the null hypothesis. The mean revenue of email+call is statistically significantly greater than that of email and call. For the sales team, the email+call sales method is likely to make more revenue than the other two sales methods."
   ]
  }
 ],
 "metadata": {
  "colab": {
   "name": "Welcome to DataCamp Workspaces.ipynb",
   "provenance": []
  },
  "kernelspec": {
   "display_name": "Python 3",
   "language": "python",
   "name": "python3"
  },
  "language_info": {
   "codemirror_mode": {
    "name": "ipython",
    "version": 3
   },
   "file_extension": ".py",
   "mimetype": "text/x-python",
   "name": "python",
   "nbconvert_exporter": "python",
   "pygments_lexer": "ipython3",
   "version": "3.8.8"
  }
 },
 "nbformat": 4,
 "nbformat_minor": 5
}
