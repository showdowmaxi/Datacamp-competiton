{
 "cells": [
  {
   "cell_type": "markdown",
   "metadata": {
    "id": "ysS5rgTMWpwL"
   },
   "source": [
    "# **Capstone project: Providing data-driven suggestions for HR**"
   ]
  },
  {
   "cell_type": "markdown",
   "metadata": {
    "id": "gLEEr6peWcF7"
   },
   "source": [
    "🗒\n",
    "### Understand the business scenario and problem\n",
    "\n",
    "The HR department at Salifort Motors wants to take some initiatives to improve employee satisfaction levels at the company. They collected data from employees, but now they don’t know what to do with it. They refer to you as a data analytics professional and ask you to provide data-driven suggestions based on your understanding of the data. They have the following question: what’s likely to make the employee leave the company?\n",
    "\n",
    "Your goals in this project are to analyze the data collected by the HR department and to build a model that predicts whether or not an employee will leave the company.\n",
    "\n",
    "If you can predict employees likely to quit, it might be possible to identify factors that contribute to their leaving. Because it is time-consuming and expensive to find, interview, and hire new employees, increasing employee retention will be beneficial to the company."
   ]
  },
  {
   "cell_type": "markdown",
   "metadata": {
    "id": "lnRdR6eacUkK"
   },
   "source": [
    "### Familiarize yourself with the HR dataset\n",
    "\n",
    "The dataset that you'll be using in this lab contains 15,000 rows and 10 columns for the variables listed below. \n",
    "\n",
    "**Note:** you don't need to download any data to complete this lab. For more information about the data, refer to its source on [Kaggle](https://www.kaggle.com/datasets/mfaisalqureshi/hr-analytics-and-job-prediction?select=HR_comma_sep.csv).\n",
    "\n",
    "Variable  |Description |\n",
    "-----|-----|\n",
    "satisfaction_level|Employee-reported job satisfaction level [0&ndash;1]|\n",
    "last_evaluation|Score of employee's last performance review [0&ndash;1]|\n",
    "number_project|Number of projects employee contributes to|\n",
    "average_monthly_hours|Average number of hours employee worked per month|\n",
    "time_spend_company|How long the employee has been with the company (years)\n",
    "Work_accident|Whether or not the employee experienced an accident while at work\n",
    "left|Whether or not the employee left the company\n",
    "promotion_last_5years|Whether or not the employee was promoted in the last 5 years\n",
    "Department|The employee's department\n",
    "salary|The employee's salary (U.S. dollars)"
   ]
  },
  {
   "cell_type": "markdown",
   "metadata": {
    "id": "PoC0_CTLaK2p"
   },
   "source": [
    "💭\n",
    "### Reflect on these questions as you complete the plan stage.\n",
    "\n",
    "*  Who are your stakeholders for this project?\n",
    "- What are you trying to solve or accomplish?\n",
    "- What are your initial observations when you explore the data?\n",
    "- What resources do you find yourself using as you complete this stage? (Make sure to include the links.)\n",
    "- Do you have any ethical considerations in this stage?\n",
    "\n",
    "\n"
   ]
  },
  {
   "cell_type": "markdown",
   "metadata": {
    "id": "EAfj2mxlHyO3"
   },
   "source": [
    "- Ths stakeholder is the leadership team at Salifort Motors\n",
    "\n",
    "- The objective of this project is developed a model to predict employee departure and helps the company improve retention rate of employee\n",
    "\n",
    "- The given datset has 14999 rows and 10 columns with float64(2), int64(6), object(2). There are 3008 duplications. time_spend_company is likely to have outliers, however, the information of company founded time is not available to verify the maximum/minimum time length that an employee stay with the company.\n",
    "\n",
    "- Understanding the meaning of column name and explore data with pandas and visualize with searbon\n",
    "\n",
    "- There is not any ethical considerations in this stage since there is not any confidential/personal identify information shown on the data. Additionally, the objective is for improving employee retention rate, which is mutual benefit for the company and employees, better working culture and higher employee retention rate."
   ]
  },
  {
   "cell_type": "code",
   "execution_count": 1,
   "metadata": {
    "id": "hVWGpX9As4e1"
   },
   "outputs": [],
   "source": [
    "# Import packages\n",
    "import pandas as pd\n",
    "import numpy as np\n",
    "\n",
    "from sklearn.model_selection import train_test_split, GridSearchCV, PredefinedSplit\n",
    "from sklearn.metrics import f1_score, precision_score, recall_score, accuracy_score,confusion_matrix, ConfusionMatrixDisplay\n",
    "from sklearn.ensemble import RandomForestClassifier\n",
    "from xgboost import XGBClassifier, plot_importance\n",
    "from sklearn.preprocessing import MinMaxScaler\n",
    "from sklearn.linear_model import LogisticRegression\n",
    "from sklearn.tree import DecisionTreeClassifier\n",
    "\n",
    "import seaborn as sns\n",
    "import matplotlib.pyplot as plt"
   ]
  },
  {
   "cell_type": "code",
   "execution_count": 2,
   "metadata": {
    "id": "Bs0cJR5BDPgQ"
   },
   "outputs": [
    {
     "data": {
      "text/html": [
       "<div>\n",
       "<style scoped>\n",
       "    .dataframe tbody tr th:only-of-type {\n",
       "        vertical-align: middle;\n",
       "    }\n",
       "\n",
       "    .dataframe tbody tr th {\n",
       "        vertical-align: top;\n",
       "    }\n",
       "\n",
       "    .dataframe thead th {\n",
       "        text-align: right;\n",
       "    }\n",
       "</style>\n",
       "<table border=\"1\" class=\"dataframe\">\n",
       "  <thead>\n",
       "    <tr style=\"text-align: right;\">\n",
       "      <th></th>\n",
       "      <th>satisfaction_level</th>\n",
       "      <th>last_evaluation</th>\n",
       "      <th>number_project</th>\n",
       "      <th>average_montly_hours</th>\n",
       "      <th>time_spend_company</th>\n",
       "      <th>Work_accident</th>\n",
       "      <th>left</th>\n",
       "      <th>promotion_last_5years</th>\n",
       "      <th>Department</th>\n",
       "      <th>salary</th>\n",
       "    </tr>\n",
       "  </thead>\n",
       "  <tbody>\n",
       "    <tr>\n",
       "      <th>0</th>\n",
       "      <td>0.38</td>\n",
       "      <td>0.53</td>\n",
       "      <td>2</td>\n",
       "      <td>157</td>\n",
       "      <td>3</td>\n",
       "      <td>0</td>\n",
       "      <td>1</td>\n",
       "      <td>0</td>\n",
       "      <td>sales</td>\n",
       "      <td>low</td>\n",
       "    </tr>\n",
       "    <tr>\n",
       "      <th>1</th>\n",
       "      <td>0.80</td>\n",
       "      <td>0.86</td>\n",
       "      <td>5</td>\n",
       "      <td>262</td>\n",
       "      <td>6</td>\n",
       "      <td>0</td>\n",
       "      <td>1</td>\n",
       "      <td>0</td>\n",
       "      <td>sales</td>\n",
       "      <td>medium</td>\n",
       "    </tr>\n",
       "    <tr>\n",
       "      <th>2</th>\n",
       "      <td>0.11</td>\n",
       "      <td>0.88</td>\n",
       "      <td>7</td>\n",
       "      <td>272</td>\n",
       "      <td>4</td>\n",
       "      <td>0</td>\n",
       "      <td>1</td>\n",
       "      <td>0</td>\n",
       "      <td>sales</td>\n",
       "      <td>medium</td>\n",
       "    </tr>\n",
       "    <tr>\n",
       "      <th>3</th>\n",
       "      <td>0.72</td>\n",
       "      <td>0.87</td>\n",
       "      <td>5</td>\n",
       "      <td>223</td>\n",
       "      <td>5</td>\n",
       "      <td>0</td>\n",
       "      <td>1</td>\n",
       "      <td>0</td>\n",
       "      <td>sales</td>\n",
       "      <td>low</td>\n",
       "    </tr>\n",
       "    <tr>\n",
       "      <th>4</th>\n",
       "      <td>0.37</td>\n",
       "      <td>0.52</td>\n",
       "      <td>2</td>\n",
       "      <td>159</td>\n",
       "      <td>3</td>\n",
       "      <td>0</td>\n",
       "      <td>1</td>\n",
       "      <td>0</td>\n",
       "      <td>sales</td>\n",
       "      <td>low</td>\n",
       "    </tr>\n",
       "    <tr>\n",
       "      <th>5</th>\n",
       "      <td>0.41</td>\n",
       "      <td>0.50</td>\n",
       "      <td>2</td>\n",
       "      <td>153</td>\n",
       "      <td>3</td>\n",
       "      <td>0</td>\n",
       "      <td>1</td>\n",
       "      <td>0</td>\n",
       "      <td>sales</td>\n",
       "      <td>low</td>\n",
       "    </tr>\n",
       "    <tr>\n",
       "      <th>6</th>\n",
       "      <td>0.10</td>\n",
       "      <td>0.77</td>\n",
       "      <td>6</td>\n",
       "      <td>247</td>\n",
       "      <td>4</td>\n",
       "      <td>0</td>\n",
       "      <td>1</td>\n",
       "      <td>0</td>\n",
       "      <td>sales</td>\n",
       "      <td>low</td>\n",
       "    </tr>\n",
       "    <tr>\n",
       "      <th>7</th>\n",
       "      <td>0.92</td>\n",
       "      <td>0.85</td>\n",
       "      <td>5</td>\n",
       "      <td>259</td>\n",
       "      <td>5</td>\n",
       "      <td>0</td>\n",
       "      <td>1</td>\n",
       "      <td>0</td>\n",
       "      <td>sales</td>\n",
       "      <td>low</td>\n",
       "    </tr>\n",
       "    <tr>\n",
       "      <th>8</th>\n",
       "      <td>0.89</td>\n",
       "      <td>1.00</td>\n",
       "      <td>5</td>\n",
       "      <td>224</td>\n",
       "      <td>5</td>\n",
       "      <td>0</td>\n",
       "      <td>1</td>\n",
       "      <td>0</td>\n",
       "      <td>sales</td>\n",
       "      <td>low</td>\n",
       "    </tr>\n",
       "    <tr>\n",
       "      <th>9</th>\n",
       "      <td>0.42</td>\n",
       "      <td>0.53</td>\n",
       "      <td>2</td>\n",
       "      <td>142</td>\n",
       "      <td>3</td>\n",
       "      <td>0</td>\n",
       "      <td>1</td>\n",
       "      <td>0</td>\n",
       "      <td>sales</td>\n",
       "      <td>low</td>\n",
       "    </tr>\n",
       "  </tbody>\n",
       "</table>\n",
       "</div>"
      ],
      "text/plain": [
       "   satisfaction_level  last_evaluation  number_project  average_montly_hours  \\\n",
       "0                0.38             0.53               2                   157   \n",
       "1                0.80             0.86               5                   262   \n",
       "2                0.11             0.88               7                   272   \n",
       "3                0.72             0.87               5                   223   \n",
       "4                0.37             0.52               2                   159   \n",
       "5                0.41             0.50               2                   153   \n",
       "6                0.10             0.77               6                   247   \n",
       "7                0.92             0.85               5                   259   \n",
       "8                0.89             1.00               5                   224   \n",
       "9                0.42             0.53               2                   142   \n",
       "\n",
       "   time_spend_company  Work_accident  left  promotion_last_5years Department  \\\n",
       "0                   3              0     1                      0      sales   \n",
       "1                   6              0     1                      0      sales   \n",
       "2                   4              0     1                      0      sales   \n",
       "3                   5              0     1                      0      sales   \n",
       "4                   3              0     1                      0      sales   \n",
       "5                   3              0     1                      0      sales   \n",
       "6                   4              0     1                      0      sales   \n",
       "7                   5              0     1                      0      sales   \n",
       "8                   5              0     1                      0      sales   \n",
       "9                   3              0     1                      0      sales   \n",
       "\n",
       "   salary  \n",
       "0     low  \n",
       "1  medium  \n",
       "2  medium  \n",
       "3     low  \n",
       "4     low  \n",
       "5     low  \n",
       "6     low  \n",
       "7     low  \n",
       "8     low  \n",
       "9     low  "
      ]
     },
     "execution_count": 2,
     "metadata": {},
     "output_type": "execute_result"
    }
   ],
   "source": [
    "# Load dataset into a dataframe\n",
    "df0 = pd.read_csv(\"HR_capstone_dataset.csv\")\n",
    "\n",
    "\n",
    "# Display first few rows of the dataframe\n",
    "df0.head(10)"
   ]
  },
  {
   "cell_type": "markdown",
   "metadata": {
    "id": "wF_LLorPs5G_"
   },
   "source": [
    "## Data Exploration (Initial EDA and data cleaning)\n"
   ]
  },
  {
   "cell_type": "code",
   "execution_count": 3,
   "metadata": {
    "id": "6XbfdPoKurMf"
   },
   "outputs": [
    {
     "name": "stdout",
     "output_type": "stream",
     "text": [
      "<class 'pandas.core.frame.DataFrame'>\n",
      "RangeIndex: 14999 entries, 0 to 14998\n",
      "Data columns (total 10 columns):\n",
      " #   Column                 Non-Null Count  Dtype  \n",
      "---  ------                 --------------  -----  \n",
      " 0   satisfaction_level     14999 non-null  float64\n",
      " 1   last_evaluation        14999 non-null  float64\n",
      " 2   number_project         14999 non-null  int64  \n",
      " 3   average_montly_hours   14999 non-null  int64  \n",
      " 4   time_spend_company     14999 non-null  int64  \n",
      " 5   Work_accident          14999 non-null  int64  \n",
      " 6   left                   14999 non-null  int64  \n",
      " 7   promotion_last_5years  14999 non-null  int64  \n",
      " 8   Department             14999 non-null  object \n",
      " 9   salary                 14999 non-null  object \n",
      "dtypes: float64(2), int64(6), object(2)\n",
      "memory usage: 1.1+ MB\n"
     ]
    }
   ],
   "source": [
    "# Gather basic information about the data\n",
    "df0.info()"
   ]
  },
  {
   "cell_type": "code",
   "execution_count": 4,
   "metadata": {
    "id": "_5VRL-kzE8y1"
   },
   "outputs": [
    {
     "data": {
      "text/html": [
       "<div>\n",
       "<style scoped>\n",
       "    .dataframe tbody tr th:only-of-type {\n",
       "        vertical-align: middle;\n",
       "    }\n",
       "\n",
       "    .dataframe tbody tr th {\n",
       "        vertical-align: top;\n",
       "    }\n",
       "\n",
       "    .dataframe thead th {\n",
       "        text-align: right;\n",
       "    }\n",
       "</style>\n",
       "<table border=\"1\" class=\"dataframe\">\n",
       "  <thead>\n",
       "    <tr style=\"text-align: right;\">\n",
       "      <th></th>\n",
       "      <th>satisfaction_level</th>\n",
       "      <th>last_evaluation</th>\n",
       "      <th>number_project</th>\n",
       "      <th>average_montly_hours</th>\n",
       "      <th>time_spend_company</th>\n",
       "      <th>Work_accident</th>\n",
       "      <th>left</th>\n",
       "      <th>promotion_last_5years</th>\n",
       "      <th>Department</th>\n",
       "      <th>salary</th>\n",
       "    </tr>\n",
       "  </thead>\n",
       "  <tbody>\n",
       "    <tr>\n",
       "      <th>count</th>\n",
       "      <td>14999.000000</td>\n",
       "      <td>14999.000000</td>\n",
       "      <td>14999.000000</td>\n",
       "      <td>14999.000000</td>\n",
       "      <td>14999.000000</td>\n",
       "      <td>14999.000000</td>\n",
       "      <td>14999.000000</td>\n",
       "      <td>14999.000000</td>\n",
       "      <td>14999</td>\n",
       "      <td>14999</td>\n",
       "    </tr>\n",
       "    <tr>\n",
       "      <th>unique</th>\n",
       "      <td>NaN</td>\n",
       "      <td>NaN</td>\n",
       "      <td>NaN</td>\n",
       "      <td>NaN</td>\n",
       "      <td>NaN</td>\n",
       "      <td>NaN</td>\n",
       "      <td>NaN</td>\n",
       "      <td>NaN</td>\n",
       "      <td>10</td>\n",
       "      <td>3</td>\n",
       "    </tr>\n",
       "    <tr>\n",
       "      <th>top</th>\n",
       "      <td>NaN</td>\n",
       "      <td>NaN</td>\n",
       "      <td>NaN</td>\n",
       "      <td>NaN</td>\n",
       "      <td>NaN</td>\n",
       "      <td>NaN</td>\n",
       "      <td>NaN</td>\n",
       "      <td>NaN</td>\n",
       "      <td>sales</td>\n",
       "      <td>low</td>\n",
       "    </tr>\n",
       "    <tr>\n",
       "      <th>freq</th>\n",
       "      <td>NaN</td>\n",
       "      <td>NaN</td>\n",
       "      <td>NaN</td>\n",
       "      <td>NaN</td>\n",
       "      <td>NaN</td>\n",
       "      <td>NaN</td>\n",
       "      <td>NaN</td>\n",
       "      <td>NaN</td>\n",
       "      <td>4140</td>\n",
       "      <td>7316</td>\n",
       "    </tr>\n",
       "    <tr>\n",
       "      <th>mean</th>\n",
       "      <td>0.612834</td>\n",
       "      <td>0.716102</td>\n",
       "      <td>3.803054</td>\n",
       "      <td>201.050337</td>\n",
       "      <td>3.498233</td>\n",
       "      <td>0.144610</td>\n",
       "      <td>0.238083</td>\n",
       "      <td>0.021268</td>\n",
       "      <td>NaN</td>\n",
       "      <td>NaN</td>\n",
       "    </tr>\n",
       "    <tr>\n",
       "      <th>std</th>\n",
       "      <td>0.248631</td>\n",
       "      <td>0.171169</td>\n",
       "      <td>1.232592</td>\n",
       "      <td>49.943099</td>\n",
       "      <td>1.460136</td>\n",
       "      <td>0.351719</td>\n",
       "      <td>0.425924</td>\n",
       "      <td>0.144281</td>\n",
       "      <td>NaN</td>\n",
       "      <td>NaN</td>\n",
       "    </tr>\n",
       "    <tr>\n",
       "      <th>min</th>\n",
       "      <td>0.090000</td>\n",
       "      <td>0.360000</td>\n",
       "      <td>2.000000</td>\n",
       "      <td>96.000000</td>\n",
       "      <td>2.000000</td>\n",
       "      <td>0.000000</td>\n",
       "      <td>0.000000</td>\n",
       "      <td>0.000000</td>\n",
       "      <td>NaN</td>\n",
       "      <td>NaN</td>\n",
       "    </tr>\n",
       "    <tr>\n",
       "      <th>25%</th>\n",
       "      <td>0.440000</td>\n",
       "      <td>0.560000</td>\n",
       "      <td>3.000000</td>\n",
       "      <td>156.000000</td>\n",
       "      <td>3.000000</td>\n",
       "      <td>0.000000</td>\n",
       "      <td>0.000000</td>\n",
       "      <td>0.000000</td>\n",
       "      <td>NaN</td>\n",
       "      <td>NaN</td>\n",
       "    </tr>\n",
       "    <tr>\n",
       "      <th>50%</th>\n",
       "      <td>0.640000</td>\n",
       "      <td>0.720000</td>\n",
       "      <td>4.000000</td>\n",
       "      <td>200.000000</td>\n",
       "      <td>3.000000</td>\n",
       "      <td>0.000000</td>\n",
       "      <td>0.000000</td>\n",
       "      <td>0.000000</td>\n",
       "      <td>NaN</td>\n",
       "      <td>NaN</td>\n",
       "    </tr>\n",
       "    <tr>\n",
       "      <th>75%</th>\n",
       "      <td>0.820000</td>\n",
       "      <td>0.870000</td>\n",
       "      <td>5.000000</td>\n",
       "      <td>245.000000</td>\n",
       "      <td>4.000000</td>\n",
       "      <td>0.000000</td>\n",
       "      <td>0.000000</td>\n",
       "      <td>0.000000</td>\n",
       "      <td>NaN</td>\n",
       "      <td>NaN</td>\n",
       "    </tr>\n",
       "    <tr>\n",
       "      <th>max</th>\n",
       "      <td>1.000000</td>\n",
       "      <td>1.000000</td>\n",
       "      <td>7.000000</td>\n",
       "      <td>310.000000</td>\n",
       "      <td>10.000000</td>\n",
       "      <td>1.000000</td>\n",
       "      <td>1.000000</td>\n",
       "      <td>1.000000</td>\n",
       "      <td>NaN</td>\n",
       "      <td>NaN</td>\n",
       "    </tr>\n",
       "  </tbody>\n",
       "</table>\n",
       "</div>"
      ],
      "text/plain": [
       "        satisfaction_level  last_evaluation  number_project  \\\n",
       "count         14999.000000     14999.000000    14999.000000   \n",
       "unique                 NaN              NaN             NaN   \n",
       "top                    NaN              NaN             NaN   \n",
       "freq                   NaN              NaN             NaN   \n",
       "mean              0.612834         0.716102        3.803054   \n",
       "std               0.248631         0.171169        1.232592   \n",
       "min               0.090000         0.360000        2.000000   \n",
       "25%               0.440000         0.560000        3.000000   \n",
       "50%               0.640000         0.720000        4.000000   \n",
       "75%               0.820000         0.870000        5.000000   \n",
       "max               1.000000         1.000000        7.000000   \n",
       "\n",
       "        average_montly_hours  time_spend_company  Work_accident          left  \\\n",
       "count           14999.000000        14999.000000   14999.000000  14999.000000   \n",
       "unique                   NaN                 NaN            NaN           NaN   \n",
       "top                      NaN                 NaN            NaN           NaN   \n",
       "freq                     NaN                 NaN            NaN           NaN   \n",
       "mean              201.050337            3.498233       0.144610      0.238083   \n",
       "std                49.943099            1.460136       0.351719      0.425924   \n",
       "min                96.000000            2.000000       0.000000      0.000000   \n",
       "25%               156.000000            3.000000       0.000000      0.000000   \n",
       "50%               200.000000            3.000000       0.000000      0.000000   \n",
       "75%               245.000000            4.000000       0.000000      0.000000   \n",
       "max               310.000000           10.000000       1.000000      1.000000   \n",
       "\n",
       "        promotion_last_5years Department salary  \n",
       "count            14999.000000      14999  14999  \n",
       "unique                    NaN         10      3  \n",
       "top                       NaN      sales    low  \n",
       "freq                      NaN       4140   7316  \n",
       "mean                 0.021268        NaN    NaN  \n",
       "std                  0.144281        NaN    NaN  \n",
       "min                  0.000000        NaN    NaN  \n",
       "25%                  0.000000        NaN    NaN  \n",
       "50%                  0.000000        NaN    NaN  \n",
       "75%                  0.000000        NaN    NaN  \n",
       "max                  1.000000        NaN    NaN  "
      ]
     },
     "execution_count": 4,
     "metadata": {},
     "output_type": "execute_result"
    }
   ],
   "source": [
    "# Gather descriptive statistics about the data\n",
    "df0.describe(include='all')"
   ]
  },
  {
   "cell_type": "code",
   "execution_count": 5,
   "metadata": {
    "id": "kEn21u2bqrEI"
   },
   "outputs": [
    {
     "data": {
      "text/plain": [
       "Index(['satisfaction_level', 'last_evaluation', 'number_project',\n",
       "       'average_montly_hours', 'time_spend_company', 'Work_accident', 'left',\n",
       "       'promotion_last_5years', 'Department', 'salary'],\n",
       "      dtype='object')"
      ]
     },
     "execution_count": 5,
     "metadata": {},
     "output_type": "execute_result"
    }
   ],
   "source": [
    "# Display all column names\n",
    "df0.columns"
   ]
  },
  {
   "cell_type": "code",
   "execution_count": 6,
   "metadata": {
    "id": "npUQA8jMFJQD"
   },
   "outputs": [
    {
     "data": {
      "text/plain": [
       "Index(['satisfaction_level', 'last_evaluation', 'number_project',\n",
       "       'average_montly_hours', 'time_spend_company', 'work_accident', 'left',\n",
       "       'promotion_last_5years', 'department', 'salary'],\n",
       "      dtype='object')"
      ]
     },
     "execution_count": 6,
     "metadata": {},
     "output_type": "execute_result"
    }
   ],
   "source": [
    "# Rename columns as needed\n",
    "field_names = {'Department': 'department',\n",
    "               'Work_accident': 'work_accident'}\n",
    "\n",
    "# Display all column names after the update\n",
    "df0.rename(columns=field_names, inplace=True)\n",
    "df0.columns"
   ]
  },
  {
   "cell_type": "code",
   "execution_count": 7,
   "metadata": {
    "id": "EN9MvN0GByVV"
   },
   "outputs": [
    {
     "data": {
      "text/plain": [
       "0"
      ]
     },
     "execution_count": 7,
     "metadata": {},
     "output_type": "execute_result"
    }
   ],
   "source": [
    "# Check for missing values\n",
    "df0.isnull().any().sum()"
   ]
  },
  {
   "cell_type": "code",
   "execution_count": 8,
   "metadata": {
    "id": "CFFLc5AOZ7-x"
   },
   "outputs": [
    {
     "data": {
      "text/plain": [
       "3008"
      ]
     },
     "execution_count": 8,
     "metadata": {},
     "output_type": "execute_result"
    }
   ],
   "source": [
    "# Check for duplicates\n",
    "df0.duplicated(keep='first').sum()"
   ]
  },
  {
   "cell_type": "code",
   "execution_count": 9,
   "metadata": {
    "id": "ZHGlDbKAcBLM"
   },
   "outputs": [
    {
     "data": {
      "text/html": [
       "<div>\n",
       "<style scoped>\n",
       "    .dataframe tbody tr th:only-of-type {\n",
       "        vertical-align: middle;\n",
       "    }\n",
       "\n",
       "    .dataframe tbody tr th {\n",
       "        vertical-align: top;\n",
       "    }\n",
       "\n",
       "    .dataframe thead th {\n",
       "        text-align: right;\n",
       "    }\n",
       "</style>\n",
       "<table border=\"1\" class=\"dataframe\">\n",
       "  <thead>\n",
       "    <tr style=\"text-align: right;\">\n",
       "      <th></th>\n",
       "      <th>satisfaction_level</th>\n",
       "      <th>last_evaluation</th>\n",
       "      <th>number_project</th>\n",
       "      <th>average_montly_hours</th>\n",
       "      <th>time_spend_company</th>\n",
       "      <th>work_accident</th>\n",
       "      <th>left</th>\n",
       "      <th>promotion_last_5years</th>\n",
       "      <th>department</th>\n",
       "      <th>salary</th>\n",
       "    </tr>\n",
       "  </thead>\n",
       "  <tbody>\n",
       "    <tr>\n",
       "      <th>396</th>\n",
       "      <td>0.46</td>\n",
       "      <td>0.57</td>\n",
       "      <td>2</td>\n",
       "      <td>139</td>\n",
       "      <td>3</td>\n",
       "      <td>0</td>\n",
       "      <td>1</td>\n",
       "      <td>0</td>\n",
       "      <td>sales</td>\n",
       "      <td>low</td>\n",
       "    </tr>\n",
       "    <tr>\n",
       "      <th>866</th>\n",
       "      <td>0.41</td>\n",
       "      <td>0.46</td>\n",
       "      <td>2</td>\n",
       "      <td>128</td>\n",
       "      <td>3</td>\n",
       "      <td>0</td>\n",
       "      <td>1</td>\n",
       "      <td>0</td>\n",
       "      <td>accounting</td>\n",
       "      <td>low</td>\n",
       "    </tr>\n",
       "    <tr>\n",
       "      <th>1317</th>\n",
       "      <td>0.37</td>\n",
       "      <td>0.51</td>\n",
       "      <td>2</td>\n",
       "      <td>127</td>\n",
       "      <td>3</td>\n",
       "      <td>0</td>\n",
       "      <td>1</td>\n",
       "      <td>0</td>\n",
       "      <td>sales</td>\n",
       "      <td>medium</td>\n",
       "    </tr>\n",
       "    <tr>\n",
       "      <th>1368</th>\n",
       "      <td>0.41</td>\n",
       "      <td>0.52</td>\n",
       "      <td>2</td>\n",
       "      <td>132</td>\n",
       "      <td>3</td>\n",
       "      <td>0</td>\n",
       "      <td>1</td>\n",
       "      <td>0</td>\n",
       "      <td>RandD</td>\n",
       "      <td>low</td>\n",
       "    </tr>\n",
       "    <tr>\n",
       "      <th>1461</th>\n",
       "      <td>0.42</td>\n",
       "      <td>0.53</td>\n",
       "      <td>2</td>\n",
       "      <td>142</td>\n",
       "      <td>3</td>\n",
       "      <td>0</td>\n",
       "      <td>1</td>\n",
       "      <td>0</td>\n",
       "      <td>sales</td>\n",
       "      <td>low</td>\n",
       "    </tr>\n",
       "    <tr>\n",
       "      <th>1516</th>\n",
       "      <td>0.40</td>\n",
       "      <td>0.50</td>\n",
       "      <td>2</td>\n",
       "      <td>127</td>\n",
       "      <td>3</td>\n",
       "      <td>0</td>\n",
       "      <td>1</td>\n",
       "      <td>0</td>\n",
       "      <td>IT</td>\n",
       "      <td>low</td>\n",
       "    </tr>\n",
       "    <tr>\n",
       "      <th>1616</th>\n",
       "      <td>0.37</td>\n",
       "      <td>0.46</td>\n",
       "      <td>2</td>\n",
       "      <td>156</td>\n",
       "      <td>3</td>\n",
       "      <td>0</td>\n",
       "      <td>1</td>\n",
       "      <td>0</td>\n",
       "      <td>sales</td>\n",
       "      <td>low</td>\n",
       "    </tr>\n",
       "    <tr>\n",
       "      <th>1696</th>\n",
       "      <td>0.39</td>\n",
       "      <td>0.56</td>\n",
       "      <td>2</td>\n",
       "      <td>160</td>\n",
       "      <td>3</td>\n",
       "      <td>0</td>\n",
       "      <td>1</td>\n",
       "      <td>0</td>\n",
       "      <td>sales</td>\n",
       "      <td>low</td>\n",
       "    </tr>\n",
       "    <tr>\n",
       "      <th>1833</th>\n",
       "      <td>0.10</td>\n",
       "      <td>0.85</td>\n",
       "      <td>6</td>\n",
       "      <td>266</td>\n",
       "      <td>4</td>\n",
       "      <td>0</td>\n",
       "      <td>1</td>\n",
       "      <td>0</td>\n",
       "      <td>sales</td>\n",
       "      <td>low</td>\n",
       "    </tr>\n",
       "    <tr>\n",
       "      <th>12000</th>\n",
       "      <td>0.38</td>\n",
       "      <td>0.53</td>\n",
       "      <td>2</td>\n",
       "      <td>157</td>\n",
       "      <td>3</td>\n",
       "      <td>0</td>\n",
       "      <td>1</td>\n",
       "      <td>0</td>\n",
       "      <td>sales</td>\n",
       "      <td>low</td>\n",
       "    </tr>\n",
       "  </tbody>\n",
       "</table>\n",
       "</div>"
      ],
      "text/plain": [
       "       satisfaction_level  last_evaluation  number_project  \\\n",
       "396                  0.46             0.57               2   \n",
       "866                  0.41             0.46               2   \n",
       "1317                 0.37             0.51               2   \n",
       "1368                 0.41             0.52               2   \n",
       "1461                 0.42             0.53               2   \n",
       "1516                 0.40             0.50               2   \n",
       "1616                 0.37             0.46               2   \n",
       "1696                 0.39             0.56               2   \n",
       "1833                 0.10             0.85               6   \n",
       "12000                0.38             0.53               2   \n",
       "\n",
       "       average_montly_hours  time_spend_company  work_accident  left  \\\n",
       "396                     139                   3              0     1   \n",
       "866                     128                   3              0     1   \n",
       "1317                    127                   3              0     1   \n",
       "1368                    132                   3              0     1   \n",
       "1461                    142                   3              0     1   \n",
       "1516                    127                   3              0     1   \n",
       "1616                    156                   3              0     1   \n",
       "1696                    160                   3              0     1   \n",
       "1833                    266                   4              0     1   \n",
       "12000                   157                   3              0     1   \n",
       "\n",
       "       promotion_last_5years  department  salary  \n",
       "396                        0       sales     low  \n",
       "866                        0  accounting     low  \n",
       "1317                       0       sales  medium  \n",
       "1368                       0       RandD     low  \n",
       "1461                       0       sales     low  \n",
       "1516                       0          IT     low  \n",
       "1616                       0       sales     low  \n",
       "1696                       0       sales     low  \n",
       "1833                       0       sales     low  \n",
       "12000                      0       sales     low  "
      ]
     },
     "execution_count": 9,
     "metadata": {},
     "output_type": "execute_result"
    }
   ],
   "source": [
    "# Inspect some rows containing duplicates \n",
    "df0[df0.duplicated()].head(10)"
   ]
  },
  {
   "cell_type": "code",
   "execution_count": 10,
   "metadata": {
    "id": "wCr34Rppdjay"
   },
   "outputs": [
    {
     "data": {
      "text/html": [
       "<div>\n",
       "<style scoped>\n",
       "    .dataframe tbody tr th:only-of-type {\n",
       "        vertical-align: middle;\n",
       "    }\n",
       "\n",
       "    .dataframe tbody tr th {\n",
       "        vertical-align: top;\n",
       "    }\n",
       "\n",
       "    .dataframe thead th {\n",
       "        text-align: right;\n",
       "    }\n",
       "</style>\n",
       "<table border=\"1\" class=\"dataframe\">\n",
       "  <thead>\n",
       "    <tr style=\"text-align: right;\">\n",
       "      <th></th>\n",
       "      <th>satisfaction_level</th>\n",
       "      <th>last_evaluation</th>\n",
       "      <th>number_project</th>\n",
       "      <th>average_montly_hours</th>\n",
       "      <th>time_spend_company</th>\n",
       "      <th>work_accident</th>\n",
       "      <th>left</th>\n",
       "      <th>promotion_last_5years</th>\n",
       "      <th>department</th>\n",
       "      <th>salary</th>\n",
       "    </tr>\n",
       "  </thead>\n",
       "  <tbody>\n",
       "    <tr>\n",
       "      <th>0</th>\n",
       "      <td>0.38</td>\n",
       "      <td>0.53</td>\n",
       "      <td>2</td>\n",
       "      <td>157</td>\n",
       "      <td>3</td>\n",
       "      <td>0</td>\n",
       "      <td>1</td>\n",
       "      <td>0</td>\n",
       "      <td>sales</td>\n",
       "      <td>low</td>\n",
       "    </tr>\n",
       "    <tr>\n",
       "      <th>1</th>\n",
       "      <td>0.80</td>\n",
       "      <td>0.86</td>\n",
       "      <td>5</td>\n",
       "      <td>262</td>\n",
       "      <td>6</td>\n",
       "      <td>0</td>\n",
       "      <td>1</td>\n",
       "      <td>0</td>\n",
       "      <td>sales</td>\n",
       "      <td>medium</td>\n",
       "    </tr>\n",
       "    <tr>\n",
       "      <th>2</th>\n",
       "      <td>0.11</td>\n",
       "      <td>0.88</td>\n",
       "      <td>7</td>\n",
       "      <td>272</td>\n",
       "      <td>4</td>\n",
       "      <td>0</td>\n",
       "      <td>1</td>\n",
       "      <td>0</td>\n",
       "      <td>sales</td>\n",
       "      <td>medium</td>\n",
       "    </tr>\n",
       "    <tr>\n",
       "      <th>3</th>\n",
       "      <td>0.72</td>\n",
       "      <td>0.87</td>\n",
       "      <td>5</td>\n",
       "      <td>223</td>\n",
       "      <td>5</td>\n",
       "      <td>0</td>\n",
       "      <td>1</td>\n",
       "      <td>0</td>\n",
       "      <td>sales</td>\n",
       "      <td>low</td>\n",
       "    </tr>\n",
       "    <tr>\n",
       "      <th>4</th>\n",
       "      <td>0.37</td>\n",
       "      <td>0.52</td>\n",
       "      <td>2</td>\n",
       "      <td>159</td>\n",
       "      <td>3</td>\n",
       "      <td>0</td>\n",
       "      <td>1</td>\n",
       "      <td>0</td>\n",
       "      <td>sales</td>\n",
       "      <td>low</td>\n",
       "    </tr>\n",
       "  </tbody>\n",
       "</table>\n",
       "</div>"
      ],
      "text/plain": [
       "   satisfaction_level  last_evaluation  number_project  average_montly_hours  \\\n",
       "0                0.38             0.53               2                   157   \n",
       "1                0.80             0.86               5                   262   \n",
       "2                0.11             0.88               7                   272   \n",
       "3                0.72             0.87               5                   223   \n",
       "4                0.37             0.52               2                   159   \n",
       "\n",
       "   time_spend_company  work_accident  left  promotion_last_5years department  \\\n",
       "0                   3              0     1                      0      sales   \n",
       "1                   6              0     1                      0      sales   \n",
       "2                   4              0     1                      0      sales   \n",
       "3                   5              0     1                      0      sales   \n",
       "4                   3              0     1                      0      sales   \n",
       "\n",
       "   salary  \n",
       "0     low  \n",
       "1  medium  \n",
       "2  medium  \n",
       "3     low  \n",
       "4     low  "
      ]
     },
     "execution_count": 10,
     "metadata": {},
     "output_type": "execute_result"
    }
   ],
   "source": [
    "# Drop duplicates and save resulting dataframe in a new variable as needed\n",
    "df = df0.drop_duplicates()\n",
    "\n",
    "# Display first few rows of new dataframe as needed\n",
    "df.head()"
   ]
  },
  {
   "cell_type": "code",
   "execution_count": 11,
   "metadata": {},
   "outputs": [
    {
     "data": {
      "text/plain": [
       "array([0, 1])"
      ]
     },
     "execution_count": 11,
     "metadata": {},
     "output_type": "execute_result"
    }
   ],
   "source": [
    "df['promotion_last_5years'].unique()"
   ]
  },
  {
   "cell_type": "markdown",
   "metadata": {
    "id": "EaVx2fk8GC_m"
   },
   "source": [
    "Check for outliers in the data."
   ]
  },
  {
   "cell_type": "code",
   "execution_count": 12,
   "metadata": {
    "id": "ohctgiHyFykI"
   },
   "outputs": [
    {
     "name": "stdout",
     "output_type": "stream",
     "text": [
      "satisfaction_level has 0 outliers.\n",
      "last_evaluation has 0 outliers.\n",
      "number_project has 0 outliers.\n",
      "average_montly_hours has 0 outliers.\n",
      "time_spend_company has 824 outliers.\n",
      "work_accident has 1850 outliers.\n",
      "left has 1991 outliers.\n",
      "promotion_last_5years has 203 outliers.\n"
     ]
    }
   ],
   "source": [
    "# Determine the number of rows containing outliers\n",
    "def find_outliers(df):\n",
    "    \"\"\"\n",
    "    This function will return the number of outliers in the given dateframe\n",
    "    args: df, the dataframe\n",
    "    return: the dataframe of outliers\n",
    "    \"\"\"\n",
    "    \n",
    "    # find q1 and q3\n",
    "    q1 = df.quantile(0.25)\n",
    "    q3 = df.quantile(0.75)\n",
    "    \n",
    "    #IRQ\n",
    "    irq = q3 - q1\n",
    "    \n",
    "    #outliers\n",
    "    outliers = df[(df < q1-1.5*irq) | (df > q3+1.5*irq)]\n",
    "    return outliers\n",
    "\n",
    "for name in df.select_dtypes(exclude='object').columns:\n",
    "    num_outliers = len(find_outliers(df[name]))\n",
    "    print(\"{0} has {1} outliers.\".format(name, num_outliers))\n",
    "    #print(num_outliers)\n"
   ]
  },
  {
   "cell_type": "markdown",
   "metadata": {},
   "source": [
    "The value for work_accident, left and promotion_last_5years are either 0 or 1. Therefore, time_spend_company is likely to have outliers. However, the number of year(s) that employees stays with the company are different and the maximum value of time_spend_company is 10. We do not have informaion when the company is founded, so just keep outliers in this column at the moment."
   ]
  },
  {
   "cell_type": "code",
   "execution_count": 13,
   "metadata": {
    "id": "pilaGYgh4LHM"
   },
   "outputs": [
    {
     "data": {
      "image/png": "[encoded data removed]",
      "text/plain": [
       "<Figure size 720x360 with 1 Axes>"
      ]
     },
     "metadata": {
      "needs_background": "light"
     },
     "output_type": "display_data"
    }
   ],
   "source": [
    "# Create a boxplot to visualize distribution of `time_spend_company` and detect any outliers\n",
    "### YOUR CODE HERE ###\n",
    "plt.figure(figsize=(10,5))\n",
    "sns.boxplot(data= df['time_spend_company'])\n",
    "plt.xlabel('Time works for the company')\n",
    "plt.title('Boxplot of employees\\'s working time length')\n",
    "plt.show()"
   ]
  },
  {
   "cell_type": "markdown",
   "metadata": {
    "id": "Gmk6oBT3jgbA"
   },
   "source": [
    "💭\n",
    "### Reflect on these questions as you complete the analyze stage.\n",
    "\n",
    "- What did you observe about the relationships between variables?\n",
    "- What do you observe about the distributions in the data?\n",
    "- What transformations did you make with your data? Why did you chose to make those decisions?\n",
    "- What are some purposes of EDA before constructing a predictive model?\n",
    "- What resources do you find yourself using as you complete this stage? (Make sure to include the links.)\n",
    "- Do you have any ethical considerations in this stage?\n",
    "\n",
    "\n"
   ]
  },
  {
   "cell_type": "markdown",
   "metadata": {
    "id": "mbosyCrJCWcd"
   },
   "source": [
    "- Around 17% employees left the company. Most left employees has low and medium salary and lack of promotion. Sales department has the highest left employees, followed by tehcnical and support.Satisfaction levels concentrated around 0, 0.4, and 0.8, while last evaluations centered on 0.5 and 0.9. Work accidents are rare and peaked in the third year with two peaks monthly average working hours (150 and 200).The majority who left contributed to 2 projects,  followed by 6 and 5 projects.\n",
    "\n",
    "- I convert the department and salary from sting into binary values since the planning constructed models cannot understand non-numerical values.\n",
    "\n",
    "- EDA allows to discover insights by summarizing the characteristics among data through analysis and visualization based on the objective of the project. Additionally, it helps test hypotheses and identifies outliers and important features.\n",
    "\n",
    "- At this stage, applying seaborn and matplotlib for visualization purposes and pandas for feature transformation by converting categorical features into numerical values.\n",
    "\n",
    "- There is not any ethical consideration at this stage."
   ]
  },
  {
   "cell_type": "markdown",
   "metadata": {
    "id": "KDcWrk57kao2"
   },
   "source": [
    "## Step 2. Data Exploration (Continue EDA)"
   ]
  },
  {
   "cell_type": "markdown",
   "metadata": {
    "id": "DmVMzXPSuYk1"
   },
   "source": [
    "### Data visualizations"
   ]
  },
  {
   "cell_type": "code",
   "execution_count": 14,
   "metadata": {},
   "outputs": [
    {
     "data": {
      "text/plain": [
       "0    0.833959\n",
       "1    0.166041\n",
       "Name: left, dtype: float64"
      ]
     },
     "execution_count": 14,
     "metadata": {},
     "output_type": "execute_result"
    }
   ],
   "source": [
    "#portion of left\n",
    "df['left'].value_counts(normalize=True)"
   ]
  },
  {
   "cell_type": "markdown",
   "metadata": {
    "id": "_hw4qkZzBr-W"
   },
   "source": [
    "Now, start examining the variables that you're interested in, and create plots to visualize relationships between variables in the data."
   ]
  },
  {
   "cell_type": "code",
   "execution_count": 15,
   "metadata": {
    "id": "Qf0VbjX8-DBQ"
   },
   "outputs": [
    {
     "data": {
      "image/png": "[encoded data removed]",
      "text/plain": [
       "<Figure size 762.375x360 with 2 Axes>"
      ]
     },
     "metadata": {
      "needs_background": "light"
     },
     "output_type": "display_data"
    }
   ],
   "source": [
    "# salary vs left\n",
    "fig = sns.catplot(\n",
    "    data = df,\n",
    "    x = 'salary',\n",
    "    hue = 'left',\n",
    "    kind = 'count',\n",
    "    col = 'promotion_last_5years'\n",
    ")\n",
    "\n",
    "# Add value labels to the bars\n",
    "for ax in fig.axes.flat:\n",
    "    for p in ax.patches:\n",
    "        ax.annotate(f'{p.get_height()}', \n",
    "                    (p.get_x() + p.get_width() / 2., p.get_height()), \n",
    "                    ha='center')\n",
    "\n",
    "# add labels\n",
    "plt.show()"
   ]
  },
  {
   "cell_type": "code",
   "execution_count": 16,
   "metadata": {
    "id": "F8HlhjMy9X3A"
   },
   "outputs": [
    {
     "data": {
      "image/png": "[encoded data removed]",
      "text/plain": [
       "<Figure size 432x288 with 1 Axes>"
      ]
     },
     "metadata": {
      "needs_background": "light"
     },
     "output_type": "display_data"
    }
   ],
   "source": [
    "# which departments left the most\n",
    "\n",
    "# data for left = 1\n",
    "df_left = df[df['left'] == 1]\n",
    "\n",
    "#department counts \n",
    "depart_counts = df_left['department'].value_counts(ascending=False)\n",
    "sns.countplot(\n",
    "    data = df_left,\n",
    "    x = 'department',\n",
    "    order = depart_counts.index\n",
    ")\n",
    "plt.xticks(rotation = 45)\n",
    "plt.title(\"Different department employee left status\")\n",
    "plt.show()"
   ]
  },
  {
   "cell_type": "code",
   "execution_count": 17,
   "metadata": {
    "id": "3v1uJR5y3MEy"
   },
   "outputs": [
    {
     "data": {
      "image/png": "[encoded data removed]",
      "text/plain": [
       "<Figure size 402.375x360 with 1 Axes>"
      ]
     },
     "metadata": {
      "needs_background": "light"
     },
     "output_type": "display_data"
    },
    {
     "data": {
      "image/png": "[encoded data removed]",
      "text/plain": [
       "<Figure size 402.375x360 with 1 Axes>"
      ]
     },
     "metadata": {
      "needs_background": "light"
     },
     "output_type": "display_data"
    }
   ],
   "source": [
    "# what is the distribution of satisfaction_level\n",
    "sns.displot(\n",
    "    data = df,\n",
    "    hue = 'left',\n",
    "    x = 'satisfaction_level',\n",
    "    multiple=\"stack\"\n",
    ")\n",
    "plt.title(\"Satisfaction level distribution\")\n",
    "\n",
    "\n",
    "\n",
    "# what is the distribution of last_evaluation\n",
    "sns.displot(\n",
    "    data = df,\n",
    "    hue = 'left',\n",
    "    x = 'last_evaluation',\n",
    "    multiple = 'stack'\n",
    ")\n",
    "plt.title(\"Last work evaluation distribution\")\n",
    "plt.show()"
   ]
  },
  {
   "cell_type": "code",
   "execution_count": 18,
   "metadata": {
    "id": "lfo96dwwruZd"
   },
   "outputs": [
    {
     "data": {
      "image/png": "[encoded data removed]",
      "text/plain": [
       "<Figure size 720x360 with 2 Axes>"
      ]
     },
     "metadata": {
      "needs_background": "light"
     },
     "output_type": "display_data"
    }
   ],
   "source": [
    "# time_spend_company with work accident\n",
    "fig1= sns.catplot(\n",
    "    data = df_left,\n",
    "    x = 'time_spend_company',\n",
    "    kind = 'count',\n",
    "    col = 'work_accident'\n",
    "\n",
    ")\n",
    "\n",
    "for ax in fig1.axes.flat:\n",
    "    for p in ax.patches:\n",
    "        ax.annotate(f'{p.get_height()}', \n",
    "                    (p.get_x() + p.get_width() / 2., p.get_height()), \n",
    "                    ha='center')\n",
    "plt.show()"
   ]
  },
  {
   "cell_type": "code",
   "execution_count": 19,
   "metadata": {},
   "outputs": [
    {
     "data": {
      "image/png": "[encoded data removed]",
      "text/plain": [
       "<Figure size 720x360 with 2 Axes>"
      ]
     },
     "metadata": {
      "needs_background": "light"
     },
     "output_type": "display_data"
    }
   ],
   "source": [
    "#create subplots\n",
    "fig3, ax = plt.subplots(1, 2, figsize=(10,5))\n",
    "\n",
    "#plot average_montly_hours distribution\n",
    "sns.histplot(\n",
    "    data = df_left,\n",
    "    x = 'average_montly_hours',\n",
    "    kde = True,\n",
    "    ax = ax[0]\n",
    ")\n",
    "#set title\n",
    "ax[0].set_title(\"Left employeees' average monthly hour distribution \")\n",
    "\n",
    "#plot number of project distribution\n",
    "sns.histplot(\n",
    "    data = df_left,\n",
    "    x = 'number_project',\n",
    "    kde = True,\n",
    "    ax = ax[1]\n",
    ")\n",
    "\n",
    "# show values in \n",
    "for p in ax[1].patches:\n",
    "    ax[1].annotate(f'{int(p.get_height())}', \n",
    "                   (p.get_x() + p.get_width() / 2., p.get_height()-2), \n",
    "                   ha='center')\n",
    "\n",
    "#set title\n",
    "ax[1].set_title(\"Left employeees' number of projects distribution\")\n",
    "\n",
    "#pad plot and show plots\n",
    "#plt.tight_layout(pad = 2, h_pad = 2)\n",
    "plt.show()"
   ]
  },
  {
   "cell_type": "code",
   "execution_count": 20,
   "metadata": {},
   "outputs": [
    {
     "data": {
      "image/png": "[encoded data removed]",
      "text/plain": [
       "<Figure size 432x288 with 1 Axes>"
      ]
     },
     "metadata": {
      "needs_background": "light"
     },
     "output_type": "display_data"
    }
   ],
   "source": [
    "#plot scatter plot between average monthly hours and satisfaction level\n",
    "sns.scatterplot(\n",
    "    data = df_left,\n",
    "    x = 'average_montly_hours',\n",
    "    y = 'satisfaction_level'\n",
    ")\n",
    "plt.title(\"Monthly average working hours vs satisfaction level\")\n",
    "plt.show()"
   ]
  },
  {
   "cell_type": "code",
   "execution_count": 21,
   "metadata": {},
   "outputs": [
    {
     "data": {
      "text/plain": [
       "<matplotlib.axes._subplots.AxesSubplot at 0x7f4ce14ab710>"
      ]
     },
     "execution_count": 21,
     "metadata": {},
     "output_type": "execute_result"
    },
    {
     "data": {
      "image/png": "[encoded data removed]",
      "text/plain": [
       "<Figure size 1080x648 with 2 Axes>"
      ]
     },
     "metadata": {
      "needs_background": "light"
     },
     "output_type": "display_data"
    }
   ],
   "source": [
    "#get mask of lower tri\n",
    "corr = df.corr()\n",
    "mask = np.triu(corr)\n",
    "\n",
    "#create heatmap\n",
    "plt.figure(figsize=(15,9))\n",
    "sns.heatmap(corr, mask= mask, annot=True, fmt='.2f')"
   ]
  },
  {
   "cell_type": "markdown",
   "metadata": {},
   "source": [
    "The heatmap shows for left employees, last_evaluation, number_project, average_month_ours and time_spend_company have positive  correlation, whereas satisfaction_level and work_accident have negative correlation"
   ]
  },
  {
   "cell_type": "code",
   "execution_count": 22,
   "metadata": {},
   "outputs": [
    {
     "name": "stdout",
     "output_type": "stream",
     "text": [
      "The portion of working over time for left employees 56.50%\n",
      "The portion of working over time for current employees 75.71%\n"
     ]
    }
   ],
   "source": [
    "# the ratio of left employees working over time > 160\n",
    "print('The portion of working over time for left employees {:.2f}%'.format(\n",
    "    100* df_left[df_left['average_montly_hours'] > 160].shape[0]/df_left.shape[0]))\n",
    "\n",
    "\n",
    "# the ratio of current employees working over time > 160\n",
    "\n",
    "# current employees work over time\n",
    "mask = (df['left'] == 0) & (df['average_montly_hours'] > 160)\n",
    "print('The portion of working over time for current employees {:.2f}%'.format(\n",
    "    100* df[mask].shape[0]/df[df['left'] == 0].shape[0]))"
   ]
  },
  {
   "cell_type": "markdown",
   "metadata": {
    "id": "DeTmNVlAANLd"
   },
   "source": [
    "##### Insights"
   ]
  },
  {
   "cell_type": "markdown",
   "metadata": {
    "id": "sQT8YqymD-yL"
   },
   "source": [
    "Based on the 'left' feature, approximately 17% of employees have left the company. \n",
    "\n",
    "From a salary perspective, the majority of employees who left the company did not receive a promotion in the last 5 years. Most of these employees belong to the low and medium salary categories. There is a noticeable trend where the number of employees who left the company decreases as salary increases. Surprisingly, even among the employees who received a promotion in the last 5 years, the number of those who left the company is significantly small.\n",
    "\n",
    "The top three departments with the highest frequency of left employees are sales, technical, and support. Particularly in the sales department, the number of employees who left is more than 500, which is approximately 25% and 50% higher compared to the technical and support departments, respectively.\n",
    "\n",
    "For employees who left the company, their satisfaction levels are mainly concentrated around 0, 0.4, and 0.8 on a scale of 0 to 1. However, their last evaluation scores are primarily distributed around 0.5 and 0.9 on the same scale.\n",
    "\n",
    "Considering work performance, the number of employees who left without work accidents (1886) is significantly higher than those with work accidents (105). Interestingly, there is a noticeable pattern in the length of employment with the company for both situations.\n",
    "\n",
    "The data shows that no employees left in the first year, and the second year has the lowest number of employees leaving. However, there is a critical increase and reaches the peak in the third year. Following by a sharp decrease in the fourth year, which is around 50% lower than the previous year. The attrition rate levels out around the fifth year but experiences another sharp decrease in the sixth year. \n",
    "\n",
    "Additionally, there are two prominent peaks in average monthly working hours, occurring at around 150 and 250 hours. The proportion of employees working overtime (160 hours per month) is approximately 56.5% for those who left the company and 75.71% for current employees. In terms of the number of project contributions, the highest number of employees who left the company contributed to 2 projects with more than 800 people. Following by employees who contributed to 6 and 5 projects, which accounts for 371 and 343 people, respectively.\n",
    "\n",
    "To sum up, around 17% employees left the company. Most left employees has low and medium salary and lack of promotion. Sales department has the highest attrition, followed by tehcnical and support.Satisfaction levels concentrated around 0, 0.4, and 0.8, while last evaluations centered on 0.5 and 0.9. Work accidents are rare and it peaked in the third year with two peaks of monthly average working hours (150 and 200).The majority who left contributed to 2 projects, followed by 6 and 5 projects."
   ]
  },
  {
   "cell_type": "code",
   "execution_count": 23,
   "metadata": {},
   "outputs": [
    {
     "data": {
      "text/html": [
       "<div>\n",
       "<style scoped>\n",
       "    .dataframe tbody tr th:only-of-type {\n",
       "        vertical-align: middle;\n",
       "    }\n",
       "\n",
       "    .dataframe tbody tr th {\n",
       "        vertical-align: top;\n",
       "    }\n",
       "\n",
       "    .dataframe thead th {\n",
       "        text-align: right;\n",
       "    }\n",
       "</style>\n",
       "<table border=\"1\" class=\"dataframe\">\n",
       "  <thead>\n",
       "    <tr style=\"text-align: right;\">\n",
       "      <th></th>\n",
       "      <th>satisfaction_level</th>\n",
       "      <th>last_evaluation</th>\n",
       "      <th>number_project</th>\n",
       "      <th>average_montly_hours</th>\n",
       "      <th>time_spend_company</th>\n",
       "      <th>work_accident</th>\n",
       "      <th>left</th>\n",
       "      <th>promotion_last_5years</th>\n",
       "      <th>department_IT</th>\n",
       "      <th>department_RandD</th>\n",
       "      <th>...</th>\n",
       "      <th>department_hr</th>\n",
       "      <th>department_management</th>\n",
       "      <th>department_marketing</th>\n",
       "      <th>department_product_mng</th>\n",
       "      <th>department_sales</th>\n",
       "      <th>department_support</th>\n",
       "      <th>department_technical</th>\n",
       "      <th>salary_high</th>\n",
       "      <th>salary_low</th>\n",
       "      <th>salary_medium</th>\n",
       "    </tr>\n",
       "  </thead>\n",
       "  <tbody>\n",
       "    <tr>\n",
       "      <th>0</th>\n",
       "      <td>0.38</td>\n",
       "      <td>0.53</td>\n",
       "      <td>2</td>\n",
       "      <td>157</td>\n",
       "      <td>3</td>\n",
       "      <td>0</td>\n",
       "      <td>1</td>\n",
       "      <td>0</td>\n",
       "      <td>0</td>\n",
       "      <td>0</td>\n",
       "      <td>...</td>\n",
       "      <td>0</td>\n",
       "      <td>0</td>\n",
       "      <td>0</td>\n",
       "      <td>0</td>\n",
       "      <td>1</td>\n",
       "      <td>0</td>\n",
       "      <td>0</td>\n",
       "      <td>0</td>\n",
       "      <td>1</td>\n",
       "      <td>0</td>\n",
       "    </tr>\n",
       "    <tr>\n",
       "      <th>1</th>\n",
       "      <td>0.80</td>\n",
       "      <td>0.86</td>\n",
       "      <td>5</td>\n",
       "      <td>262</td>\n",
       "      <td>6</td>\n",
       "      <td>0</td>\n",
       "      <td>1</td>\n",
       "      <td>0</td>\n",
       "      <td>0</td>\n",
       "      <td>0</td>\n",
       "      <td>...</td>\n",
       "      <td>0</td>\n",
       "      <td>0</td>\n",
       "      <td>0</td>\n",
       "      <td>0</td>\n",
       "      <td>1</td>\n",
       "      <td>0</td>\n",
       "      <td>0</td>\n",
       "      <td>0</td>\n",
       "      <td>0</td>\n",
       "      <td>1</td>\n",
       "    </tr>\n",
       "    <tr>\n",
       "      <th>2</th>\n",
       "      <td>0.11</td>\n",
       "      <td>0.88</td>\n",
       "      <td>7</td>\n",
       "      <td>272</td>\n",
       "      <td>4</td>\n",
       "      <td>0</td>\n",
       "      <td>1</td>\n",
       "      <td>0</td>\n",
       "      <td>0</td>\n",
       "      <td>0</td>\n",
       "      <td>...</td>\n",
       "      <td>0</td>\n",
       "      <td>0</td>\n",
       "      <td>0</td>\n",
       "      <td>0</td>\n",
       "      <td>1</td>\n",
       "      <td>0</td>\n",
       "      <td>0</td>\n",
       "      <td>0</td>\n",
       "      <td>0</td>\n",
       "      <td>1</td>\n",
       "    </tr>\n",
       "    <tr>\n",
       "      <th>3</th>\n",
       "      <td>0.72</td>\n",
       "      <td>0.87</td>\n",
       "      <td>5</td>\n",
       "      <td>223</td>\n",
       "      <td>5</td>\n",
       "      <td>0</td>\n",
       "      <td>1</td>\n",
       "      <td>0</td>\n",
       "      <td>0</td>\n",
       "      <td>0</td>\n",
       "      <td>...</td>\n",
       "      <td>0</td>\n",
       "      <td>0</td>\n",
       "      <td>0</td>\n",
       "      <td>0</td>\n",
       "      <td>1</td>\n",
       "      <td>0</td>\n",
       "      <td>0</td>\n",
       "      <td>0</td>\n",
       "      <td>1</td>\n",
       "      <td>0</td>\n",
       "    </tr>\n",
       "    <tr>\n",
       "      <th>4</th>\n",
       "      <td>0.37</td>\n",
       "      <td>0.52</td>\n",
       "      <td>2</td>\n",
       "      <td>159</td>\n",
       "      <td>3</td>\n",
       "      <td>0</td>\n",
       "      <td>1</td>\n",
       "      <td>0</td>\n",
       "      <td>0</td>\n",
       "      <td>0</td>\n",
       "      <td>...</td>\n",
       "      <td>0</td>\n",
       "      <td>0</td>\n",
       "      <td>0</td>\n",
       "      <td>0</td>\n",
       "      <td>1</td>\n",
       "      <td>0</td>\n",
       "      <td>0</td>\n",
       "      <td>0</td>\n",
       "      <td>1</td>\n",
       "      <td>0</td>\n",
       "    </tr>\n",
       "  </tbody>\n",
       "</table>\n",
       "<p>5 rows × 21 columns</p>\n",
       "</div>"
      ],
      "text/plain": [
       "   satisfaction_level  last_evaluation  number_project  average_montly_hours  \\\n",
       "0                0.38             0.53               2                   157   \n",
       "1                0.80             0.86               5                   262   \n",
       "2                0.11             0.88               7                   272   \n",
       "3                0.72             0.87               5                   223   \n",
       "4                0.37             0.52               2                   159   \n",
       "\n",
       "   time_spend_company  work_accident  left  promotion_last_5years  \\\n",
       "0                   3              0     1                      0   \n",
       "1                   6              0     1                      0   \n",
       "2                   4              0     1                      0   \n",
       "3                   5              0     1                      0   \n",
       "4                   3              0     1                      0   \n",
       "\n",
       "   department_IT  department_RandD  ...  department_hr  department_management  \\\n",
       "0              0                 0  ...              0                      0   \n",
       "1              0                 0  ...              0                      0   \n",
       "2              0                 0  ...              0                      0   \n",
       "3              0                 0  ...              0                      0   \n",
       "4              0                 0  ...              0                      0   \n",
       "\n",
       "   department_marketing  department_product_mng  department_sales  \\\n",
       "0                     0                       0                 1   \n",
       "1                     0                       0                 1   \n",
       "2                     0                       0                 1   \n",
       "3                     0                       0                 1   \n",
       "4                     0                       0                 1   \n",
       "\n",
       "   department_support  department_technical  salary_high  salary_low  \\\n",
       "0                   0                     0            0           1   \n",
       "1                   0                     0            0           0   \n",
       "2                   0                     0            0           0   \n",
       "3                   0                     0            0           1   \n",
       "4                   0                     0            0           1   \n",
       "\n",
       "   salary_medium  \n",
       "0              0  \n",
       "1              1  \n",
       "2              1  \n",
       "3              0  \n",
       "4              0  \n",
       "\n",
       "[5 rows x 21 columns]"
      ]
     },
     "execution_count": 23,
     "metadata": {},
     "output_type": "execute_result"
    }
   ],
   "source": [
    "## converting the catrgocial values into binary \n",
    "df_final = pd.get_dummies(df, columns=['department','salary'])\n",
    "df_final.head()"
   ]
  },
  {
   "cell_type": "markdown",
   "metadata": {
    "id": "F3v7IVv2_ai5"
   },
   "source": [
    "💭\n",
    "### Reflect on these questions as you complete the constructing stage.\n",
    "\n",
    "- Do you notice anything odd?\n",
    "- Which independent variables did you choose for the model and why?\n",
    "- Are each of the assumptions met?\n",
    "- How well does your model fit the data?\n",
    "- Can you improve it? Is there anything you would change about the model?\n",
    "- What resources do you find yourself using as you complete this stage? (Make sure to include the links.)\n",
    "- Do you have any ethical considerations in this stage?\n",
    "\n"
   ]
  },
  {
   "cell_type": "markdown",
   "metadata": {
    "id": "moS7voiMOW67"
   },
   "source": [
    "- There are no significant changes in the recall, F1 score before and after tuning hyperparameters on three models on testing sets. \n",
    "- Since the dataset is not very large, all the data is used for training models. There are 10 different values in departments, and the variation of left employees should be evaluated differently.\n",
    "- Based on the content of the project, each observation is independent, which met the model assumption.\n",
    "- Three models have great performance on testing sets, which achieve at least 0.97 accuracy, 0.92 recall, and 0.91 F1 score after tuning models.\n",
    "- Additional information on last_evaluation and satisfaction_level would be more helpful to identify key factors that impact left employees from different departments.\n",
    "- Relevant API on sklearn functions and models.\n",
    "- There are no ethical considerations at this stage."
   ]
  },
  {
   "cell_type": "markdown",
   "metadata": {
    "id": "QxCXjdpSaB8A"
   },
   "source": [
    "### Identify the type of prediction task."
   ]
  },
  {
   "cell_type": "markdown",
   "metadata": {
    "id": "YcCoHhnKcEov"
   },
   "source": [
    "This is a classfication problem since the purpose of this project is determining employee left the company or not and then find out features that cause left the company."
   ]
  },
  {
   "cell_type": "markdown",
   "metadata": {
    "id": "yeUlo3W0ais-"
   },
   "source": [
    "### Identify the types of models most appropriate for this task."
   ]
  },
  {
   "cell_type": "markdown",
   "metadata": {
    "id": "A0Mo6f9tOchC"
   },
   "source": [
    "Possible models: \n",
    "- Randomforest\n",
    "- XGboosting\n",
    "- Decision tree"
   ]
  },
  {
   "cell_type": "markdown",
   "metadata": {
    "id": "OrW2oXy4OfD1"
   },
   "source": [
    "### Modeling"
   ]
  },
  {
   "cell_type": "code",
   "execution_count": 24,
   "metadata": {
    "id": "UePZZyi_Okdz"
   },
   "outputs": [
    {
     "data": {
      "text/html": [
       "<div>\n",
       "<style scoped>\n",
       "    .dataframe tbody tr th:only-of-type {\n",
       "        vertical-align: middle;\n",
       "    }\n",
       "\n",
       "    .dataframe tbody tr th {\n",
       "        vertical-align: top;\n",
       "    }\n",
       "\n",
       "    .dataframe thead th {\n",
       "        text-align: right;\n",
       "    }\n",
       "</style>\n",
       "<table border=\"1\" class=\"dataframe\">\n",
       "  <thead>\n",
       "    <tr style=\"text-align: right;\">\n",
       "      <th></th>\n",
       "      <th>satisfaction_level</th>\n",
       "      <th>last_evaluation</th>\n",
       "      <th>number_project</th>\n",
       "      <th>average_montly_hours</th>\n",
       "      <th>time_spend_company</th>\n",
       "      <th>work_accident</th>\n",
       "      <th>left</th>\n",
       "      <th>promotion_last_5years</th>\n",
       "      <th>department_IT</th>\n",
       "      <th>department_RandD</th>\n",
       "      <th>...</th>\n",
       "      <th>department_hr</th>\n",
       "      <th>department_management</th>\n",
       "      <th>department_marketing</th>\n",
       "      <th>department_product_mng</th>\n",
       "      <th>department_sales</th>\n",
       "      <th>department_support</th>\n",
       "      <th>department_technical</th>\n",
       "      <th>salary_high</th>\n",
       "      <th>salary_low</th>\n",
       "      <th>salary_medium</th>\n",
       "    </tr>\n",
       "  </thead>\n",
       "  <tbody>\n",
       "    <tr>\n",
       "      <th>0</th>\n",
       "      <td>0.38</td>\n",
       "      <td>0.53</td>\n",
       "      <td>0.0</td>\n",
       "      <td>0.285047</td>\n",
       "      <td>0.125</td>\n",
       "      <td>0</td>\n",
       "      <td>1</td>\n",
       "      <td>0</td>\n",
       "      <td>0</td>\n",
       "      <td>0</td>\n",
       "      <td>...</td>\n",
       "      <td>0</td>\n",
       "      <td>0</td>\n",
       "      <td>0</td>\n",
       "      <td>0</td>\n",
       "      <td>1</td>\n",
       "      <td>0</td>\n",
       "      <td>0</td>\n",
       "      <td>0</td>\n",
       "      <td>1</td>\n",
       "      <td>0</td>\n",
       "    </tr>\n",
       "    <tr>\n",
       "      <th>1</th>\n",
       "      <td>0.80</td>\n",
       "      <td>0.86</td>\n",
       "      <td>0.6</td>\n",
       "      <td>0.775701</td>\n",
       "      <td>0.500</td>\n",
       "      <td>0</td>\n",
       "      <td>1</td>\n",
       "      <td>0</td>\n",
       "      <td>0</td>\n",
       "      <td>0</td>\n",
       "      <td>...</td>\n",
       "      <td>0</td>\n",
       "      <td>0</td>\n",
       "      <td>0</td>\n",
       "      <td>0</td>\n",
       "      <td>1</td>\n",
       "      <td>0</td>\n",
       "      <td>0</td>\n",
       "      <td>0</td>\n",
       "      <td>0</td>\n",
       "      <td>1</td>\n",
       "    </tr>\n",
       "    <tr>\n",
       "      <th>2</th>\n",
       "      <td>0.11</td>\n",
       "      <td>0.88</td>\n",
       "      <td>1.0</td>\n",
       "      <td>0.822430</td>\n",
       "      <td>0.250</td>\n",
       "      <td>0</td>\n",
       "      <td>1</td>\n",
       "      <td>0</td>\n",
       "      <td>0</td>\n",
       "      <td>0</td>\n",
       "      <td>...</td>\n",
       "      <td>0</td>\n",
       "      <td>0</td>\n",
       "      <td>0</td>\n",
       "      <td>0</td>\n",
       "      <td>1</td>\n",
       "      <td>0</td>\n",
       "      <td>0</td>\n",
       "      <td>0</td>\n",
       "      <td>0</td>\n",
       "      <td>1</td>\n",
       "    </tr>\n",
       "    <tr>\n",
       "      <th>3</th>\n",
       "      <td>0.72</td>\n",
       "      <td>0.87</td>\n",
       "      <td>0.6</td>\n",
       "      <td>0.593458</td>\n",
       "      <td>0.375</td>\n",
       "      <td>0</td>\n",
       "      <td>1</td>\n",
       "      <td>0</td>\n",
       "      <td>0</td>\n",
       "      <td>0</td>\n",
       "      <td>...</td>\n",
       "      <td>0</td>\n",
       "      <td>0</td>\n",
       "      <td>0</td>\n",
       "      <td>0</td>\n",
       "      <td>1</td>\n",
       "      <td>0</td>\n",
       "      <td>0</td>\n",
       "      <td>0</td>\n",
       "      <td>1</td>\n",
       "      <td>0</td>\n",
       "    </tr>\n",
       "    <tr>\n",
       "      <th>4</th>\n",
       "      <td>0.37</td>\n",
       "      <td>0.52</td>\n",
       "      <td>0.0</td>\n",
       "      <td>0.294393</td>\n",
       "      <td>0.125</td>\n",
       "      <td>0</td>\n",
       "      <td>1</td>\n",
       "      <td>0</td>\n",
       "      <td>0</td>\n",
       "      <td>0</td>\n",
       "      <td>...</td>\n",
       "      <td>0</td>\n",
       "      <td>0</td>\n",
       "      <td>0</td>\n",
       "      <td>0</td>\n",
       "      <td>1</td>\n",
       "      <td>0</td>\n",
       "      <td>0</td>\n",
       "      <td>0</td>\n",
       "      <td>1</td>\n",
       "      <td>0</td>\n",
       "    </tr>\n",
       "  </tbody>\n",
       "</table>\n",
       "<p>5 rows × 21 columns</p>\n",
       "</div>"
      ],
      "text/plain": [
       "   satisfaction_level  last_evaluation  number_project  average_montly_hours  \\\n",
       "0                0.38             0.53             0.0              0.285047   \n",
       "1                0.80             0.86             0.6              0.775701   \n",
       "2                0.11             0.88             1.0              0.822430   \n",
       "3                0.72             0.87             0.6              0.593458   \n",
       "4                0.37             0.52             0.0              0.294393   \n",
       "\n",
       "   time_spend_company  work_accident  left  promotion_last_5years  \\\n",
       "0               0.125              0     1                      0   \n",
       "1               0.500              0     1                      0   \n",
       "2               0.250              0     1                      0   \n",
       "3               0.375              0     1                      0   \n",
       "4               0.125              0     1                      0   \n",
       "\n",
       "   department_IT  department_RandD  ...  department_hr  department_management  \\\n",
       "0              0                 0  ...              0                      0   \n",
       "1              0                 0  ...              0                      0   \n",
       "2              0                 0  ...              0                      0   \n",
       "3              0                 0  ...              0                      0   \n",
       "4              0                 0  ...              0                      0   \n",
       "\n",
       "   department_marketing  department_product_mng  department_sales  \\\n",
       "0                     0                       0                 1   \n",
       "1                     0                       0                 1   \n",
       "2                     0                       0                 1   \n",
       "3                     0                       0                 1   \n",
       "4                     0                       0                 1   \n",
       "\n",
       "   department_support  department_technical  salary_high  salary_low  \\\n",
       "0                   0                     0            0           1   \n",
       "1                   0                     0            0           0   \n",
       "2                   0                     0            0           0   \n",
       "3                   0                     0            0           1   \n",
       "4                   0                     0            0           1   \n",
       "\n",
       "   salary_medium  \n",
       "0              0  \n",
       "1              1  \n",
       "2              1  \n",
       "3              0  \n",
       "4              0  \n",
       "\n",
       "[5 rows x 21 columns]"
      ]
     },
     "execution_count": 24,
     "metadata": {},
     "output_type": "execute_result"
    }
   ],
   "source": [
    "#normalized the value on number_project average_montly_hours time_spend_company between 0 and 1\n",
    "df_final[['number_project', 'average_montly_hours', 'time_spend_company']] = MinMaxScaler().fit_transform(df_final[['number_project', 'average_montly_hours', 'time_spend_company']])\n",
    "\n",
    "df_final.head()"
   ]
  },
  {
   "cell_type": "code",
   "execution_count": 25,
   "metadata": {},
   "outputs": [],
   "source": [
    "#create X and y\n",
    "y = df_final['left']\n",
    "X = df_final.drop(columns='left')\n",
    "\n",
    "# train sets\n",
    "X_train, X_rem, y_train, y_rem = train_test_split(X, y, test_size=0.4, random_state=42)\n",
    "\n",
    "X_valid, X_test, y_valid, y_test = train_test_split(X_rem,y_rem, test_size=0.5, random_state= 42)"
   ]
  },
  {
   "cell_type": "code",
   "execution_count": 26,
   "metadata": {},
   "outputs": [],
   "source": [
    "# without tuning models for RandomForst and xgboosting\n",
    "rf = RandomForestClassifier(random_state= 1, n_jobs= -1)\n",
    "xgb = XGBClassifier(random_state =1, n_jobs = -1)\n",
    "dt = DecisionTreeClassifier(random_state= 1)"
   ]
  },
  {
   "cell_type": "code",
   "execution_count": 27,
   "metadata": {},
   "outputs": [
    {
     "name": "stdout",
     "output_type": "stream",
     "text": [
      "CPU times: user 700 ms, sys: 22.4 ms, total: 723 ms\n",
      "Wall time: 553 ms\n"
     ]
    }
   ],
   "source": [
    "%%time\n",
    "# fit the data with rf and make the prediction\n",
    "rf.fit(X_train, y_train)\n",
    "rf_pred = rf.predict(X_test)"
   ]
  },
  {
   "cell_type": "code",
   "execution_count": 28,
   "metadata": {},
   "outputs": [
    {
     "name": "stdout",
     "output_type": "stream",
     "text": [
      "CPU times: user 4 µs, sys: 0 ns, total: 4 µs\n",
      "Wall time: 8.11 µs\n"
     ]
    }
   ],
   "source": [
    "%time\n",
    "# fit the data with xgb and make the prediction\n",
    "xgb.fit(X_train, y_train)\n",
    "xgb_pred = xgb.predict(X_test)"
   ]
  },
  {
   "cell_type": "code",
   "execution_count": 29,
   "metadata": {},
   "outputs": [
    {
     "name": "stdout",
     "output_type": "stream",
     "text": [
      "CPU times: user 25.2 ms, sys: 131 µs, total: 25.3 ms\n",
      "Wall time: 23.8 ms\n"
     ]
    }
   ],
   "source": [
    "%%time\n",
    "dt.fit(X_train, y_train)\n",
    "dt_pred =dt.predict(X_test)"
   ]
  },
  {
   "cell_type": "code",
   "execution_count": 30,
   "metadata": {},
   "outputs": [],
   "source": [
    "def get_test_scores(model_name:str, preds, y_test_data):\n",
    "  '''\n",
    "  Generate a table of test scores.\n",
    "\n",
    "  In: \n",
    "    model_name (string): Your choice\n",
    "    preds: numpy array of test predictions\n",
    "    y_test_data: numpy array of y_test data\n",
    "\n",
    "  Out: \n",
    "    table: A pandas df of precision, recall, f1, and accuracy scores for your model\n",
    "  '''\n",
    "\n",
    "  #create empty datframe\n",
    "  table = pd.DataFrame()\n",
    "\n",
    "  # recall\n",
    "  recall = recall_score(y_test_data, preds)\n",
    "\n",
    "  #precision\n",
    "  precision = precision_score(y_test_data, preds)\n",
    "\n",
    "  #f1\n",
    "  f1 = f1_score(y_test_data, preds)\n",
    "\n",
    "  # accuracy\n",
    "  accuracy = accuracy_score(y_test_data, preds)\n",
    "  \n",
    "  table = table.append({\n",
    "      \n",
    "      \"model\" : model_name,\n",
    "      \"precision\": precision,\n",
    "      \"recall\" : recall,\n",
    "      \"f1\" : f1,\n",
    "      \"accuracy\": accuracy\n",
    "      \n",
    "  },\n",
    "    ignore_index=True)\n",
    "  return table"
   ]
  },
  {
   "cell_type": "code",
   "execution_count": 31,
   "metadata": {},
   "outputs": [
    {
     "data": {
      "text/html": [
       "<div>\n",
       "<style scoped>\n",
       "    .dataframe tbody tr th:only-of-type {\n",
       "        vertical-align: middle;\n",
       "    }\n",
       "\n",
       "    .dataframe tbody tr th {\n",
       "        vertical-align: top;\n",
       "    }\n",
       "\n",
       "    .dataframe thead th {\n",
       "        text-align: right;\n",
       "    }\n",
       "</style>\n",
       "<table border=\"1\" class=\"dataframe\">\n",
       "  <thead>\n",
       "    <tr style=\"text-align: right;\">\n",
       "      <th></th>\n",
       "      <th>model</th>\n",
       "      <th>precision</th>\n",
       "      <th>recall</th>\n",
       "      <th>f1</th>\n",
       "      <th>accuracy</th>\n",
       "    </tr>\n",
       "  </thead>\n",
       "  <tbody>\n",
       "    <tr>\n",
       "      <th>0</th>\n",
       "      <td>Random Forest</td>\n",
       "      <td>0.975936</td>\n",
       "      <td>0.921717</td>\n",
       "      <td>0.948052</td>\n",
       "      <td>0.983326</td>\n",
       "    </tr>\n",
       "    <tr>\n",
       "      <th>0</th>\n",
       "      <td>XGBoosting</td>\n",
       "      <td>0.968338</td>\n",
       "      <td>0.926768</td>\n",
       "      <td>0.947097</td>\n",
       "      <td>0.982910</td>\n",
       "    </tr>\n",
       "    <tr>\n",
       "      <th>0</th>\n",
       "      <td>Decision Tree</td>\n",
       "      <td>0.912500</td>\n",
       "      <td>0.921717</td>\n",
       "      <td>0.917085</td>\n",
       "      <td>0.972489</td>\n",
       "    </tr>\n",
       "  </tbody>\n",
       "</table>\n",
       "</div>"
      ],
      "text/plain": [
       "           model  precision    recall        f1  accuracy\n",
       "0  Random Forest   0.975936  0.921717  0.948052  0.983326\n",
       "0     XGBoosting   0.968338  0.926768  0.947097  0.982910\n",
       "0  Decision Tree   0.912500  0.921717  0.917085  0.972489"
      ]
     },
     "execution_count": 31,
     "metadata": {},
     "output_type": "execute_result"
    }
   ],
   "source": [
    "#get test scores of each model\n",
    "rf_scores = get_test_scores(\"Random Forest\", rf_pred, y_test)\n",
    "xgb_scores = get_test_scores(\"XGBoosting\", xgb_pred, y_test)\n",
    "dt_scores = get_test_scores(\"Decision Tree\", dt_pred, y_test)\n",
    "\n",
    "# merge these table as one\n",
    "scores = pd.concat([rf_scores, xgb_scores, dt_scores])\n",
    "scores"
   ]
  },
  {
   "cell_type": "code",
   "execution_count": 32,
   "metadata": {
    "scrolled": false
   },
   "outputs": [
    {
     "name": "stdout",
     "output_type": "stream",
     "text": [
      "Random Forest confusion matrix\n"
     ]
    },
    {
     "data": {
      "image/png": "[encoded data removed]",
      "text/plain": [
       "<Figure size 432x288 with 2 Axes>"
      ]
     },
     "metadata": {
      "needs_background": "light"
     },
     "output_type": "display_data"
    },
    {
     "name": "stdout",
     "output_type": "stream",
     "text": [
      "XGBoosting confusion matrix\n"
     ]
    },
    {
     "data": {
      "image/png": "[encoded data removed]",
      "text/plain": [
       "<Figure size 432x288 with 2 Axes>"
      ]
     },
     "metadata": {
      "needs_background": "light"
     },
     "output_type": "display_data"
    },
    {
     "name": "stdout",
     "output_type": "stream",
     "text": [
      "Decision Tree confusion matrix\n"
     ]
    },
    {
     "data": {
      "image/png": "[encoded data removed]",
      "text/plain": [
       "<Figure size 432x288 with 2 Axes>"
      ]
     },
     "metadata": {
      "needs_background": "light"
     },
     "output_type": "display_data"
    }
   ],
   "source": [
    "#create a dictionary with model name and its prediction\n",
    "model_dict = {\n",
    "    'Random Forest': rf_pred,\n",
    "    'XGBoosting': xgb_pred,\n",
    "    'Decision Tree': dt_pred\n",
    "}\n",
    "\n",
    "#loop through model_dic and plot confusion matrix\n",
    "for k,v in model_dict.items():\n",
    "    print(\"{} confusion matrix\".format(k))\n",
    "    conf = confusion_matrix(y_test, v)\n",
    "    fig = ConfusionMatrixDisplay(conf, rf.classes_)\n",
    "    fig.plot()\n",
    "    plt.show()"
   ]
  },
  {
   "cell_type": "markdown",
   "metadata": {},
   "source": [
    "True negative(TN): the model correctly predicts the employee stays in the company\n",
    "\n",
    "True positive(TP): the model correctly predicts the employee left with the company\n",
    "\n",
    "False negative(FN): the model predicts the employee stay but actually left the company\n",
    "\n",
    "False positive(FP): the model predicts the employee left but actually stay with the company\n",
    "\n",
    "For this project, we are more interested in False negative, since the model is to predict left employees in the company. We would like to minimize the value of the wrong prediction of staying employees but actually left, which refers to recall defined as TP/(TP+FN). All three models have similar scores on recall and a high accuracy rate with good scores of f1. Let's try tuning hyperparameters of models if there are any improvements."
   ]
  },
  {
   "cell_type": "code",
   "execution_count": 33,
   "metadata": {},
   "outputs": [],
   "source": [
    "#tuning hyperparamters of decision tree\n",
    "tree_param = {\n",
    "    \n",
    "    'max_depth':[4, 5,'None'],\n",
    "    'min_samples_split': [2,3,4],\n",
    "    'min_samples_leaf':[2,3,4]\n",
    "}\n",
    "\n",
    "#dictionary for evaluation metric\n",
    "scoring = {'f1', 'recall', 'precision', 'accuracy'}\n",
    "\n",
    "#create customized cv for tree\n",
    "cv_tree = GridSearchCV(estimator=dt, param_grid= tree_param, scoring=scoring, cv =5, refit='recall')\n"
   ]
  },
  {
   "cell_type": "code",
   "execution_count": 34,
   "metadata": {},
   "outputs": [
    {
     "name": "stdout",
     "output_type": "stream",
     "text": [
      "CPU times: user 3 µs, sys: 1e+03 ns, total: 4 µs\n",
      "Wall time: 7.87 µs\n"
     ]
    },
    {
     "data": {
      "text/plain": [
       "GridSearchCV(cv=5, error_score=nan,\n",
       "             estimator=DecisionTreeClassifier(ccp_alpha=0.0, class_weight=None,\n",
       "                                              criterion='gini', max_depth=None,\n",
       "                                              max_features=None,\n",
       "                                              max_leaf_nodes=None,\n",
       "                                              min_impurity_decrease=0.0,\n",
       "                                              min_impurity_split=None,\n",
       "                                              min_samples_leaf=1,\n",
       "                                              min_samples_split=2,\n",
       "                                              min_weight_fraction_leaf=0.0,\n",
       "                                              presort='deprecated',\n",
       "                                              random_state=1, splitter='best'),\n",
       "             iid='deprecated', n_jobs=None,\n",
       "             param_grid={'max_depth': [4, 5, 'None'],\n",
       "                         'min_samples_leaf': [2, 3, 4],\n",
       "                         'min_samples_split': [2, 3, 4]},\n",
       "             pre_dispatch='2*n_jobs', refit='recall', return_train_score=False,\n",
       "             scoring={'recall', 'f1', 'precision', 'accuracy'}, verbose=0)"
      ]
     },
     "execution_count": 34,
     "metadata": {},
     "output_type": "execute_result"
    }
   ],
   "source": [
    "%time\n",
    "#fit cv_tree\n",
    "cv_tree.fit(X_train, y_train)"
   ]
  },
  {
   "cell_type": "code",
   "execution_count": 35,
   "metadata": {},
   "outputs": [
    {
     "data": {
      "text/plain": [
       "0.920675105485232"
      ]
     },
     "execution_count": 35,
     "metadata": {},
     "output_type": "execute_result"
    }
   ],
   "source": [
    "#find the best score \n",
    "cv_tree.best_score_"
   ]
  },
  {
   "cell_type": "code",
   "execution_count": 36,
   "metadata": {},
   "outputs": [
    {
     "data": {
      "text/plain": [
       "{'max_depth': 4, 'min_samples_leaf': 2, 'min_samples_split': 2}"
      ]
     },
     "execution_count": 36,
     "metadata": {},
     "output_type": "execute_result"
    }
   ],
   "source": [
    "#find the best parameters\n",
    "cv_tree.best_params_"
   ]
  },
  {
   "cell_type": "code",
   "execution_count": 37,
   "metadata": {},
   "outputs": [],
   "source": [
    "#tuning random forest\n",
    "rf_params = {\n",
    "    'n_estimators':[50, 75, 100, 150],\n",
    "    'min_samples_split': [2,3,4],\n",
    "    'min_samples_leaf':[2,3,4],\n",
    "     'max_features' : ['sqrt', None]\n",
    "    \n",
    "}\n",
    "\n",
    "cv_rf = GridSearchCV(estimator= rf, param_grid= rf_params, scoring=scoring, cv =5, refit=\"recall\" , n_jobs=-1, verbose=1)"
   ]
  },
  {
   "cell_type": "code",
   "execution_count": 38,
   "metadata": {},
   "outputs": [
    {
     "name": "stdout",
     "output_type": "stream",
     "text": [
      "CPU times: user 4 µs, sys: 1 µs, total: 5 µs\n",
      "Wall time: 10 µs\n",
      "Fitting 5 folds for each of 72 candidates, totalling 360 fits\n"
     ]
    },
    {
     "name": "stderr",
     "output_type": "stream",
     "text": [
      "[Parallel(n_jobs=-1)]: Using backend LokyBackend with 2 concurrent workers.\n",
      "[Parallel(n_jobs=-1)]: Done  46 tasks      | elapsed:   12.1s\n",
      "[Parallel(n_jobs=-1)]: Done 196 tasks      | elapsed:   53.8s\n",
      "[Parallel(n_jobs=-1)]: Done 360 out of 360 | elapsed:  2.4min finished\n"
     ]
    },
    {
     "data": {
      "text/plain": [
       "GridSearchCV(cv=5, error_score=nan,\n",
       "             estimator=RandomForestClassifier(bootstrap=True, ccp_alpha=0.0,\n",
       "                                              class_weight=None,\n",
       "                                              criterion='gini', max_depth=None,\n",
       "                                              max_features='auto',\n",
       "                                              max_leaf_nodes=None,\n",
       "                                              max_samples=None,\n",
       "                                              min_impurity_decrease=0.0,\n",
       "                                              min_impurity_split=None,\n",
       "                                              min_samples_leaf=1,\n",
       "                                              min_samples_split=2,\n",
       "                                              min_weight_fraction_leaf=0.0,\n",
       "                                              n_estimators=100, n_jobs=-1,\n",
       "                                              oob_score=False, random_state=1,\n",
       "                                              verbose=0, warm_start=False),\n",
       "             iid='deprecated', n_jobs=-1,\n",
       "             param_grid={'max_features': ['sqrt', None],\n",
       "                         'min_samples_leaf': [2, 3, 4],\n",
       "                         'min_samples_split': [2, 3, 4],\n",
       "                         'n_estimators': [50, 75, 100, 150]},\n",
       "             pre_dispatch='2*n_jobs', refit='recall', return_train_score=False,\n",
       "             scoring={'recall', 'f1', 'precision', 'accuracy'}, verbose=1)"
      ]
     },
     "execution_count": 38,
     "metadata": {},
     "output_type": "execute_result"
    }
   ],
   "source": [
    "%time\n",
    "#fit cv_rf\n",
    "cv_rf.fit(X_train, y_train)"
   ]
  },
  {
   "cell_type": "code",
   "execution_count": 39,
   "metadata": {},
   "outputs": [
    {
     "data": {
      "text/plain": [
       "0.9147679324894515"
      ]
     },
     "execution_count": 39,
     "metadata": {},
     "output_type": "execute_result"
    }
   ],
   "source": [
    "#find the best score \n",
    "cv_rf.best_score_"
   ]
  },
  {
   "cell_type": "code",
   "execution_count": 40,
   "metadata": {},
   "outputs": [
    {
     "data": {
      "text/plain": [
       "{'max_features': None,\n",
       " 'min_samples_leaf': 2,\n",
       " 'min_samples_split': 2,\n",
       " 'n_estimators': 50}"
      ]
     },
     "execution_count": 40,
     "metadata": {},
     "output_type": "execute_result"
    }
   ],
   "source": [
    "#find the best parameters\n",
    "cv_rf.best_params_"
   ]
  },
  {
   "cell_type": "code",
   "execution_count": 41,
   "metadata": {},
   "outputs": [],
   "source": [
    "#tuning xgb\n",
    "xgb_params = {\n",
    "    'n_estimators':[100, 150, 200, 250],\n",
    "    'learning_rate': [0.01, 0.1, 0.2],\n",
    "    'colsample_bytree':[0.3, 0.5, 0.7 ],\n",
    "     'max_depth' : [3,4,5]\n",
    "    \n",
    "}\n",
    "\n",
    "cv_xgb = GridSearchCV(estimator=xgb , param_grid= xgb_params, scoring=scoring, cv =5, refit=\"recall\" , n_jobs=-1, verbose=1)"
   ]
  },
  {
   "cell_type": "code",
   "execution_count": 42,
   "metadata": {},
   "outputs": [
    {
     "name": "stdout",
     "output_type": "stream",
     "text": [
      "CPU times: user 4 µs, sys: 0 ns, total: 4 µs\n",
      "Wall time: 7.63 µs\n",
      "Fitting 5 folds for each of 108 candidates, totalling 540 fits\n"
     ]
    },
    {
     "name": "stderr",
     "output_type": "stream",
     "text": [
      "[Parallel(n_jobs=-1)]: Using backend LokyBackend with 2 concurrent workers.\n",
      "[Parallel(n_jobs=-1)]: Done  46 tasks      | elapsed:   14.2s\n",
      "[Parallel(n_jobs=-1)]: Done 196 tasks      | elapsed:  1.1min\n",
      "[Parallel(n_jobs=-1)]: Done 446 tasks      | elapsed:  2.6min\n",
      "[Parallel(n_jobs=-1)]: Done 540 out of 540 | elapsed:  3.3min finished\n"
     ]
    },
    {
     "data": {
      "text/plain": [
       "GridSearchCV(cv=5, error_score=nan,\n",
       "             estimator=XGBClassifier(base_score=0.5, booster='gbtree',\n",
       "                                     callbacks=None, colsample_bylevel=1,\n",
       "                                     colsample_bynode=1, colsample_bytree=1,\n",
       "                                     early_stopping_rounds=None,\n",
       "                                     enable_categorical=False, eval_metric=None,\n",
       "                                     gamma=0, gpu_id=-1,\n",
       "                                     grow_policy='depthwise',\n",
       "                                     importance_type=None,\n",
       "                                     interaction_constraints='',\n",
       "                                     learning_rate=0.300000012, ma...\n",
       "                                     objective='binary:logistic',\n",
       "                                     predictor='auto', random_state=1,\n",
       "                                     reg_alpha=0, ...),\n",
       "             iid='deprecated', n_jobs=-1,\n",
       "             param_grid={'colsample_bytree': [0.3, 0.5, 0.7],\n",
       "                         'learning_rate': [0.01, 0.1, 0.2],\n",
       "                         'max_depth': [3, 4, 5],\n",
       "                         'n_estimators': [100, 150, 200, 250]},\n",
       "             pre_dispatch='2*n_jobs', refit='recall', return_train_score=False,\n",
       "             scoring={'recall', 'f1', 'precision', 'accuracy'}, verbose=1)"
      ]
     },
     "execution_count": 42,
     "metadata": {},
     "output_type": "execute_result"
    }
   ],
   "source": [
    "%time\n",
    "#fit cv_xgb\n",
    "cv_xgb.fit(X_train, y_train)"
   ]
  },
  {
   "cell_type": "code",
   "execution_count": 43,
   "metadata": {},
   "outputs": [
    {
     "data": {
      "text/plain": [
       "0.9240506329113923"
      ]
     },
     "execution_count": 43,
     "metadata": {},
     "output_type": "execute_result"
    }
   ],
   "source": [
    "#find the best score \n",
    "cv_xgb.best_score_"
   ]
  },
  {
   "cell_type": "code",
   "execution_count": 44,
   "metadata": {},
   "outputs": [
    {
     "data": {
      "text/plain": [
       "{'colsample_bytree': 0.5,\n",
       " 'learning_rate': 0.1,\n",
       " 'max_depth': 3,\n",
       " 'n_estimators': 200}"
      ]
     },
     "execution_count": 44,
     "metadata": {},
     "output_type": "execute_result"
    }
   ],
   "source": [
    "#find the best parameters\n",
    "cv_xgb.best_params_"
   ]
  },
  {
   "cell_type": "code",
   "execution_count": 45,
   "metadata": {},
   "outputs": [
    {
     "data": {
      "text/html": [
       "<div>\n",
       "<style scoped>\n",
       "    .dataframe tbody tr th:only-of-type {\n",
       "        vertical-align: middle;\n",
       "    }\n",
       "\n",
       "    .dataframe tbody tr th {\n",
       "        vertical-align: top;\n",
       "    }\n",
       "\n",
       "    .dataframe thead th {\n",
       "        text-align: right;\n",
       "    }\n",
       "</style>\n",
       "<table border=\"1\" class=\"dataframe\">\n",
       "  <thead>\n",
       "    <tr style=\"text-align: right;\">\n",
       "      <th></th>\n",
       "      <th>model</th>\n",
       "      <th>precision</th>\n",
       "      <th>recall</th>\n",
       "      <th>f1</th>\n",
       "      <th>accuracy</th>\n",
       "    </tr>\n",
       "  </thead>\n",
       "  <tbody>\n",
       "    <tr>\n",
       "      <th>0</th>\n",
       "      <td>Random Forest</td>\n",
       "      <td>0.975936</td>\n",
       "      <td>0.921717</td>\n",
       "      <td>0.948052</td>\n",
       "      <td>0.983326</td>\n",
       "    </tr>\n",
       "    <tr>\n",
       "      <th>0</th>\n",
       "      <td>XGBoosting</td>\n",
       "      <td>0.968338</td>\n",
       "      <td>0.926768</td>\n",
       "      <td>0.947097</td>\n",
       "      <td>0.982910</td>\n",
       "    </tr>\n",
       "    <tr>\n",
       "      <th>0</th>\n",
       "      <td>Decision Tree</td>\n",
       "      <td>0.912500</td>\n",
       "      <td>0.921717</td>\n",
       "      <td>0.917085</td>\n",
       "      <td>0.972489</td>\n",
       "    </tr>\n",
       "    <tr>\n",
       "      <th>0</th>\n",
       "      <td>Tuned Random Forest</td>\n",
       "      <td>0.901720</td>\n",
       "      <td>0.926768</td>\n",
       "      <td>0.914072</td>\n",
       "      <td>0.971238</td>\n",
       "    </tr>\n",
       "    <tr>\n",
       "      <th>0</th>\n",
       "      <td>Tuned XGBoosting</td>\n",
       "      <td>0.968586</td>\n",
       "      <td>0.934343</td>\n",
       "      <td>0.951157</td>\n",
       "      <td>0.984160</td>\n",
       "    </tr>\n",
       "    <tr>\n",
       "      <th>0</th>\n",
       "      <td>Tuned Decision Tree</td>\n",
       "      <td>0.901720</td>\n",
       "      <td>0.926768</td>\n",
       "      <td>0.914072</td>\n",
       "      <td>0.971238</td>\n",
       "    </tr>\n",
       "  </tbody>\n",
       "</table>\n",
       "</div>"
      ],
      "text/plain": [
       "                 model  precision    recall        f1  accuracy\n",
       "0        Random Forest   0.975936  0.921717  0.948052  0.983326\n",
       "0           XGBoosting   0.968338  0.926768  0.947097  0.982910\n",
       "0        Decision Tree   0.912500  0.921717  0.917085  0.972489\n",
       "0  Tuned Random Forest   0.901720  0.926768  0.914072  0.971238\n",
       "0     Tuned XGBoosting   0.968586  0.934343  0.951157  0.984160\n",
       "0  Tuned Decision Tree   0.901720  0.926768  0.914072  0.971238"
      ]
     },
     "execution_count": 45,
     "metadata": {},
     "output_type": "execute_result"
    }
   ],
   "source": [
    "#get the predictions of each model with the best cv parameters\n",
    "best_dt_pred = cv_tree.best_estimator_.predict(X_test)\n",
    "best_rf_pred = cv_rf.best_estimator_.predict(X_test)\n",
    "best_xgb_pred = cv_xgb.best_estimator_.predict(X_test)\n",
    "\n",
    "# get relevant socre\n",
    "tuned_rf_scores = get_test_scores(\"Tuned Random Forest\", best_dt_pred, y_test)\n",
    "tuned_xgb_scores = get_test_scores(\"Tuned XGBoosting\", best_xgb_pred, y_test)\n",
    "tuned_dt_scores = get_test_scores(\"Tuned Decision Tree\", best_dt_pred, y_test)\n",
    "\n",
    "#combine these scores \n",
    "scores = pd.concat([scores, tuned_rf_scores, tuned_xgb_scores, tuned_dt_scores])\n",
    "scores"
   ]
  },
  {
   "cell_type": "code",
   "execution_count": 46,
   "metadata": {},
   "outputs": [
    {
     "data": {
      "text/html": [
       "<div>\n",
       "<style scoped>\n",
       "    .dataframe tbody tr th:only-of-type {\n",
       "        vertical-align: middle;\n",
       "    }\n",
       "\n",
       "    .dataframe tbody tr th {\n",
       "        vertical-align: top;\n",
       "    }\n",
       "\n",
       "    .dataframe thead th {\n",
       "        text-align: right;\n",
       "    }\n",
       "</style>\n",
       "<table border=\"1\" class=\"dataframe\">\n",
       "  <thead>\n",
       "    <tr style=\"text-align: right;\">\n",
       "      <th></th>\n",
       "      <th>model</th>\n",
       "      <th>precision</th>\n",
       "      <th>recall</th>\n",
       "      <th>f1</th>\n",
       "      <th>accuracy</th>\n",
       "    </tr>\n",
       "  </thead>\n",
       "  <tbody>\n",
       "    <tr>\n",
       "      <th>0</th>\n",
       "      <td>Tuned Random Forest</td>\n",
       "      <td>0.989247</td>\n",
       "      <td>0.897561</td>\n",
       "      <td>0.941176</td>\n",
       "      <td>0.980817</td>\n",
       "    </tr>\n",
       "    <tr>\n",
       "      <th>0</th>\n",
       "      <td>Tuned XGBoosting</td>\n",
       "      <td>0.965969</td>\n",
       "      <td>0.900000</td>\n",
       "      <td>0.931818</td>\n",
       "      <td>0.977481</td>\n",
       "    </tr>\n",
       "    <tr>\n",
       "      <th>0</th>\n",
       "      <td>Tuned Decision Tree</td>\n",
       "      <td>0.899015</td>\n",
       "      <td>0.890244</td>\n",
       "      <td>0.894608</td>\n",
       "      <td>0.964137</td>\n",
       "    </tr>\n",
       "  </tbody>\n",
       "</table>\n",
       "</div>"
      ],
      "text/plain": [
       "                 model  precision    recall        f1  accuracy\n",
       "0  Tuned Random Forest   0.989247  0.897561  0.941176  0.980817\n",
       "0     Tuned XGBoosting   0.965969  0.900000  0.931818  0.977481\n",
       "0  Tuned Decision Tree   0.899015  0.890244  0.894608  0.964137"
      ]
     },
     "execution_count": 46,
     "metadata": {},
     "output_type": "execute_result"
    }
   ],
   "source": [
    "# validate the tuned model\n",
    "rf_valid_pred = cv_rf.best_estimator_.predict(X_valid)\n",
    "xgb_valid_pred = cv_xgb.best_estimator_.predict(X_valid)\n",
    "dt_valid_pred = cv_tree.best_estimator_.predict(X_valid)\n",
    "\n",
    "\n",
    "\n",
    "#get valid scores of each tuned model\n",
    "rf_scores_valid = get_test_scores(\"Tuned Random Forest\", rf_valid_pred, y_valid)\n",
    "xgb_scores_valid = get_test_scores(\"Tuned XGBoosting\", xgb_valid_pred, y_valid)\n",
    "dt_scores_valid = get_test_scores(\"Tuned Decision Tree\", dt_valid_pred, y_valid)\n",
    "\n",
    "\n",
    "# merge these table as one\n",
    "scores_valid = pd.concat([rf_scores_valid, xgb_scores_valid, dt_scores_valid])\n",
    "scores_valid"
   ]
  },
  {
   "cell_type": "code",
   "execution_count": 47,
   "metadata": {},
   "outputs": [
    {
     "data": {
      "image/png": "[encoded data removed]",
      "text/plain": [
       "<Figure size 432x288 with 1 Axes>"
      ]
     },
     "metadata": {
      "needs_background": "light"
     },
     "output_type": "display_data"
    }
   ],
   "source": [
    "rf_df = pd.DataFrame({\"Feature\": X.columns, \"Value\" :cv_rf.best_estimator_.feature_importances_})\n",
    "sns.barplot(\n",
    "    data =rf_df.sort_values(by='Value', ascending =False)[:10],\n",
    "    y = \"Feature\",\n",
    "    x = \"Value\",\n",
    "    orient= \"h\"\n",
    ")\n",
    "plt.title(\"Top 10 important features on random forest tree\")\n",
    "plt.show()"
   ]
  },
  {
   "cell_type": "code",
   "execution_count": 48,
   "metadata": {},
   "outputs": [
    {
     "data": {
      "image/png": "[encoded data removed]",
      "text/plain": [
       "<Figure size 432x288 with 1 Axes>"
      ]
     },
     "metadata": {
      "needs_background": "light"
     },
     "output_type": "display_data"
    }
   ],
   "source": [
    "#check important features of xgb\n",
    "plot_importance(cv_xgb.best_estimator_, max_num_features=10)\n",
    "plt.show()"
   ]
  },
  {
   "cell_type": "markdown",
   "metadata": {},
   "source": [
    "💭 \n",
    "### Reflect on these questions as you complete the executing stage.\n",
    "\n",
    "- What key insights emerged from your model(s)?\n",
    "- What business recommendations do you propose based on the models built?\n",
    "- What potential recommendations would you make to your manager/company?\n",
    "- Do you think your model could be improved? Why or why not? How? \n",
    "- Given what you know about the data and the models you were using, what other questions could you address for the team? \n",
    "- What resources do you find yourself using as you complete this stage? (Make sure to include the links.)\n",
    "- Do you have any ethical considerations in this stage?"
   ]
  },
  {
   "cell_type": "markdown",
   "metadata": {},
   "source": [
    "- XGBoosting and randomforest show the same top 5 features with different sequences on satisfaction_level, average_monthly_hours, last_evaluation, and number_project. These features would be beneficial for the HR team to review and investigate the reason of left employees in different departments.\n",
    "- The company should spend resources to improve on working culture and HR policies on work-life balance. At least half of the left employees work overtime without any promotion in the last 5 years. There is a high chance that employees quit their job if they work more than 250 hours on average per month without recognizing the value of work effort due to low satisfaction levels.\n",
    "- The feedback on working culture from employees is essential to develop a better company policy on work-life balance culture. Updating relevant policies and reward systems to evaluate and compare the same metric if there are any improvements on fewer left employees.\n",
    "- The information on measuring satisfaction levels and the last evaluation on work performance would be helpful for model improvements to identify factors on left employees and develop better working culture.\n",
    "- How often the company collects feedback from employees on working culture? How is satisfaction/evaluation measured? Why do some departments tend to work overtime? How does the company help employees who work overtime with a performance less than average? What is the current policy of HR on employees' work-life balance?\n",
    "- The sklearn API on models and functions.\n",
    "- Every department has different status on left employees. The HR policy should be regularly updated based on department situations."
   ]
  },
  {
   "cell_type": "markdown",
   "metadata": {
    "id": "GXrsxT498Z7h"
   },
   "source": [
    "### Summary of model results\n",
    "There is a slight improvement in tree-based models based on recall evaluation after tuning models. These models are decision tree, random forest, and xgboosting that achieve at least 0.97 accuracy, 0.92 recall, and 0.91 f1 scores. XGBoosting performs the best on testing datasets among models. After validating three models, XGBoosting has a marginally higher value of recall than the other two models, which have around 0.93 f1 score, 0.98 accuracy, and 0.90 recall.\n",
    "\n",
    "Comparing important features between random forest and xgboosting, these two models show the same top 5 features with different orders. These features are satisfaction_level, average_monthly_hours, last_evaluation, and number_project.Even though we do not know how the two models come out with these important features exactly, these features are essential references for the HR department to do further investigation to reduce the number of left employees and promote better working culture and policies."
   ]
  },
  {
   "cell_type": "markdown",
   "metadata": {
    "id": "9MOMqelNLn2v"
   },
   "source": [
    "### Conclusion, Recommendations, Next Steps\n",
    "\n",
    "- XGBoosting and randomforest tree perform well on both testing and validation sets.Recall and accuracy and F1 score are high. The model can successfully classify left employees.\n",
    "\n",
    "- Both models show the same top 5 important features, satisfaction_level, average_monthly_hours, last_evaluation, and number_project. Additional information on satisfaction level and last evaluation would be more helpful to get to know more insights into what factors to determine employees' left."
   ]
  }
 ],
 "metadata": {
  "colab": {
   "provenance": []
  },
  "gpuClass": "standard",
  "kernelspec": {
   "display_name": "Python 3",
   "language": "python",
   "name": "python3"
  },
  "language_info": {
   "codemirror_mode": {
    "name": "ipython",
    "version": 3
   },
   "file_extension": ".py",
   "mimetype": "text/x-python",
   "name": "python",
   "nbconvert_exporter": "python",
   "pygments_lexer": "ipython3",
   "version": "3.7.6"
  }
 },
 "nbformat": 4,
 "nbformat_minor": 1
}
